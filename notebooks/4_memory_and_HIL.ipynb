{
 "cells": [
  {
   "cell_type": "markdown",
   "metadata": {},
   "source": [
    "# Section 4: Memory and Human-in-the-Loop"
   ]
  },
  {
   "cell_type": "markdown",
   "metadata": {},
   "source": [
    "![HIL](../images/hil.png)\n",
    "\n",
    "In this section, we'll cover a series of topics that are important to leveraging the full power of LangGraph. Here are the topics\n",
    "\n",
    "1. Memory: How can I persist information in our app across invocations?\n",
    "    - Local memory\n",
    "    - Threads\n",
    "    - External memory\n",
    "2. Breakpoints and Human-in-the-loop: How does LangGraph use Memory to enable HIL workflows\n",
    "3. [Optional] Streaming: How does streaming work in LangGraph\n",
    "\n",
    "After this section, we'll take a closer look at memory and HIL in LangGraph Studio, as well as production monitoring in LangSmith."
   ]
  },
  {
   "cell_type": "markdown",
   "metadata": {},
   "source": [
    "## Setup"
   ]
  },
  {
   "cell_type": "markdown",
   "metadata": {},
   "source": [
    "You can install the required packages directly to this notebook environment if you cannot use virtual environments for some reason."
   ]
  },
  {
   "cell_type": "code",
   "execution_count": 1,
   "metadata": {},
   "outputs": [
    {
     "name": "stdout",
     "output_type": "stream",
     "text": [
      "Requirement already satisfied: langgraph in /Users/nickhuang/Desktop/langgraph-101/lg-101-env/lib/python3.12/site-packages (0.2.70)\n",
      "Requirement already satisfied: langchain-core!=0.3.0,!=0.3.1,!=0.3.10,!=0.3.11,!=0.3.12,!=0.3.13,!=0.3.14,!=0.3.15,!=0.3.16,!=0.3.17,!=0.3.18,!=0.3.19,!=0.3.2,!=0.3.20,!=0.3.21,!=0.3.22,!=0.3.3,!=0.3.4,!=0.3.5,!=0.3.6,!=0.3.7,!=0.3.8,!=0.3.9,<0.4.0,>=0.2.43 in /Users/nickhuang/Desktop/langgraph-101/lg-101-env/lib/python3.12/site-packages (from langgraph) (0.3.34)\n",
      "Requirement already satisfied: langgraph-checkpoint<3.0.0,>=2.0.10 in /Users/nickhuang/Desktop/langgraph-101/lg-101-env/lib/python3.12/site-packages (from langgraph) (2.0.12)\n",
      "Requirement already satisfied: langgraph-sdk<0.2.0,>=0.1.42 in /Users/nickhuang/Desktop/langgraph-101/lg-101-env/lib/python3.12/site-packages (from langgraph) (0.1.51)\n",
      "Requirement already satisfied: langsmith<0.4,>=0.1.125 in /Users/nickhuang/Desktop/langgraph-101/lg-101-env/lib/python3.12/site-packages (from langchain-core!=0.3.0,!=0.3.1,!=0.3.10,!=0.3.11,!=0.3.12,!=0.3.13,!=0.3.14,!=0.3.15,!=0.3.16,!=0.3.17,!=0.3.18,!=0.3.19,!=0.3.2,!=0.3.20,!=0.3.21,!=0.3.22,!=0.3.3,!=0.3.4,!=0.3.5,!=0.3.6,!=0.3.7,!=0.3.8,!=0.3.9,<0.4.0,>=0.2.43->langgraph) (0.3.8)\n",
      "Requirement already satisfied: tenacity!=8.4.0,<10.0.0,>=8.1.0 in /Users/nickhuang/Desktop/langgraph-101/lg-101-env/lib/python3.12/site-packages (from langchain-core!=0.3.0,!=0.3.1,!=0.3.10,!=0.3.11,!=0.3.12,!=0.3.13,!=0.3.14,!=0.3.15,!=0.3.16,!=0.3.17,!=0.3.18,!=0.3.19,!=0.3.2,!=0.3.20,!=0.3.21,!=0.3.22,!=0.3.3,!=0.3.4,!=0.3.5,!=0.3.6,!=0.3.7,!=0.3.8,!=0.3.9,<0.4.0,>=0.2.43->langgraph) (8.5.0)\n",
      "Requirement already satisfied: jsonpatch<2.0,>=1.33 in /Users/nickhuang/Desktop/langgraph-101/lg-101-env/lib/python3.12/site-packages (from langchain-core!=0.3.0,!=0.3.1,!=0.3.10,!=0.3.11,!=0.3.12,!=0.3.13,!=0.3.14,!=0.3.15,!=0.3.16,!=0.3.17,!=0.3.18,!=0.3.19,!=0.3.2,!=0.3.20,!=0.3.21,!=0.3.22,!=0.3.3,!=0.3.4,!=0.3.5,!=0.3.6,!=0.3.7,!=0.3.8,!=0.3.9,<0.4.0,>=0.2.43->langgraph) (1.33)\n",
      "Requirement already satisfied: PyYAML>=5.3 in /Users/nickhuang/Desktop/langgraph-101/lg-101-env/lib/python3.12/site-packages (from langchain-core!=0.3.0,!=0.3.1,!=0.3.10,!=0.3.11,!=0.3.12,!=0.3.13,!=0.3.14,!=0.3.15,!=0.3.16,!=0.3.17,!=0.3.18,!=0.3.19,!=0.3.2,!=0.3.20,!=0.3.21,!=0.3.22,!=0.3.3,!=0.3.4,!=0.3.5,!=0.3.6,!=0.3.7,!=0.3.8,!=0.3.9,<0.4.0,>=0.2.43->langgraph) (6.0.2)\n",
      "Requirement already satisfied: packaging<25,>=23.2 in /Users/nickhuang/Desktop/langgraph-101/lg-101-env/lib/python3.12/site-packages (from langchain-core!=0.3.0,!=0.3.1,!=0.3.10,!=0.3.11,!=0.3.12,!=0.3.13,!=0.3.14,!=0.3.15,!=0.3.16,!=0.3.17,!=0.3.18,!=0.3.19,!=0.3.2,!=0.3.20,!=0.3.21,!=0.3.22,!=0.3.3,!=0.3.4,!=0.3.5,!=0.3.6,!=0.3.7,!=0.3.8,!=0.3.9,<0.4.0,>=0.2.43->langgraph) (24.1)\n",
      "Requirement already satisfied: typing-extensions>=4.7 in /Users/nickhuang/Desktop/langgraph-101/lg-101-env/lib/python3.12/site-packages (from langchain-core!=0.3.0,!=0.3.1,!=0.3.10,!=0.3.11,!=0.3.12,!=0.3.13,!=0.3.14,!=0.3.15,!=0.3.16,!=0.3.17,!=0.3.18,!=0.3.19,!=0.3.2,!=0.3.20,!=0.3.21,!=0.3.22,!=0.3.3,!=0.3.4,!=0.3.5,!=0.3.6,!=0.3.7,!=0.3.8,!=0.3.9,<0.4.0,>=0.2.43->langgraph) (4.12.2)\n",
      "Requirement already satisfied: pydantic<3.0.0,>=2.7.4 in /Users/nickhuang/Desktop/langgraph-101/lg-101-env/lib/python3.12/site-packages (from langchain-core!=0.3.0,!=0.3.1,!=0.3.10,!=0.3.11,!=0.3.12,!=0.3.13,!=0.3.14,!=0.3.15,!=0.3.16,!=0.3.17,!=0.3.18,!=0.3.19,!=0.3.2,!=0.3.20,!=0.3.21,!=0.3.22,!=0.3.3,!=0.3.4,!=0.3.5,!=0.3.6,!=0.3.7,!=0.3.8,!=0.3.9,<0.4.0,>=0.2.43->langgraph) (2.9.2)\n",
      "Requirement already satisfied: msgpack<2.0.0,>=1.1.0 in /Users/nickhuang/Desktop/langgraph-101/lg-101-env/lib/python3.12/site-packages (from langgraph-checkpoint<3.0.0,>=2.0.10->langgraph) (1.1.0)\n",
      "Requirement already satisfied: httpx>=0.25.2 in /Users/nickhuang/Desktop/langgraph-101/lg-101-env/lib/python3.12/site-packages (from langgraph-sdk<0.2.0,>=0.1.42->langgraph) (0.27.2)\n",
      "Requirement already satisfied: orjson>=3.10.1 in /Users/nickhuang/Desktop/langgraph-101/lg-101-env/lib/python3.12/site-packages (from langgraph-sdk<0.2.0,>=0.1.42->langgraph) (3.10.7)\n",
      "Requirement already satisfied: anyio in /Users/nickhuang/Desktop/langgraph-101/lg-101-env/lib/python3.12/site-packages (from httpx>=0.25.2->langgraph-sdk<0.2.0,>=0.1.42->langgraph) (4.5.0)\n",
      "Requirement already satisfied: certifi in /Users/nickhuang/Desktop/langgraph-101/lg-101-env/lib/python3.12/site-packages (from httpx>=0.25.2->langgraph-sdk<0.2.0,>=0.1.42->langgraph) (2024.8.30)\n",
      "Requirement already satisfied: httpcore==1.* in /Users/nickhuang/Desktop/langgraph-101/lg-101-env/lib/python3.12/site-packages (from httpx>=0.25.2->langgraph-sdk<0.2.0,>=0.1.42->langgraph) (1.0.5)\n",
      "Requirement already satisfied: idna in /Users/nickhuang/Desktop/langgraph-101/lg-101-env/lib/python3.12/site-packages (from httpx>=0.25.2->langgraph-sdk<0.2.0,>=0.1.42->langgraph) (3.10)\n",
      "Requirement already satisfied: sniffio in /Users/nickhuang/Desktop/langgraph-101/lg-101-env/lib/python3.12/site-packages (from httpx>=0.25.2->langgraph-sdk<0.2.0,>=0.1.42->langgraph) (1.3.1)\n",
      "Requirement already satisfied: h11<0.15,>=0.13 in /Users/nickhuang/Desktop/langgraph-101/lg-101-env/lib/python3.12/site-packages (from httpcore==1.*->httpx>=0.25.2->langgraph-sdk<0.2.0,>=0.1.42->langgraph) (0.14.0)\n",
      "Requirement already satisfied: jsonpointer>=1.9 in /Users/nickhuang/Desktop/langgraph-101/lg-101-env/lib/python3.12/site-packages (from jsonpatch<2.0,>=1.33->langchain-core!=0.3.0,!=0.3.1,!=0.3.10,!=0.3.11,!=0.3.12,!=0.3.13,!=0.3.14,!=0.3.15,!=0.3.16,!=0.3.17,!=0.3.18,!=0.3.19,!=0.3.2,!=0.3.20,!=0.3.21,!=0.3.22,!=0.3.3,!=0.3.4,!=0.3.5,!=0.3.6,!=0.3.7,!=0.3.8,!=0.3.9,<0.4.0,>=0.2.43->langgraph) (3.0.0)\n",
      "Requirement already satisfied: requests<3,>=2 in /Users/nickhuang/Desktop/langgraph-101/lg-101-env/lib/python3.12/site-packages (from langsmith<0.4,>=0.1.125->langchain-core!=0.3.0,!=0.3.1,!=0.3.10,!=0.3.11,!=0.3.12,!=0.3.13,!=0.3.14,!=0.3.15,!=0.3.16,!=0.3.17,!=0.3.18,!=0.3.19,!=0.3.2,!=0.3.20,!=0.3.21,!=0.3.22,!=0.3.3,!=0.3.4,!=0.3.5,!=0.3.6,!=0.3.7,!=0.3.8,!=0.3.9,<0.4.0,>=0.2.43->langgraph) (2.32.3)\n",
      "Requirement already satisfied: requests-toolbelt<2.0.0,>=1.0.0 in /Users/nickhuang/Desktop/langgraph-101/lg-101-env/lib/python3.12/site-packages (from langsmith<0.4,>=0.1.125->langchain-core!=0.3.0,!=0.3.1,!=0.3.10,!=0.3.11,!=0.3.12,!=0.3.13,!=0.3.14,!=0.3.15,!=0.3.16,!=0.3.17,!=0.3.18,!=0.3.19,!=0.3.2,!=0.3.20,!=0.3.21,!=0.3.22,!=0.3.3,!=0.3.4,!=0.3.5,!=0.3.6,!=0.3.7,!=0.3.8,!=0.3.9,<0.4.0,>=0.2.43->langgraph) (1.0.0)\n",
      "Requirement already satisfied: zstandard<0.24.0,>=0.23.0 in /Users/nickhuang/Desktop/langgraph-101/lg-101-env/lib/python3.12/site-packages (from langsmith<0.4,>=0.1.125->langchain-core!=0.3.0,!=0.3.1,!=0.3.10,!=0.3.11,!=0.3.12,!=0.3.13,!=0.3.14,!=0.3.15,!=0.3.16,!=0.3.17,!=0.3.18,!=0.3.19,!=0.3.2,!=0.3.20,!=0.3.21,!=0.3.22,!=0.3.3,!=0.3.4,!=0.3.5,!=0.3.6,!=0.3.7,!=0.3.8,!=0.3.9,<0.4.0,>=0.2.43->langgraph) (0.23.0)\n",
      "Requirement already satisfied: annotated-types>=0.6.0 in /Users/nickhuang/Desktop/langgraph-101/lg-101-env/lib/python3.12/site-packages (from pydantic<3.0.0,>=2.7.4->langchain-core!=0.3.0,!=0.3.1,!=0.3.10,!=0.3.11,!=0.3.12,!=0.3.13,!=0.3.14,!=0.3.15,!=0.3.16,!=0.3.17,!=0.3.18,!=0.3.19,!=0.3.2,!=0.3.20,!=0.3.21,!=0.3.22,!=0.3.3,!=0.3.4,!=0.3.5,!=0.3.6,!=0.3.7,!=0.3.8,!=0.3.9,<0.4.0,>=0.2.43->langgraph) (0.7.0)\n",
      "Requirement already satisfied: pydantic-core==2.23.4 in /Users/nickhuang/Desktop/langgraph-101/lg-101-env/lib/python3.12/site-packages (from pydantic<3.0.0,>=2.7.4->langchain-core!=0.3.0,!=0.3.1,!=0.3.10,!=0.3.11,!=0.3.12,!=0.3.13,!=0.3.14,!=0.3.15,!=0.3.16,!=0.3.17,!=0.3.18,!=0.3.19,!=0.3.2,!=0.3.20,!=0.3.21,!=0.3.22,!=0.3.3,!=0.3.4,!=0.3.5,!=0.3.6,!=0.3.7,!=0.3.8,!=0.3.9,<0.4.0,>=0.2.43->langgraph) (2.23.4)\n",
      "Requirement already satisfied: charset-normalizer<4,>=2 in /Users/nickhuang/Desktop/langgraph-101/lg-101-env/lib/python3.12/site-packages (from requests<3,>=2->langsmith<0.4,>=0.1.125->langchain-core!=0.3.0,!=0.3.1,!=0.3.10,!=0.3.11,!=0.3.12,!=0.3.13,!=0.3.14,!=0.3.15,!=0.3.16,!=0.3.17,!=0.3.18,!=0.3.19,!=0.3.2,!=0.3.20,!=0.3.21,!=0.3.22,!=0.3.3,!=0.3.4,!=0.3.5,!=0.3.6,!=0.3.7,!=0.3.8,!=0.3.9,<0.4.0,>=0.2.43->langgraph) (3.3.2)\n",
      "Requirement already satisfied: urllib3<3,>=1.21.1 in /Users/nickhuang/Desktop/langgraph-101/lg-101-env/lib/python3.12/site-packages (from requests<3,>=2->langsmith<0.4,>=0.1.125->langchain-core!=0.3.0,!=0.3.1,!=0.3.10,!=0.3.11,!=0.3.12,!=0.3.13,!=0.3.14,!=0.3.15,!=0.3.16,!=0.3.17,!=0.3.18,!=0.3.19,!=0.3.2,!=0.3.20,!=0.3.21,!=0.3.22,!=0.3.3,!=0.3.4,!=0.3.5,!=0.3.6,!=0.3.7,!=0.3.8,!=0.3.9,<0.4.0,>=0.2.43->langgraph) (2.2.3)\n",
      "\n",
      "\u001b[1m[\u001b[0m\u001b[34;49mnotice\u001b[0m\u001b[1;39;49m]\u001b[0m\u001b[39;49m A new release of pip is available: \u001b[0m\u001b[31;49m24.2\u001b[0m\u001b[39;49m -> \u001b[0m\u001b[32;49m25.0.1\u001b[0m\n",
      "\u001b[1m[\u001b[0m\u001b[34;49mnotice\u001b[0m\u001b[1;39;49m]\u001b[0m\u001b[39;49m To update, run: \u001b[0m\u001b[32;49mpip install --upgrade pip\u001b[0m\n",
      "Note: you may need to restart the kernel to use updated packages.\n",
      "Requirement already satisfied: langgraph-sdk in /Users/nickhuang/Desktop/langgraph-101/lg-101-env/lib/python3.12/site-packages (0.1.51)\n",
      "Requirement already satisfied: httpx>=0.25.2 in /Users/nickhuang/Desktop/langgraph-101/lg-101-env/lib/python3.12/site-packages (from langgraph-sdk) (0.27.2)\n",
      "Requirement already satisfied: orjson>=3.10.1 in /Users/nickhuang/Desktop/langgraph-101/lg-101-env/lib/python3.12/site-packages (from langgraph-sdk) (3.10.7)\n",
      "Requirement already satisfied: anyio in /Users/nickhuang/Desktop/langgraph-101/lg-101-env/lib/python3.12/site-packages (from httpx>=0.25.2->langgraph-sdk) (4.5.0)\n",
      "Requirement already satisfied: certifi in /Users/nickhuang/Desktop/langgraph-101/lg-101-env/lib/python3.12/site-packages (from httpx>=0.25.2->langgraph-sdk) (2024.8.30)\n",
      "Requirement already satisfied: httpcore==1.* in /Users/nickhuang/Desktop/langgraph-101/lg-101-env/lib/python3.12/site-packages (from httpx>=0.25.2->langgraph-sdk) (1.0.5)\n",
      "Requirement already satisfied: idna in /Users/nickhuang/Desktop/langgraph-101/lg-101-env/lib/python3.12/site-packages (from httpx>=0.25.2->langgraph-sdk) (3.10)\n",
      "Requirement already satisfied: sniffio in /Users/nickhuang/Desktop/langgraph-101/lg-101-env/lib/python3.12/site-packages (from httpx>=0.25.2->langgraph-sdk) (1.3.1)\n",
      "Requirement already satisfied: h11<0.15,>=0.13 in /Users/nickhuang/Desktop/langgraph-101/lg-101-env/lib/python3.12/site-packages (from httpcore==1.*->httpx>=0.25.2->langgraph-sdk) (0.14.0)\n",
      "\n",
      "\u001b[1m[\u001b[0m\u001b[34;49mnotice\u001b[0m\u001b[1;39;49m]\u001b[0m\u001b[39;49m A new release of pip is available: \u001b[0m\u001b[31;49m24.2\u001b[0m\u001b[39;49m -> \u001b[0m\u001b[32;49m25.0.1\u001b[0m\n",
      "\u001b[1m[\u001b[0m\u001b[34;49mnotice\u001b[0m\u001b[1;39;49m]\u001b[0m\u001b[39;49m To update, run: \u001b[0m\u001b[32;49mpip install --upgrade pip\u001b[0m\n",
      "Note: you may need to restart the kernel to use updated packages.\n",
      "Requirement already satisfied: langgraph-checkpoint-sqlite in /Users/nickhuang/Desktop/langgraph-101/lg-101-env/lib/python3.12/site-packages (2.0.3)\n",
      "Requirement already satisfied: aiosqlite<0.21.0,>=0.20.0 in /Users/nickhuang/Desktop/langgraph-101/lg-101-env/lib/python3.12/site-packages (from langgraph-checkpoint-sqlite) (0.20.0)\n",
      "Requirement already satisfied: langgraph-checkpoint<3.0.0,>=2.0.10 in /Users/nickhuang/Desktop/langgraph-101/lg-101-env/lib/python3.12/site-packages (from langgraph-checkpoint-sqlite) (2.0.12)\n",
      "Requirement already satisfied: typing_extensions>=4.0 in /Users/nickhuang/Desktop/langgraph-101/lg-101-env/lib/python3.12/site-packages (from aiosqlite<0.21.0,>=0.20.0->langgraph-checkpoint-sqlite) (4.12.2)\n",
      "Requirement already satisfied: langchain-core<0.4,>=0.2.38 in /Users/nickhuang/Desktop/langgraph-101/lg-101-env/lib/python3.12/site-packages (from langgraph-checkpoint<3.0.0,>=2.0.10->langgraph-checkpoint-sqlite) (0.3.34)\n",
      "Requirement already satisfied: msgpack<2.0.0,>=1.1.0 in /Users/nickhuang/Desktop/langgraph-101/lg-101-env/lib/python3.12/site-packages (from langgraph-checkpoint<3.0.0,>=2.0.10->langgraph-checkpoint-sqlite) (1.1.0)\n",
      "Requirement already satisfied: langsmith<0.4,>=0.1.125 in /Users/nickhuang/Desktop/langgraph-101/lg-101-env/lib/python3.12/site-packages (from langchain-core<0.4,>=0.2.38->langgraph-checkpoint<3.0.0,>=2.0.10->langgraph-checkpoint-sqlite) (0.3.8)\n",
      "Requirement already satisfied: tenacity!=8.4.0,<10.0.0,>=8.1.0 in /Users/nickhuang/Desktop/langgraph-101/lg-101-env/lib/python3.12/site-packages (from langchain-core<0.4,>=0.2.38->langgraph-checkpoint<3.0.0,>=2.0.10->langgraph-checkpoint-sqlite) (8.5.0)\n",
      "Requirement already satisfied: jsonpatch<2.0,>=1.33 in /Users/nickhuang/Desktop/langgraph-101/lg-101-env/lib/python3.12/site-packages (from langchain-core<0.4,>=0.2.38->langgraph-checkpoint<3.0.0,>=2.0.10->langgraph-checkpoint-sqlite) (1.33)\n",
      "Requirement already satisfied: PyYAML>=5.3 in /Users/nickhuang/Desktop/langgraph-101/lg-101-env/lib/python3.12/site-packages (from langchain-core<0.4,>=0.2.38->langgraph-checkpoint<3.0.0,>=2.0.10->langgraph-checkpoint-sqlite) (6.0.2)\n",
      "Requirement already satisfied: packaging<25,>=23.2 in /Users/nickhuang/Desktop/langgraph-101/lg-101-env/lib/python3.12/site-packages (from langchain-core<0.4,>=0.2.38->langgraph-checkpoint<3.0.0,>=2.0.10->langgraph-checkpoint-sqlite) (24.1)\n",
      "Requirement already satisfied: pydantic<3.0.0,>=2.7.4 in /Users/nickhuang/Desktop/langgraph-101/lg-101-env/lib/python3.12/site-packages (from langchain-core<0.4,>=0.2.38->langgraph-checkpoint<3.0.0,>=2.0.10->langgraph-checkpoint-sqlite) (2.9.2)\n",
      "Requirement already satisfied: jsonpointer>=1.9 in /Users/nickhuang/Desktop/langgraph-101/lg-101-env/lib/python3.12/site-packages (from jsonpatch<2.0,>=1.33->langchain-core<0.4,>=0.2.38->langgraph-checkpoint<3.0.0,>=2.0.10->langgraph-checkpoint-sqlite) (3.0.0)\n",
      "Requirement already satisfied: httpx<1,>=0.23.0 in /Users/nickhuang/Desktop/langgraph-101/lg-101-env/lib/python3.12/site-packages (from langsmith<0.4,>=0.1.125->langchain-core<0.4,>=0.2.38->langgraph-checkpoint<3.0.0,>=2.0.10->langgraph-checkpoint-sqlite) (0.27.2)\n",
      "Requirement already satisfied: orjson<4.0.0,>=3.9.14 in /Users/nickhuang/Desktop/langgraph-101/lg-101-env/lib/python3.12/site-packages (from langsmith<0.4,>=0.1.125->langchain-core<0.4,>=0.2.38->langgraph-checkpoint<3.0.0,>=2.0.10->langgraph-checkpoint-sqlite) (3.10.7)\n",
      "Requirement already satisfied: requests<3,>=2 in /Users/nickhuang/Desktop/langgraph-101/lg-101-env/lib/python3.12/site-packages (from langsmith<0.4,>=0.1.125->langchain-core<0.4,>=0.2.38->langgraph-checkpoint<3.0.0,>=2.0.10->langgraph-checkpoint-sqlite) (2.32.3)\n",
      "Requirement already satisfied: requests-toolbelt<2.0.0,>=1.0.0 in /Users/nickhuang/Desktop/langgraph-101/lg-101-env/lib/python3.12/site-packages (from langsmith<0.4,>=0.1.125->langchain-core<0.4,>=0.2.38->langgraph-checkpoint<3.0.0,>=2.0.10->langgraph-checkpoint-sqlite) (1.0.0)\n",
      "Requirement already satisfied: zstandard<0.24.0,>=0.23.0 in /Users/nickhuang/Desktop/langgraph-101/lg-101-env/lib/python3.12/site-packages (from langsmith<0.4,>=0.1.125->langchain-core<0.4,>=0.2.38->langgraph-checkpoint<3.0.0,>=2.0.10->langgraph-checkpoint-sqlite) (0.23.0)\n",
      "Requirement already satisfied: annotated-types>=0.6.0 in /Users/nickhuang/Desktop/langgraph-101/lg-101-env/lib/python3.12/site-packages (from pydantic<3.0.0,>=2.7.4->langchain-core<0.4,>=0.2.38->langgraph-checkpoint<3.0.0,>=2.0.10->langgraph-checkpoint-sqlite) (0.7.0)\n",
      "Requirement already satisfied: pydantic-core==2.23.4 in /Users/nickhuang/Desktop/langgraph-101/lg-101-env/lib/python3.12/site-packages (from pydantic<3.0.0,>=2.7.4->langchain-core<0.4,>=0.2.38->langgraph-checkpoint<3.0.0,>=2.0.10->langgraph-checkpoint-sqlite) (2.23.4)\n",
      "Requirement already satisfied: anyio in /Users/nickhuang/Desktop/langgraph-101/lg-101-env/lib/python3.12/site-packages (from httpx<1,>=0.23.0->langsmith<0.4,>=0.1.125->langchain-core<0.4,>=0.2.38->langgraph-checkpoint<3.0.0,>=2.0.10->langgraph-checkpoint-sqlite) (4.5.0)\n",
      "Requirement already satisfied: certifi in /Users/nickhuang/Desktop/langgraph-101/lg-101-env/lib/python3.12/site-packages (from httpx<1,>=0.23.0->langsmith<0.4,>=0.1.125->langchain-core<0.4,>=0.2.38->langgraph-checkpoint<3.0.0,>=2.0.10->langgraph-checkpoint-sqlite) (2024.8.30)\n",
      "Requirement already satisfied: httpcore==1.* in /Users/nickhuang/Desktop/langgraph-101/lg-101-env/lib/python3.12/site-packages (from httpx<1,>=0.23.0->langsmith<0.4,>=0.1.125->langchain-core<0.4,>=0.2.38->langgraph-checkpoint<3.0.0,>=2.0.10->langgraph-checkpoint-sqlite) (1.0.5)\n",
      "Requirement already satisfied: idna in /Users/nickhuang/Desktop/langgraph-101/lg-101-env/lib/python3.12/site-packages (from httpx<1,>=0.23.0->langsmith<0.4,>=0.1.125->langchain-core<0.4,>=0.2.38->langgraph-checkpoint<3.0.0,>=2.0.10->langgraph-checkpoint-sqlite) (3.10)\n",
      "Requirement already satisfied: sniffio in /Users/nickhuang/Desktop/langgraph-101/lg-101-env/lib/python3.12/site-packages (from httpx<1,>=0.23.0->langsmith<0.4,>=0.1.125->langchain-core<0.4,>=0.2.38->langgraph-checkpoint<3.0.0,>=2.0.10->langgraph-checkpoint-sqlite) (1.3.1)\n",
      "Requirement already satisfied: h11<0.15,>=0.13 in /Users/nickhuang/Desktop/langgraph-101/lg-101-env/lib/python3.12/site-packages (from httpcore==1.*->httpx<1,>=0.23.0->langsmith<0.4,>=0.1.125->langchain-core<0.4,>=0.2.38->langgraph-checkpoint<3.0.0,>=2.0.10->langgraph-checkpoint-sqlite) (0.14.0)\n",
      "Requirement already satisfied: charset-normalizer<4,>=2 in /Users/nickhuang/Desktop/langgraph-101/lg-101-env/lib/python3.12/site-packages (from requests<3,>=2->langsmith<0.4,>=0.1.125->langchain-core<0.4,>=0.2.38->langgraph-checkpoint<3.0.0,>=2.0.10->langgraph-checkpoint-sqlite) (3.3.2)\n",
      "Requirement already satisfied: urllib3<3,>=1.21.1 in /Users/nickhuang/Desktop/langgraph-101/lg-101-env/lib/python3.12/site-packages (from requests<3,>=2->langsmith<0.4,>=0.1.125->langchain-core<0.4,>=0.2.38->langgraph-checkpoint<3.0.0,>=2.0.10->langgraph-checkpoint-sqlite) (2.2.3)\n",
      "\n",
      "\u001b[1m[\u001b[0m\u001b[34;49mnotice\u001b[0m\u001b[1;39;49m]\u001b[0m\u001b[39;49m A new release of pip is available: \u001b[0m\u001b[31;49m24.2\u001b[0m\u001b[39;49m -> \u001b[0m\u001b[32;49m25.0.1\u001b[0m\n",
      "\u001b[1m[\u001b[0m\u001b[34;49mnotice\u001b[0m\u001b[1;39;49m]\u001b[0m\u001b[39;49m To update, run: \u001b[0m\u001b[32;49mpip install --upgrade pip\u001b[0m\n",
      "Note: you may need to restart the kernel to use updated packages.\n",
      "Requirement already satisfied: langsmith in /Users/nickhuang/Desktop/langgraph-101/lg-101-env/lib/python3.12/site-packages (0.3.8)\n",
      "Requirement already satisfied: httpx<1,>=0.23.0 in /Users/nickhuang/Desktop/langgraph-101/lg-101-env/lib/python3.12/site-packages (from langsmith) (0.27.2)\n",
      "Requirement already satisfied: orjson<4.0.0,>=3.9.14 in /Users/nickhuang/Desktop/langgraph-101/lg-101-env/lib/python3.12/site-packages (from langsmith) (3.10.7)\n",
      "Requirement already satisfied: pydantic<3.0.0,>=2.7.4 in /Users/nickhuang/Desktop/langgraph-101/lg-101-env/lib/python3.12/site-packages (from langsmith) (2.9.2)\n",
      "Requirement already satisfied: requests<3,>=2 in /Users/nickhuang/Desktop/langgraph-101/lg-101-env/lib/python3.12/site-packages (from langsmith) (2.32.3)\n",
      "Requirement already satisfied: requests-toolbelt<2.0.0,>=1.0.0 in /Users/nickhuang/Desktop/langgraph-101/lg-101-env/lib/python3.12/site-packages (from langsmith) (1.0.0)\n",
      "Requirement already satisfied: zstandard<0.24.0,>=0.23.0 in /Users/nickhuang/Desktop/langgraph-101/lg-101-env/lib/python3.12/site-packages (from langsmith) (0.23.0)\n",
      "Requirement already satisfied: anyio in /Users/nickhuang/Desktop/langgraph-101/lg-101-env/lib/python3.12/site-packages (from httpx<1,>=0.23.0->langsmith) (4.5.0)\n",
      "Requirement already satisfied: certifi in /Users/nickhuang/Desktop/langgraph-101/lg-101-env/lib/python3.12/site-packages (from httpx<1,>=0.23.0->langsmith) (2024.8.30)\n",
      "Requirement already satisfied: httpcore==1.* in /Users/nickhuang/Desktop/langgraph-101/lg-101-env/lib/python3.12/site-packages (from httpx<1,>=0.23.0->langsmith) (1.0.5)\n",
      "Requirement already satisfied: idna in /Users/nickhuang/Desktop/langgraph-101/lg-101-env/lib/python3.12/site-packages (from httpx<1,>=0.23.0->langsmith) (3.10)\n",
      "Requirement already satisfied: sniffio in /Users/nickhuang/Desktop/langgraph-101/lg-101-env/lib/python3.12/site-packages (from httpx<1,>=0.23.0->langsmith) (1.3.1)\n",
      "Requirement already satisfied: h11<0.15,>=0.13 in /Users/nickhuang/Desktop/langgraph-101/lg-101-env/lib/python3.12/site-packages (from httpcore==1.*->httpx<1,>=0.23.0->langsmith) (0.14.0)\n",
      "Requirement already satisfied: annotated-types>=0.6.0 in /Users/nickhuang/Desktop/langgraph-101/lg-101-env/lib/python3.12/site-packages (from pydantic<3.0.0,>=2.7.4->langsmith) (0.7.0)\n",
      "Requirement already satisfied: pydantic-core==2.23.4 in /Users/nickhuang/Desktop/langgraph-101/lg-101-env/lib/python3.12/site-packages (from pydantic<3.0.0,>=2.7.4->langsmith) (2.23.4)\n",
      "Requirement already satisfied: typing-extensions>=4.6.1 in /Users/nickhuang/Desktop/langgraph-101/lg-101-env/lib/python3.12/site-packages (from pydantic<3.0.0,>=2.7.4->langsmith) (4.12.2)\n",
      "Requirement already satisfied: charset-normalizer<4,>=2 in /Users/nickhuang/Desktop/langgraph-101/lg-101-env/lib/python3.12/site-packages (from requests<3,>=2->langsmith) (3.3.2)\n",
      "Requirement already satisfied: urllib3<3,>=1.21.1 in /Users/nickhuang/Desktop/langgraph-101/lg-101-env/lib/python3.12/site-packages (from requests<3,>=2->langsmith) (2.2.3)\n",
      "\n",
      "\u001b[1m[\u001b[0m\u001b[34;49mnotice\u001b[0m\u001b[1;39;49m]\u001b[0m\u001b[39;49m A new release of pip is available: \u001b[0m\u001b[31;49m24.2\u001b[0m\u001b[39;49m -> \u001b[0m\u001b[32;49m25.0.1\u001b[0m\n",
      "\u001b[1m[\u001b[0m\u001b[34;49mnotice\u001b[0m\u001b[1;39;49m]\u001b[0m\u001b[39;49m To update, run: \u001b[0m\u001b[32;49mpip install --upgrade pip\u001b[0m\n",
      "Note: you may need to restart the kernel to use updated packages.\n",
      "Requirement already satisfied: langchain-community in /Users/nickhuang/Desktop/langgraph-101/lg-101-env/lib/python3.12/site-packages (0.3.17)\n",
      "Requirement already satisfied: langchain-core<1.0.0,>=0.3.34 in /Users/nickhuang/Desktop/langgraph-101/lg-101-env/lib/python3.12/site-packages (from langchain-community) (0.3.34)\n",
      "Requirement already satisfied: langchain<1.0.0,>=0.3.18 in /Users/nickhuang/Desktop/langgraph-101/lg-101-env/lib/python3.12/site-packages (from langchain-community) (0.3.18)\n",
      "Requirement already satisfied: SQLAlchemy<3,>=1.4 in /Users/nickhuang/Desktop/langgraph-101/lg-101-env/lib/python3.12/site-packages (from langchain-community) (2.0.35)\n",
      "Requirement already satisfied: requests<3,>=2 in /Users/nickhuang/Desktop/langgraph-101/lg-101-env/lib/python3.12/site-packages (from langchain-community) (2.32.3)\n",
      "Requirement already satisfied: PyYAML>=5.3 in /Users/nickhuang/Desktop/langgraph-101/lg-101-env/lib/python3.12/site-packages (from langchain-community) (6.0.2)\n",
      "Requirement already satisfied: aiohttp<4.0.0,>=3.8.3 in /Users/nickhuang/Desktop/langgraph-101/lg-101-env/lib/python3.12/site-packages (from langchain-community) (3.10.5)\n",
      "Requirement already satisfied: tenacity!=8.4.0,<10,>=8.1.0 in /Users/nickhuang/Desktop/langgraph-101/lg-101-env/lib/python3.12/site-packages (from langchain-community) (8.5.0)\n",
      "Requirement already satisfied: dataclasses-json<0.7,>=0.5.7 in /Users/nickhuang/Desktop/langgraph-101/lg-101-env/lib/python3.12/site-packages (from langchain-community) (0.6.7)\n",
      "Requirement already satisfied: pydantic-settings<3.0.0,>=2.4.0 in /Users/nickhuang/Desktop/langgraph-101/lg-101-env/lib/python3.12/site-packages (from langchain-community) (2.5.2)\n",
      "Requirement already satisfied: langsmith<0.4,>=0.1.125 in /Users/nickhuang/Desktop/langgraph-101/lg-101-env/lib/python3.12/site-packages (from langchain-community) (0.3.8)\n",
      "Requirement already satisfied: httpx-sse<1.0.0,>=0.4.0 in /Users/nickhuang/Desktop/langgraph-101/lg-101-env/lib/python3.12/site-packages (from langchain-community) (0.4.0)\n",
      "Requirement already satisfied: numpy<3,>=1.26.2 in /Users/nickhuang/Desktop/langgraph-101/lg-101-env/lib/python3.12/site-packages (from langchain-community) (1.26.4)\n",
      "Requirement already satisfied: aiohappyeyeballs>=2.3.0 in /Users/nickhuang/Desktop/langgraph-101/lg-101-env/lib/python3.12/site-packages (from aiohttp<4.0.0,>=3.8.3->langchain-community) (2.4.0)\n",
      "Requirement already satisfied: aiosignal>=1.1.2 in /Users/nickhuang/Desktop/langgraph-101/lg-101-env/lib/python3.12/site-packages (from aiohttp<4.0.0,>=3.8.3->langchain-community) (1.3.1)\n",
      "Requirement already satisfied: attrs>=17.3.0 in /Users/nickhuang/Desktop/langgraph-101/lg-101-env/lib/python3.12/site-packages (from aiohttp<4.0.0,>=3.8.3->langchain-community) (24.2.0)\n",
      "Requirement already satisfied: frozenlist>=1.1.1 in /Users/nickhuang/Desktop/langgraph-101/lg-101-env/lib/python3.12/site-packages (from aiohttp<4.0.0,>=3.8.3->langchain-community) (1.4.1)\n",
      "Requirement already satisfied: multidict<7.0,>=4.5 in /Users/nickhuang/Desktop/langgraph-101/lg-101-env/lib/python3.12/site-packages (from aiohttp<4.0.0,>=3.8.3->langchain-community) (6.1.0)\n",
      "Requirement already satisfied: yarl<2.0,>=1.0 in /Users/nickhuang/Desktop/langgraph-101/lg-101-env/lib/python3.12/site-packages (from aiohttp<4.0.0,>=3.8.3->langchain-community) (1.11.1)\n",
      "Requirement already satisfied: marshmallow<4.0.0,>=3.18.0 in /Users/nickhuang/Desktop/langgraph-101/lg-101-env/lib/python3.12/site-packages (from dataclasses-json<0.7,>=0.5.7->langchain-community) (3.22.0)\n",
      "Requirement already satisfied: typing-inspect<1,>=0.4.0 in /Users/nickhuang/Desktop/langgraph-101/lg-101-env/lib/python3.12/site-packages (from dataclasses-json<0.7,>=0.5.7->langchain-community) (0.9.0)\n",
      "Requirement already satisfied: langchain-text-splitters<1.0.0,>=0.3.6 in /Users/nickhuang/Desktop/langgraph-101/lg-101-env/lib/python3.12/site-packages (from langchain<1.0.0,>=0.3.18->langchain-community) (0.3.6)\n",
      "Requirement already satisfied: pydantic<3.0.0,>=2.7.4 in /Users/nickhuang/Desktop/langgraph-101/lg-101-env/lib/python3.12/site-packages (from langchain<1.0.0,>=0.3.18->langchain-community) (2.9.2)\n",
      "Requirement already satisfied: jsonpatch<2.0,>=1.33 in /Users/nickhuang/Desktop/langgraph-101/lg-101-env/lib/python3.12/site-packages (from langchain-core<1.0.0,>=0.3.34->langchain-community) (1.33)\n",
      "Requirement already satisfied: packaging<25,>=23.2 in /Users/nickhuang/Desktop/langgraph-101/lg-101-env/lib/python3.12/site-packages (from langchain-core<1.0.0,>=0.3.34->langchain-community) (24.1)\n",
      "Requirement already satisfied: typing-extensions>=4.7 in /Users/nickhuang/Desktop/langgraph-101/lg-101-env/lib/python3.12/site-packages (from langchain-core<1.0.0,>=0.3.34->langchain-community) (4.12.2)\n",
      "Requirement already satisfied: httpx<1,>=0.23.0 in /Users/nickhuang/Desktop/langgraph-101/lg-101-env/lib/python3.12/site-packages (from langsmith<0.4,>=0.1.125->langchain-community) (0.27.2)\n",
      "Requirement already satisfied: orjson<4.0.0,>=3.9.14 in /Users/nickhuang/Desktop/langgraph-101/lg-101-env/lib/python3.12/site-packages (from langsmith<0.4,>=0.1.125->langchain-community) (3.10.7)\n",
      "Requirement already satisfied: requests-toolbelt<2.0.0,>=1.0.0 in /Users/nickhuang/Desktop/langgraph-101/lg-101-env/lib/python3.12/site-packages (from langsmith<0.4,>=0.1.125->langchain-community) (1.0.0)\n",
      "Requirement already satisfied: zstandard<0.24.0,>=0.23.0 in /Users/nickhuang/Desktop/langgraph-101/lg-101-env/lib/python3.12/site-packages (from langsmith<0.4,>=0.1.125->langchain-community) (0.23.0)\n",
      "Requirement already satisfied: python-dotenv>=0.21.0 in /Users/nickhuang/Desktop/langgraph-101/lg-101-env/lib/python3.12/site-packages (from pydantic-settings<3.0.0,>=2.4.0->langchain-community) (1.0.1)\n",
      "Requirement already satisfied: charset-normalizer<4,>=2 in /Users/nickhuang/Desktop/langgraph-101/lg-101-env/lib/python3.12/site-packages (from requests<3,>=2->langchain-community) (3.3.2)\n",
      "Requirement already satisfied: idna<4,>=2.5 in /Users/nickhuang/Desktop/langgraph-101/lg-101-env/lib/python3.12/site-packages (from requests<3,>=2->langchain-community) (3.10)\n",
      "Requirement already satisfied: urllib3<3,>=1.21.1 in /Users/nickhuang/Desktop/langgraph-101/lg-101-env/lib/python3.12/site-packages (from requests<3,>=2->langchain-community) (2.2.3)\n",
      "Requirement already satisfied: certifi>=2017.4.17 in /Users/nickhuang/Desktop/langgraph-101/lg-101-env/lib/python3.12/site-packages (from requests<3,>=2->langchain-community) (2024.8.30)\n",
      "Requirement already satisfied: anyio in /Users/nickhuang/Desktop/langgraph-101/lg-101-env/lib/python3.12/site-packages (from httpx<1,>=0.23.0->langsmith<0.4,>=0.1.125->langchain-community) (4.5.0)\n",
      "Requirement already satisfied: httpcore==1.* in /Users/nickhuang/Desktop/langgraph-101/lg-101-env/lib/python3.12/site-packages (from httpx<1,>=0.23.0->langsmith<0.4,>=0.1.125->langchain-community) (1.0.5)\n",
      "Requirement already satisfied: sniffio in /Users/nickhuang/Desktop/langgraph-101/lg-101-env/lib/python3.12/site-packages (from httpx<1,>=0.23.0->langsmith<0.4,>=0.1.125->langchain-community) (1.3.1)\n",
      "Requirement already satisfied: h11<0.15,>=0.13 in /Users/nickhuang/Desktop/langgraph-101/lg-101-env/lib/python3.12/site-packages (from httpcore==1.*->httpx<1,>=0.23.0->langsmith<0.4,>=0.1.125->langchain-community) (0.14.0)\n",
      "Requirement already satisfied: jsonpointer>=1.9 in /Users/nickhuang/Desktop/langgraph-101/lg-101-env/lib/python3.12/site-packages (from jsonpatch<2.0,>=1.33->langchain-core<1.0.0,>=0.3.34->langchain-community) (3.0.0)\n",
      "Requirement already satisfied: annotated-types>=0.6.0 in /Users/nickhuang/Desktop/langgraph-101/lg-101-env/lib/python3.12/site-packages (from pydantic<3.0.0,>=2.7.4->langchain<1.0.0,>=0.3.18->langchain-community) (0.7.0)\n",
      "Requirement already satisfied: pydantic-core==2.23.4 in /Users/nickhuang/Desktop/langgraph-101/lg-101-env/lib/python3.12/site-packages (from pydantic<3.0.0,>=2.7.4->langchain<1.0.0,>=0.3.18->langchain-community) (2.23.4)\n",
      "Requirement already satisfied: mypy-extensions>=0.3.0 in /Users/nickhuang/Desktop/langgraph-101/lg-101-env/lib/python3.12/site-packages (from typing-inspect<1,>=0.4.0->dataclasses-json<0.7,>=0.5.7->langchain-community) (1.0.0)\n",
      "\n",
      "\u001b[1m[\u001b[0m\u001b[34;49mnotice\u001b[0m\u001b[1;39;49m]\u001b[0m\u001b[39;49m A new release of pip is available: \u001b[0m\u001b[31;49m24.2\u001b[0m\u001b[39;49m -> \u001b[0m\u001b[32;49m25.0.1\u001b[0m\n",
      "\u001b[1m[\u001b[0m\u001b[34;49mnotice\u001b[0m\u001b[1;39;49m]\u001b[0m\u001b[39;49m To update, run: \u001b[0m\u001b[32;49mpip install --upgrade pip\u001b[0m\n",
      "Note: you may need to restart the kernel to use updated packages.\n",
      "Requirement already satisfied: langchain-core in /Users/nickhuang/Desktop/langgraph-101/lg-101-env/lib/python3.12/site-packages (0.3.34)\n",
      "Requirement already satisfied: langsmith<0.4,>=0.1.125 in /Users/nickhuang/Desktop/langgraph-101/lg-101-env/lib/python3.12/site-packages (from langchain-core) (0.3.8)\n",
      "Requirement already satisfied: tenacity!=8.4.0,<10.0.0,>=8.1.0 in /Users/nickhuang/Desktop/langgraph-101/lg-101-env/lib/python3.12/site-packages (from langchain-core) (8.5.0)\n",
      "Requirement already satisfied: jsonpatch<2.0,>=1.33 in /Users/nickhuang/Desktop/langgraph-101/lg-101-env/lib/python3.12/site-packages (from langchain-core) (1.33)\n",
      "Requirement already satisfied: PyYAML>=5.3 in /Users/nickhuang/Desktop/langgraph-101/lg-101-env/lib/python3.12/site-packages (from langchain-core) (6.0.2)\n",
      "Requirement already satisfied: packaging<25,>=23.2 in /Users/nickhuang/Desktop/langgraph-101/lg-101-env/lib/python3.12/site-packages (from langchain-core) (24.1)\n",
      "Requirement already satisfied: typing-extensions>=4.7 in /Users/nickhuang/Desktop/langgraph-101/lg-101-env/lib/python3.12/site-packages (from langchain-core) (4.12.2)\n",
      "Requirement already satisfied: pydantic<3.0.0,>=2.7.4 in /Users/nickhuang/Desktop/langgraph-101/lg-101-env/lib/python3.12/site-packages (from langchain-core) (2.9.2)\n",
      "Requirement already satisfied: jsonpointer>=1.9 in /Users/nickhuang/Desktop/langgraph-101/lg-101-env/lib/python3.12/site-packages (from jsonpatch<2.0,>=1.33->langchain-core) (3.0.0)\n",
      "Requirement already satisfied: httpx<1,>=0.23.0 in /Users/nickhuang/Desktop/langgraph-101/lg-101-env/lib/python3.12/site-packages (from langsmith<0.4,>=0.1.125->langchain-core) (0.27.2)\n",
      "Requirement already satisfied: orjson<4.0.0,>=3.9.14 in /Users/nickhuang/Desktop/langgraph-101/lg-101-env/lib/python3.12/site-packages (from langsmith<0.4,>=0.1.125->langchain-core) (3.10.7)\n",
      "Requirement already satisfied: requests<3,>=2 in /Users/nickhuang/Desktop/langgraph-101/lg-101-env/lib/python3.12/site-packages (from langsmith<0.4,>=0.1.125->langchain-core) (2.32.3)\n",
      "Requirement already satisfied: requests-toolbelt<2.0.0,>=1.0.0 in /Users/nickhuang/Desktop/langgraph-101/lg-101-env/lib/python3.12/site-packages (from langsmith<0.4,>=0.1.125->langchain-core) (1.0.0)\n",
      "Requirement already satisfied: zstandard<0.24.0,>=0.23.0 in /Users/nickhuang/Desktop/langgraph-101/lg-101-env/lib/python3.12/site-packages (from langsmith<0.4,>=0.1.125->langchain-core) (0.23.0)\n",
      "Requirement already satisfied: annotated-types>=0.6.0 in /Users/nickhuang/Desktop/langgraph-101/lg-101-env/lib/python3.12/site-packages (from pydantic<3.0.0,>=2.7.4->langchain-core) (0.7.0)\n",
      "Requirement already satisfied: pydantic-core==2.23.4 in /Users/nickhuang/Desktop/langgraph-101/lg-101-env/lib/python3.12/site-packages (from pydantic<3.0.0,>=2.7.4->langchain-core) (2.23.4)\n",
      "Requirement already satisfied: anyio in /Users/nickhuang/Desktop/langgraph-101/lg-101-env/lib/python3.12/site-packages (from httpx<1,>=0.23.0->langsmith<0.4,>=0.1.125->langchain-core) (4.5.0)\n",
      "Requirement already satisfied: certifi in /Users/nickhuang/Desktop/langgraph-101/lg-101-env/lib/python3.12/site-packages (from httpx<1,>=0.23.0->langsmith<0.4,>=0.1.125->langchain-core) (2024.8.30)\n",
      "Requirement already satisfied: httpcore==1.* in /Users/nickhuang/Desktop/langgraph-101/lg-101-env/lib/python3.12/site-packages (from httpx<1,>=0.23.0->langsmith<0.4,>=0.1.125->langchain-core) (1.0.5)\n",
      "Requirement already satisfied: idna in /Users/nickhuang/Desktop/langgraph-101/lg-101-env/lib/python3.12/site-packages (from httpx<1,>=0.23.0->langsmith<0.4,>=0.1.125->langchain-core) (3.10)\n",
      "Requirement already satisfied: sniffio in /Users/nickhuang/Desktop/langgraph-101/lg-101-env/lib/python3.12/site-packages (from httpx<1,>=0.23.0->langsmith<0.4,>=0.1.125->langchain-core) (1.3.1)\n",
      "Requirement already satisfied: h11<0.15,>=0.13 in /Users/nickhuang/Desktop/langgraph-101/lg-101-env/lib/python3.12/site-packages (from httpcore==1.*->httpx<1,>=0.23.0->langsmith<0.4,>=0.1.125->langchain-core) (0.14.0)\n",
      "Requirement already satisfied: charset-normalizer<4,>=2 in /Users/nickhuang/Desktop/langgraph-101/lg-101-env/lib/python3.12/site-packages (from requests<3,>=2->langsmith<0.4,>=0.1.125->langchain-core) (3.3.2)\n",
      "Requirement already satisfied: urllib3<3,>=1.21.1 in /Users/nickhuang/Desktop/langgraph-101/lg-101-env/lib/python3.12/site-packages (from requests<3,>=2->langsmith<0.4,>=0.1.125->langchain-core) (2.2.3)\n",
      "\n",
      "\u001b[1m[\u001b[0m\u001b[34;49mnotice\u001b[0m\u001b[1;39;49m]\u001b[0m\u001b[39;49m A new release of pip is available: \u001b[0m\u001b[31;49m24.2\u001b[0m\u001b[39;49m -> \u001b[0m\u001b[32;49m25.0.1\u001b[0m\n",
      "\u001b[1m[\u001b[0m\u001b[34;49mnotice\u001b[0m\u001b[1;39;49m]\u001b[0m\u001b[39;49m To update, run: \u001b[0m\u001b[32;49mpip install --upgrade pip\u001b[0m\n",
      "Note: you may need to restart the kernel to use updated packages.\n",
      "Requirement already satisfied: langchain-openai in /Users/nickhuang/Desktop/langgraph-101/lg-101-env/lib/python3.12/site-packages (0.3.4)\n",
      "Requirement already satisfied: langchain-core<1.0.0,>=0.3.34 in /Users/nickhuang/Desktop/langgraph-101/lg-101-env/lib/python3.12/site-packages (from langchain-openai) (0.3.34)\n",
      "Requirement already satisfied: openai<2.0.0,>=1.58.1 in /Users/nickhuang/Desktop/langgraph-101/lg-101-env/lib/python3.12/site-packages (from langchain-openai) (1.61.1)\n",
      "Requirement already satisfied: tiktoken<1,>=0.7 in /Users/nickhuang/Desktop/langgraph-101/lg-101-env/lib/python3.12/site-packages (from langchain-openai) (0.7.0)\n",
      "Requirement already satisfied: langsmith<0.4,>=0.1.125 in /Users/nickhuang/Desktop/langgraph-101/lg-101-env/lib/python3.12/site-packages (from langchain-core<1.0.0,>=0.3.34->langchain-openai) (0.3.8)\n",
      "Requirement already satisfied: tenacity!=8.4.0,<10.0.0,>=8.1.0 in /Users/nickhuang/Desktop/langgraph-101/lg-101-env/lib/python3.12/site-packages (from langchain-core<1.0.0,>=0.3.34->langchain-openai) (8.5.0)\n",
      "Requirement already satisfied: jsonpatch<2.0,>=1.33 in /Users/nickhuang/Desktop/langgraph-101/lg-101-env/lib/python3.12/site-packages (from langchain-core<1.0.0,>=0.3.34->langchain-openai) (1.33)\n",
      "Requirement already satisfied: PyYAML>=5.3 in /Users/nickhuang/Desktop/langgraph-101/lg-101-env/lib/python3.12/site-packages (from langchain-core<1.0.0,>=0.3.34->langchain-openai) (6.0.2)\n",
      "Requirement already satisfied: packaging<25,>=23.2 in /Users/nickhuang/Desktop/langgraph-101/lg-101-env/lib/python3.12/site-packages (from langchain-core<1.0.0,>=0.3.34->langchain-openai) (24.1)\n",
      "Requirement already satisfied: typing-extensions>=4.7 in /Users/nickhuang/Desktop/langgraph-101/lg-101-env/lib/python3.12/site-packages (from langchain-core<1.0.0,>=0.3.34->langchain-openai) (4.12.2)\n",
      "Requirement already satisfied: pydantic<3.0.0,>=2.7.4 in /Users/nickhuang/Desktop/langgraph-101/lg-101-env/lib/python3.12/site-packages (from langchain-core<1.0.0,>=0.3.34->langchain-openai) (2.9.2)\n",
      "Requirement already satisfied: anyio<5,>=3.5.0 in /Users/nickhuang/Desktop/langgraph-101/lg-101-env/lib/python3.12/site-packages (from openai<2.0.0,>=1.58.1->langchain-openai) (4.5.0)\n",
      "Requirement already satisfied: distro<2,>=1.7.0 in /Users/nickhuang/Desktop/langgraph-101/lg-101-env/lib/python3.12/site-packages (from openai<2.0.0,>=1.58.1->langchain-openai) (1.9.0)\n",
      "Requirement already satisfied: httpx<1,>=0.23.0 in /Users/nickhuang/Desktop/langgraph-101/lg-101-env/lib/python3.12/site-packages (from openai<2.0.0,>=1.58.1->langchain-openai) (0.27.2)\n",
      "Requirement already satisfied: jiter<1,>=0.4.0 in /Users/nickhuang/Desktop/langgraph-101/lg-101-env/lib/python3.12/site-packages (from openai<2.0.0,>=1.58.1->langchain-openai) (0.5.0)\n",
      "Requirement already satisfied: sniffio in /Users/nickhuang/Desktop/langgraph-101/lg-101-env/lib/python3.12/site-packages (from openai<2.0.0,>=1.58.1->langchain-openai) (1.3.1)\n",
      "Requirement already satisfied: tqdm>4 in /Users/nickhuang/Desktop/langgraph-101/lg-101-env/lib/python3.12/site-packages (from openai<2.0.0,>=1.58.1->langchain-openai) (4.66.5)\n",
      "Requirement already satisfied: regex>=2022.1.18 in /Users/nickhuang/Desktop/langgraph-101/lg-101-env/lib/python3.12/site-packages (from tiktoken<1,>=0.7->langchain-openai) (2024.9.11)\n",
      "Requirement already satisfied: requests>=2.26.0 in /Users/nickhuang/Desktop/langgraph-101/lg-101-env/lib/python3.12/site-packages (from tiktoken<1,>=0.7->langchain-openai) (2.32.3)\n",
      "Requirement already satisfied: idna>=2.8 in /Users/nickhuang/Desktop/langgraph-101/lg-101-env/lib/python3.12/site-packages (from anyio<5,>=3.5.0->openai<2.0.0,>=1.58.1->langchain-openai) (3.10)\n",
      "Requirement already satisfied: certifi in /Users/nickhuang/Desktop/langgraph-101/lg-101-env/lib/python3.12/site-packages (from httpx<1,>=0.23.0->openai<2.0.0,>=1.58.1->langchain-openai) (2024.8.30)\n",
      "Requirement already satisfied: httpcore==1.* in /Users/nickhuang/Desktop/langgraph-101/lg-101-env/lib/python3.12/site-packages (from httpx<1,>=0.23.0->openai<2.0.0,>=1.58.1->langchain-openai) (1.0.5)\n",
      "Requirement already satisfied: h11<0.15,>=0.13 in /Users/nickhuang/Desktop/langgraph-101/lg-101-env/lib/python3.12/site-packages (from httpcore==1.*->httpx<1,>=0.23.0->openai<2.0.0,>=1.58.1->langchain-openai) (0.14.0)\n",
      "Requirement already satisfied: jsonpointer>=1.9 in /Users/nickhuang/Desktop/langgraph-101/lg-101-env/lib/python3.12/site-packages (from jsonpatch<2.0,>=1.33->langchain-core<1.0.0,>=0.3.34->langchain-openai) (3.0.0)\n",
      "Requirement already satisfied: orjson<4.0.0,>=3.9.14 in /Users/nickhuang/Desktop/langgraph-101/lg-101-env/lib/python3.12/site-packages (from langsmith<0.4,>=0.1.125->langchain-core<1.0.0,>=0.3.34->langchain-openai) (3.10.7)\n",
      "Requirement already satisfied: requests-toolbelt<2.0.0,>=1.0.0 in /Users/nickhuang/Desktop/langgraph-101/lg-101-env/lib/python3.12/site-packages (from langsmith<0.4,>=0.1.125->langchain-core<1.0.0,>=0.3.34->langchain-openai) (1.0.0)\n",
      "Requirement already satisfied: zstandard<0.24.0,>=0.23.0 in /Users/nickhuang/Desktop/langgraph-101/lg-101-env/lib/python3.12/site-packages (from langsmith<0.4,>=0.1.125->langchain-core<1.0.0,>=0.3.34->langchain-openai) (0.23.0)\n",
      "Requirement already satisfied: annotated-types>=0.6.0 in /Users/nickhuang/Desktop/langgraph-101/lg-101-env/lib/python3.12/site-packages (from pydantic<3.0.0,>=2.7.4->langchain-core<1.0.0,>=0.3.34->langchain-openai) (0.7.0)\n",
      "Requirement already satisfied: pydantic-core==2.23.4 in /Users/nickhuang/Desktop/langgraph-101/lg-101-env/lib/python3.12/site-packages (from pydantic<3.0.0,>=2.7.4->langchain-core<1.0.0,>=0.3.34->langchain-openai) (2.23.4)\n",
      "Requirement already satisfied: charset-normalizer<4,>=2 in /Users/nickhuang/Desktop/langgraph-101/lg-101-env/lib/python3.12/site-packages (from requests>=2.26.0->tiktoken<1,>=0.7->langchain-openai) (3.3.2)\n",
      "Requirement already satisfied: urllib3<3,>=1.21.1 in /Users/nickhuang/Desktop/langgraph-101/lg-101-env/lib/python3.12/site-packages (from requests>=2.26.0->tiktoken<1,>=0.7->langchain-openai) (2.2.3)\n",
      "\n",
      "\u001b[1m[\u001b[0m\u001b[34;49mnotice\u001b[0m\u001b[1;39;49m]\u001b[0m\u001b[39;49m A new release of pip is available: \u001b[0m\u001b[31;49m24.2\u001b[0m\u001b[39;49m -> \u001b[0m\u001b[32;49m25.0.1\u001b[0m\n",
      "\u001b[1m[\u001b[0m\u001b[34;49mnotice\u001b[0m\u001b[1;39;49m]\u001b[0m\u001b[39;49m To update, run: \u001b[0m\u001b[32;49mpip install --upgrade pip\u001b[0m\n",
      "Note: you may need to restart the kernel to use updated packages.\n",
      "Requirement already satisfied: notebook in /Users/nickhuang/Desktop/langgraph-101/lg-101-env/lib/python3.12/site-packages (7.3.2)\n",
      "Requirement already satisfied: jupyter-server<3,>=2.4.0 in /Users/nickhuang/Desktop/langgraph-101/lg-101-env/lib/python3.12/site-packages (from notebook) (2.14.2)\n",
      "Requirement already satisfied: jupyterlab-server<3,>=2.27.1 in /Users/nickhuang/Desktop/langgraph-101/lg-101-env/lib/python3.12/site-packages (from notebook) (2.27.3)\n",
      "Requirement already satisfied: jupyterlab<4.4,>=4.3.4 in /Users/nickhuang/Desktop/langgraph-101/lg-101-env/lib/python3.12/site-packages (from notebook) (4.3.5)\n",
      "Requirement already satisfied: notebook-shim<0.3,>=0.2 in /Users/nickhuang/Desktop/langgraph-101/lg-101-env/lib/python3.12/site-packages (from notebook) (0.2.4)\n",
      "Requirement already satisfied: tornado>=6.2.0 in /Users/nickhuang/Desktop/langgraph-101/lg-101-env/lib/python3.12/site-packages (from notebook) (6.4.1)\n",
      "Requirement already satisfied: anyio>=3.1.0 in /Users/nickhuang/Desktop/langgraph-101/lg-101-env/lib/python3.12/site-packages (from jupyter-server<3,>=2.4.0->notebook) (4.5.0)\n",
      "Requirement already satisfied: argon2-cffi>=21.1 in /Users/nickhuang/Desktop/langgraph-101/lg-101-env/lib/python3.12/site-packages (from jupyter-server<3,>=2.4.0->notebook) (23.1.0)\n",
      "Requirement already satisfied: jinja2>=3.0.3 in /Users/nickhuang/Desktop/langgraph-101/lg-101-env/lib/python3.12/site-packages (from jupyter-server<3,>=2.4.0->notebook) (3.1.4)\n",
      "Requirement already satisfied: jupyter-client>=7.4.4 in /Users/nickhuang/Desktop/langgraph-101/lg-101-env/lib/python3.12/site-packages (from jupyter-server<3,>=2.4.0->notebook) (8.6.3)\n",
      "Requirement already satisfied: jupyter-core!=5.0.*,>=4.12 in /Users/nickhuang/Desktop/langgraph-101/lg-101-env/lib/python3.12/site-packages (from jupyter-server<3,>=2.4.0->notebook) (5.7.2)\n",
      "Requirement already satisfied: jupyter-events>=0.9.0 in /Users/nickhuang/Desktop/langgraph-101/lg-101-env/lib/python3.12/site-packages (from jupyter-server<3,>=2.4.0->notebook) (0.10.0)\n",
      "Requirement already satisfied: jupyter-server-terminals>=0.4.4 in /Users/nickhuang/Desktop/langgraph-101/lg-101-env/lib/python3.12/site-packages (from jupyter-server<3,>=2.4.0->notebook) (0.5.3)\n",
      "Requirement already satisfied: nbconvert>=6.4.4 in /Users/nickhuang/Desktop/langgraph-101/lg-101-env/lib/python3.12/site-packages (from jupyter-server<3,>=2.4.0->notebook) (7.16.4)\n",
      "Requirement already satisfied: nbformat>=5.3.0 in /Users/nickhuang/Desktop/langgraph-101/lg-101-env/lib/python3.12/site-packages (from jupyter-server<3,>=2.4.0->notebook) (5.10.4)\n",
      "Requirement already satisfied: overrides>=5.0 in /Users/nickhuang/Desktop/langgraph-101/lg-101-env/lib/python3.12/site-packages (from jupyter-server<3,>=2.4.0->notebook) (7.7.0)\n",
      "Requirement already satisfied: packaging>=22.0 in /Users/nickhuang/Desktop/langgraph-101/lg-101-env/lib/python3.12/site-packages (from jupyter-server<3,>=2.4.0->notebook) (24.1)\n",
      "Requirement already satisfied: prometheus-client>=0.9 in /Users/nickhuang/Desktop/langgraph-101/lg-101-env/lib/python3.12/site-packages (from jupyter-server<3,>=2.4.0->notebook) (0.20.0)\n",
      "Requirement already satisfied: pyzmq>=24 in /Users/nickhuang/Desktop/langgraph-101/lg-101-env/lib/python3.12/site-packages (from jupyter-server<3,>=2.4.0->notebook) (26.2.0)\n",
      "Requirement already satisfied: send2trash>=1.8.2 in /Users/nickhuang/Desktop/langgraph-101/lg-101-env/lib/python3.12/site-packages (from jupyter-server<3,>=2.4.0->notebook) (1.8.3)\n",
      "Requirement already satisfied: terminado>=0.8.3 in /Users/nickhuang/Desktop/langgraph-101/lg-101-env/lib/python3.12/site-packages (from jupyter-server<3,>=2.4.0->notebook) (0.18.1)\n",
      "Requirement already satisfied: traitlets>=5.6.0 in /Users/nickhuang/Desktop/langgraph-101/lg-101-env/lib/python3.12/site-packages (from jupyter-server<3,>=2.4.0->notebook) (5.14.3)\n",
      "Requirement already satisfied: websocket-client>=1.7 in /Users/nickhuang/Desktop/langgraph-101/lg-101-env/lib/python3.12/site-packages (from jupyter-server<3,>=2.4.0->notebook) (1.8.0)\n",
      "Requirement already satisfied: async-lru>=1.0.0 in /Users/nickhuang/Desktop/langgraph-101/lg-101-env/lib/python3.12/site-packages (from jupyterlab<4.4,>=4.3.4->notebook) (2.0.4)\n",
      "Requirement already satisfied: httpx>=0.25.0 in /Users/nickhuang/Desktop/langgraph-101/lg-101-env/lib/python3.12/site-packages (from jupyterlab<4.4,>=4.3.4->notebook) (0.27.2)\n",
      "Requirement already satisfied: ipykernel>=6.5.0 in /Users/nickhuang/Desktop/langgraph-101/lg-101-env/lib/python3.12/site-packages (from jupyterlab<4.4,>=4.3.4->notebook) (6.29.5)\n",
      "Requirement already satisfied: jupyter-lsp>=2.0.0 in /Users/nickhuang/Desktop/langgraph-101/lg-101-env/lib/python3.12/site-packages (from jupyterlab<4.4,>=4.3.4->notebook) (2.2.5)\n",
      "Requirement already satisfied: setuptools>=40.8.0 in /Users/nickhuang/Desktop/langgraph-101/lg-101-env/lib/python3.12/site-packages (from jupyterlab<4.4,>=4.3.4->notebook) (75.1.0)\n",
      "Requirement already satisfied: babel>=2.10 in /Users/nickhuang/Desktop/langgraph-101/lg-101-env/lib/python3.12/site-packages (from jupyterlab-server<3,>=2.27.1->notebook) (2.16.0)\n",
      "Requirement already satisfied: json5>=0.9.0 in /Users/nickhuang/Desktop/langgraph-101/lg-101-env/lib/python3.12/site-packages (from jupyterlab-server<3,>=2.27.1->notebook) (0.9.25)\n",
      "Requirement already satisfied: jsonschema>=4.18.0 in /Users/nickhuang/Desktop/langgraph-101/lg-101-env/lib/python3.12/site-packages (from jupyterlab-server<3,>=2.27.1->notebook) (4.23.0)\n",
      "Requirement already satisfied: requests>=2.31 in /Users/nickhuang/Desktop/langgraph-101/lg-101-env/lib/python3.12/site-packages (from jupyterlab-server<3,>=2.27.1->notebook) (2.32.3)\n",
      "Requirement already satisfied: idna>=2.8 in /Users/nickhuang/Desktop/langgraph-101/lg-101-env/lib/python3.12/site-packages (from anyio>=3.1.0->jupyter-server<3,>=2.4.0->notebook) (3.10)\n",
      "Requirement already satisfied: sniffio>=1.1 in /Users/nickhuang/Desktop/langgraph-101/lg-101-env/lib/python3.12/site-packages (from anyio>=3.1.0->jupyter-server<3,>=2.4.0->notebook) (1.3.1)\n",
      "Requirement already satisfied: argon2-cffi-bindings in /Users/nickhuang/Desktop/langgraph-101/lg-101-env/lib/python3.12/site-packages (from argon2-cffi>=21.1->jupyter-server<3,>=2.4.0->notebook) (21.2.0)\n",
      "Requirement already satisfied: certifi in /Users/nickhuang/Desktop/langgraph-101/lg-101-env/lib/python3.12/site-packages (from httpx>=0.25.0->jupyterlab<4.4,>=4.3.4->notebook) (2024.8.30)\n",
      "Requirement already satisfied: httpcore==1.* in /Users/nickhuang/Desktop/langgraph-101/lg-101-env/lib/python3.12/site-packages (from httpx>=0.25.0->jupyterlab<4.4,>=4.3.4->notebook) (1.0.5)\n",
      "Requirement already satisfied: h11<0.15,>=0.13 in /Users/nickhuang/Desktop/langgraph-101/lg-101-env/lib/python3.12/site-packages (from httpcore==1.*->httpx>=0.25.0->jupyterlab<4.4,>=4.3.4->notebook) (0.14.0)\n",
      "Requirement already satisfied: appnope in /Users/nickhuang/Desktop/langgraph-101/lg-101-env/lib/python3.12/site-packages (from ipykernel>=6.5.0->jupyterlab<4.4,>=4.3.4->notebook) (0.1.4)\n",
      "Requirement already satisfied: comm>=0.1.1 in /Users/nickhuang/Desktop/langgraph-101/lg-101-env/lib/python3.12/site-packages (from ipykernel>=6.5.0->jupyterlab<4.4,>=4.3.4->notebook) (0.2.2)\n",
      "Requirement already satisfied: debugpy>=1.6.5 in /Users/nickhuang/Desktop/langgraph-101/lg-101-env/lib/python3.12/site-packages (from ipykernel>=6.5.0->jupyterlab<4.4,>=4.3.4->notebook) (1.8.5)\n",
      "Requirement already satisfied: ipython>=7.23.1 in /Users/nickhuang/Desktop/langgraph-101/lg-101-env/lib/python3.12/site-packages (from ipykernel>=6.5.0->jupyterlab<4.4,>=4.3.4->notebook) (8.27.0)\n",
      "Requirement already satisfied: matplotlib-inline>=0.1 in /Users/nickhuang/Desktop/langgraph-101/lg-101-env/lib/python3.12/site-packages (from ipykernel>=6.5.0->jupyterlab<4.4,>=4.3.4->notebook) (0.1.7)\n",
      "Requirement already satisfied: nest-asyncio in /Users/nickhuang/Desktop/langgraph-101/lg-101-env/lib/python3.12/site-packages (from ipykernel>=6.5.0->jupyterlab<4.4,>=4.3.4->notebook) (1.6.0)\n",
      "Requirement already satisfied: psutil in /Users/nickhuang/Desktop/langgraph-101/lg-101-env/lib/python3.12/site-packages (from ipykernel>=6.5.0->jupyterlab<4.4,>=4.3.4->notebook) (6.0.0)\n",
      "Requirement already satisfied: MarkupSafe>=2.0 in /Users/nickhuang/Desktop/langgraph-101/lg-101-env/lib/python3.12/site-packages (from jinja2>=3.0.3->jupyter-server<3,>=2.4.0->notebook) (2.1.5)\n",
      "Requirement already satisfied: attrs>=22.2.0 in /Users/nickhuang/Desktop/langgraph-101/lg-101-env/lib/python3.12/site-packages (from jsonschema>=4.18.0->jupyterlab-server<3,>=2.27.1->notebook) (24.2.0)\n",
      "Requirement already satisfied: jsonschema-specifications>=2023.03.6 in /Users/nickhuang/Desktop/langgraph-101/lg-101-env/lib/python3.12/site-packages (from jsonschema>=4.18.0->jupyterlab-server<3,>=2.27.1->notebook) (2023.12.1)\n",
      "Requirement already satisfied: referencing>=0.28.4 in /Users/nickhuang/Desktop/langgraph-101/lg-101-env/lib/python3.12/site-packages (from jsonschema>=4.18.0->jupyterlab-server<3,>=2.27.1->notebook) (0.35.1)\n",
      "Requirement already satisfied: rpds-py>=0.7.1 in /Users/nickhuang/Desktop/langgraph-101/lg-101-env/lib/python3.12/site-packages (from jsonschema>=4.18.0->jupyterlab-server<3,>=2.27.1->notebook) (0.20.0)\n",
      "Requirement already satisfied: python-dateutil>=2.8.2 in /Users/nickhuang/Desktop/langgraph-101/lg-101-env/lib/python3.12/site-packages (from jupyter-client>=7.4.4->jupyter-server<3,>=2.4.0->notebook) (2.9.0.post0)\n",
      "Requirement already satisfied: platformdirs>=2.5 in /Users/nickhuang/Desktop/langgraph-101/lg-101-env/lib/python3.12/site-packages (from jupyter-core!=5.0.*,>=4.12->jupyter-server<3,>=2.4.0->notebook) (4.3.6)\n",
      "Requirement already satisfied: python-json-logger>=2.0.4 in /Users/nickhuang/Desktop/langgraph-101/lg-101-env/lib/python3.12/site-packages (from jupyter-events>=0.9.0->jupyter-server<3,>=2.4.0->notebook) (2.0.7)\n",
      "Requirement already satisfied: pyyaml>=5.3 in /Users/nickhuang/Desktop/langgraph-101/lg-101-env/lib/python3.12/site-packages (from jupyter-events>=0.9.0->jupyter-server<3,>=2.4.0->notebook) (6.0.2)\n",
      "Requirement already satisfied: rfc3339-validator in /Users/nickhuang/Desktop/langgraph-101/lg-101-env/lib/python3.12/site-packages (from jupyter-events>=0.9.0->jupyter-server<3,>=2.4.0->notebook) (0.1.4)\n",
      "Requirement already satisfied: rfc3986-validator>=0.1.1 in /Users/nickhuang/Desktop/langgraph-101/lg-101-env/lib/python3.12/site-packages (from jupyter-events>=0.9.0->jupyter-server<3,>=2.4.0->notebook) (0.1.1)\n",
      "Requirement already satisfied: beautifulsoup4 in /Users/nickhuang/Desktop/langgraph-101/lg-101-env/lib/python3.12/site-packages (from nbconvert>=6.4.4->jupyter-server<3,>=2.4.0->notebook) (4.12.3)\n",
      "Requirement already satisfied: bleach!=5.0.0 in /Users/nickhuang/Desktop/langgraph-101/lg-101-env/lib/python3.12/site-packages (from nbconvert>=6.4.4->jupyter-server<3,>=2.4.0->notebook) (6.1.0)\n",
      "Requirement already satisfied: defusedxml in /Users/nickhuang/Desktop/langgraph-101/lg-101-env/lib/python3.12/site-packages (from nbconvert>=6.4.4->jupyter-server<3,>=2.4.0->notebook) (0.7.1)\n",
      "Requirement already satisfied: jupyterlab-pygments in /Users/nickhuang/Desktop/langgraph-101/lg-101-env/lib/python3.12/site-packages (from nbconvert>=6.4.4->jupyter-server<3,>=2.4.0->notebook) (0.3.0)\n",
      "Requirement already satisfied: mistune<4,>=2.0.3 in /Users/nickhuang/Desktop/langgraph-101/lg-101-env/lib/python3.12/site-packages (from nbconvert>=6.4.4->jupyter-server<3,>=2.4.0->notebook) (3.0.2)\n",
      "Requirement already satisfied: nbclient>=0.5.0 in /Users/nickhuang/Desktop/langgraph-101/lg-101-env/lib/python3.12/site-packages (from nbconvert>=6.4.4->jupyter-server<3,>=2.4.0->notebook) (0.10.0)\n",
      "Requirement already satisfied: pandocfilters>=1.4.1 in /Users/nickhuang/Desktop/langgraph-101/lg-101-env/lib/python3.12/site-packages (from nbconvert>=6.4.4->jupyter-server<3,>=2.4.0->notebook) (1.5.1)\n",
      "Requirement already satisfied: pygments>=2.4.1 in /Users/nickhuang/Desktop/langgraph-101/lg-101-env/lib/python3.12/site-packages (from nbconvert>=6.4.4->jupyter-server<3,>=2.4.0->notebook) (2.18.0)\n",
      "Requirement already satisfied: tinycss2 in /Users/nickhuang/Desktop/langgraph-101/lg-101-env/lib/python3.12/site-packages (from nbconvert>=6.4.4->jupyter-server<3,>=2.4.0->notebook) (1.3.0)\n",
      "Requirement already satisfied: fastjsonschema>=2.15 in /Users/nickhuang/Desktop/langgraph-101/lg-101-env/lib/python3.12/site-packages (from nbformat>=5.3.0->jupyter-server<3,>=2.4.0->notebook) (2.20.0)\n",
      "Requirement already satisfied: charset-normalizer<4,>=2 in /Users/nickhuang/Desktop/langgraph-101/lg-101-env/lib/python3.12/site-packages (from requests>=2.31->jupyterlab-server<3,>=2.27.1->notebook) (3.3.2)\n",
      "Requirement already satisfied: urllib3<3,>=1.21.1 in /Users/nickhuang/Desktop/langgraph-101/lg-101-env/lib/python3.12/site-packages (from requests>=2.31->jupyterlab-server<3,>=2.27.1->notebook) (2.2.3)\n",
      "Requirement already satisfied: ptyprocess in /Users/nickhuang/Desktop/langgraph-101/lg-101-env/lib/python3.12/site-packages (from terminado>=0.8.3->jupyter-server<3,>=2.4.0->notebook) (0.7.0)\n",
      "Requirement already satisfied: six>=1.9.0 in /Users/nickhuang/Desktop/langgraph-101/lg-101-env/lib/python3.12/site-packages (from bleach!=5.0.0->nbconvert>=6.4.4->jupyter-server<3,>=2.4.0->notebook) (1.16.0)\n",
      "Requirement already satisfied: webencodings in /Users/nickhuang/Desktop/langgraph-101/lg-101-env/lib/python3.12/site-packages (from bleach!=5.0.0->nbconvert>=6.4.4->jupyter-server<3,>=2.4.0->notebook) (0.5.1)\n",
      "Requirement already satisfied: decorator in /Users/nickhuang/Desktop/langgraph-101/lg-101-env/lib/python3.12/site-packages (from ipython>=7.23.1->ipykernel>=6.5.0->jupyterlab<4.4,>=4.3.4->notebook) (5.1.1)\n",
      "Requirement already satisfied: jedi>=0.16 in /Users/nickhuang/Desktop/langgraph-101/lg-101-env/lib/python3.12/site-packages (from ipython>=7.23.1->ipykernel>=6.5.0->jupyterlab<4.4,>=4.3.4->notebook) (0.19.1)\n",
      "Requirement already satisfied: prompt-toolkit<3.1.0,>=3.0.41 in /Users/nickhuang/Desktop/langgraph-101/lg-101-env/lib/python3.12/site-packages (from ipython>=7.23.1->ipykernel>=6.5.0->jupyterlab<4.4,>=4.3.4->notebook) (3.0.47)\n",
      "Requirement already satisfied: stack-data in /Users/nickhuang/Desktop/langgraph-101/lg-101-env/lib/python3.12/site-packages (from ipython>=7.23.1->ipykernel>=6.5.0->jupyterlab<4.4,>=4.3.4->notebook) (0.6.3)\n",
      "Requirement already satisfied: pexpect>4.3 in /Users/nickhuang/Desktop/langgraph-101/lg-101-env/lib/python3.12/site-packages (from ipython>=7.23.1->ipykernel>=6.5.0->jupyterlab<4.4,>=4.3.4->notebook) (4.9.0)\n",
      "Requirement already satisfied: fqdn in /Users/nickhuang/Desktop/langgraph-101/lg-101-env/lib/python3.12/site-packages (from jsonschema[format-nongpl]>=4.18.0->jupyter-events>=0.9.0->jupyter-server<3,>=2.4.0->notebook) (1.5.1)\n",
      "Requirement already satisfied: isoduration in /Users/nickhuang/Desktop/langgraph-101/lg-101-env/lib/python3.12/site-packages (from jsonschema[format-nongpl]>=4.18.0->jupyter-events>=0.9.0->jupyter-server<3,>=2.4.0->notebook) (20.11.0)\n",
      "Requirement already satisfied: jsonpointer>1.13 in /Users/nickhuang/Desktop/langgraph-101/lg-101-env/lib/python3.12/site-packages (from jsonschema[format-nongpl]>=4.18.0->jupyter-events>=0.9.0->jupyter-server<3,>=2.4.0->notebook) (3.0.0)\n",
      "Requirement already satisfied: uri-template in /Users/nickhuang/Desktop/langgraph-101/lg-101-env/lib/python3.12/site-packages (from jsonschema[format-nongpl]>=4.18.0->jupyter-events>=0.9.0->jupyter-server<3,>=2.4.0->notebook) (1.3.0)\n",
      "Requirement already satisfied: webcolors>=24.6.0 in /Users/nickhuang/Desktop/langgraph-101/lg-101-env/lib/python3.12/site-packages (from jsonschema[format-nongpl]>=4.18.0->jupyter-events>=0.9.0->jupyter-server<3,>=2.4.0->notebook) (24.8.0)\n",
      "Requirement already satisfied: cffi>=1.0.1 in /Users/nickhuang/Desktop/langgraph-101/lg-101-env/lib/python3.12/site-packages (from argon2-cffi-bindings->argon2-cffi>=21.1->jupyter-server<3,>=2.4.0->notebook) (1.17.1)\n",
      "Requirement already satisfied: soupsieve>1.2 in /Users/nickhuang/Desktop/langgraph-101/lg-101-env/lib/python3.12/site-packages (from beautifulsoup4->nbconvert>=6.4.4->jupyter-server<3,>=2.4.0->notebook) (2.6)\n",
      "Requirement already satisfied: pycparser in /Users/nickhuang/Desktop/langgraph-101/lg-101-env/lib/python3.12/site-packages (from cffi>=1.0.1->argon2-cffi-bindings->argon2-cffi>=21.1->jupyter-server<3,>=2.4.0->notebook) (2.22)\n",
      "Requirement already satisfied: parso<0.9.0,>=0.8.3 in /Users/nickhuang/Desktop/langgraph-101/lg-101-env/lib/python3.12/site-packages (from jedi>=0.16->ipython>=7.23.1->ipykernel>=6.5.0->jupyterlab<4.4,>=4.3.4->notebook) (0.8.4)\n",
      "Requirement already satisfied: wcwidth in /Users/nickhuang/Desktop/langgraph-101/lg-101-env/lib/python3.12/site-packages (from prompt-toolkit<3.1.0,>=3.0.41->ipython>=7.23.1->ipykernel>=6.5.0->jupyterlab<4.4,>=4.3.4->notebook) (0.2.13)\n",
      "Requirement already satisfied: arrow>=0.15.0 in /Users/nickhuang/Desktop/langgraph-101/lg-101-env/lib/python3.12/site-packages (from isoduration->jsonschema[format-nongpl]>=4.18.0->jupyter-events>=0.9.0->jupyter-server<3,>=2.4.0->notebook) (1.3.0)\n",
      "Requirement already satisfied: executing>=1.2.0 in /Users/nickhuang/Desktop/langgraph-101/lg-101-env/lib/python3.12/site-packages (from stack-data->ipython>=7.23.1->ipykernel>=6.5.0->jupyterlab<4.4,>=4.3.4->notebook) (2.1.0)\n",
      "Requirement already satisfied: asttokens>=2.1.0 in /Users/nickhuang/Desktop/langgraph-101/lg-101-env/lib/python3.12/site-packages (from stack-data->ipython>=7.23.1->ipykernel>=6.5.0->jupyterlab<4.4,>=4.3.4->notebook) (2.4.1)\n",
      "Requirement already satisfied: pure-eval in /Users/nickhuang/Desktop/langgraph-101/lg-101-env/lib/python3.12/site-packages (from stack-data->ipython>=7.23.1->ipykernel>=6.5.0->jupyterlab<4.4,>=4.3.4->notebook) (0.2.3)\n",
      "Requirement already satisfied: types-python-dateutil>=2.8.10 in /Users/nickhuang/Desktop/langgraph-101/lg-101-env/lib/python3.12/site-packages (from arrow>=0.15.0->isoduration->jsonschema[format-nongpl]>=4.18.0->jupyter-events>=0.9.0->jupyter-server<3,>=2.4.0->notebook) (2.9.0.20240906)\n",
      "\n",
      "\u001b[1m[\u001b[0m\u001b[34;49mnotice\u001b[0m\u001b[1;39;49m]\u001b[0m\u001b[39;49m A new release of pip is available: \u001b[0m\u001b[31;49m24.2\u001b[0m\u001b[39;49m -> \u001b[0m\u001b[32;49m25.0.1\u001b[0m\n",
      "\u001b[1m[\u001b[0m\u001b[34;49mnotice\u001b[0m\u001b[1;39;49m]\u001b[0m\u001b[39;49m To update, run: \u001b[0m\u001b[32;49mpip install --upgrade pip\u001b[0m\n",
      "Note: you may need to restart the kernel to use updated packages.\n",
      "Requirement already satisfied: python-dotenv in /Users/nickhuang/Desktop/langgraph-101/lg-101-env/lib/python3.12/site-packages (1.0.1)\n",
      "\n",
      "\u001b[1m[\u001b[0m\u001b[34;49mnotice\u001b[0m\u001b[1;39;49m]\u001b[0m\u001b[39;49m A new release of pip is available: \u001b[0m\u001b[31;49m24.2\u001b[0m\u001b[39;49m -> \u001b[0m\u001b[32;49m25.0.1\u001b[0m\n",
      "\u001b[1m[\u001b[0m\u001b[34;49mnotice\u001b[0m\u001b[1;39;49m]\u001b[0m\u001b[39;49m To update, run: \u001b[0m\u001b[32;49mpip install --upgrade pip\u001b[0m\n",
      "Note: you may need to restart the kernel to use updated packages.\n",
      "Requirement already satisfied: chromadb in /Users/nickhuang/Desktop/langgraph-101/lg-101-env/lib/python3.12/site-packages (0.6.3)\n",
      "Requirement already satisfied: build>=1.0.3 in /Users/nickhuang/Desktop/langgraph-101/lg-101-env/lib/python3.12/site-packages (from chromadb) (1.2.2)\n",
      "Requirement already satisfied: pydantic>=1.9 in /Users/nickhuang/Desktop/langgraph-101/lg-101-env/lib/python3.12/site-packages (from chromadb) (2.9.2)\n",
      "Requirement already satisfied: chroma-hnswlib==0.7.6 in /Users/nickhuang/Desktop/langgraph-101/lg-101-env/lib/python3.12/site-packages (from chromadb) (0.7.6)\n",
      "Requirement already satisfied: fastapi>=0.95.2 in /Users/nickhuang/Desktop/langgraph-101/lg-101-env/lib/python3.12/site-packages (from chromadb) (0.115.0)\n",
      "Requirement already satisfied: uvicorn>=0.18.3 in /Users/nickhuang/Desktop/langgraph-101/lg-101-env/lib/python3.12/site-packages (from uvicorn[standard]>=0.18.3->chromadb) (0.30.6)\n",
      "Requirement already satisfied: numpy>=1.22.5 in /Users/nickhuang/Desktop/langgraph-101/lg-101-env/lib/python3.12/site-packages (from chromadb) (1.26.4)\n",
      "Requirement already satisfied: posthog>=2.4.0 in /Users/nickhuang/Desktop/langgraph-101/lg-101-env/lib/python3.12/site-packages (from chromadb) (3.6.6)\n",
      "Requirement already satisfied: typing_extensions>=4.5.0 in /Users/nickhuang/Desktop/langgraph-101/lg-101-env/lib/python3.12/site-packages (from chromadb) (4.12.2)\n",
      "Requirement already satisfied: onnxruntime>=1.14.1 in /Users/nickhuang/Desktop/langgraph-101/lg-101-env/lib/python3.12/site-packages (from chromadb) (1.19.2)\n",
      "Requirement already satisfied: opentelemetry-api>=1.2.0 in /Users/nickhuang/Desktop/langgraph-101/lg-101-env/lib/python3.12/site-packages (from chromadb) (1.27.0)\n",
      "Requirement already satisfied: opentelemetry-exporter-otlp-proto-grpc>=1.2.0 in /Users/nickhuang/Desktop/langgraph-101/lg-101-env/lib/python3.12/site-packages (from chromadb) (1.27.0)\n",
      "Requirement already satisfied: opentelemetry-instrumentation-fastapi>=0.41b0 in /Users/nickhuang/Desktop/langgraph-101/lg-101-env/lib/python3.12/site-packages (from chromadb) (0.48b0)\n",
      "Requirement already satisfied: opentelemetry-sdk>=1.2.0 in /Users/nickhuang/Desktop/langgraph-101/lg-101-env/lib/python3.12/site-packages (from chromadb) (1.27.0)\n",
      "Requirement already satisfied: tokenizers>=0.13.2 in /Users/nickhuang/Desktop/langgraph-101/lg-101-env/lib/python3.12/site-packages (from chromadb) (0.20.0)\n",
      "Requirement already satisfied: pypika>=0.48.9 in /Users/nickhuang/Desktop/langgraph-101/lg-101-env/lib/python3.12/site-packages (from chromadb) (0.48.9)\n",
      "Requirement already satisfied: tqdm>=4.65.0 in /Users/nickhuang/Desktop/langgraph-101/lg-101-env/lib/python3.12/site-packages (from chromadb) (4.66.5)\n",
      "Requirement already satisfied: overrides>=7.3.1 in /Users/nickhuang/Desktop/langgraph-101/lg-101-env/lib/python3.12/site-packages (from chromadb) (7.7.0)\n",
      "Requirement already satisfied: importlib-resources in /Users/nickhuang/Desktop/langgraph-101/lg-101-env/lib/python3.12/site-packages (from chromadb) (6.4.5)\n",
      "Requirement already satisfied: grpcio>=1.58.0 in /Users/nickhuang/Desktop/langgraph-101/lg-101-env/lib/python3.12/site-packages (from chromadb) (1.66.1)\n",
      "Requirement already satisfied: bcrypt>=4.0.1 in /Users/nickhuang/Desktop/langgraph-101/lg-101-env/lib/python3.12/site-packages (from chromadb) (4.2.0)\n",
      "Requirement already satisfied: typer>=0.9.0 in /Users/nickhuang/Desktop/langgraph-101/lg-101-env/lib/python3.12/site-packages (from chromadb) (0.12.5)\n",
      "Requirement already satisfied: kubernetes>=28.1.0 in /Users/nickhuang/Desktop/langgraph-101/lg-101-env/lib/python3.12/site-packages (from chromadb) (31.0.0)\n",
      "Requirement already satisfied: tenacity>=8.2.3 in /Users/nickhuang/Desktop/langgraph-101/lg-101-env/lib/python3.12/site-packages (from chromadb) (8.5.0)\n",
      "Requirement already satisfied: PyYAML>=6.0.0 in /Users/nickhuang/Desktop/langgraph-101/lg-101-env/lib/python3.12/site-packages (from chromadb) (6.0.2)\n",
      "Requirement already satisfied: mmh3>=4.0.1 in /Users/nickhuang/Desktop/langgraph-101/lg-101-env/lib/python3.12/site-packages (from chromadb) (5.0.1)\n",
      "Requirement already satisfied: orjson>=3.9.12 in /Users/nickhuang/Desktop/langgraph-101/lg-101-env/lib/python3.12/site-packages (from chromadb) (3.10.7)\n",
      "Requirement already satisfied: httpx>=0.27.0 in /Users/nickhuang/Desktop/langgraph-101/lg-101-env/lib/python3.12/site-packages (from chromadb) (0.27.2)\n",
      "Requirement already satisfied: rich>=10.11.0 in /Users/nickhuang/Desktop/langgraph-101/lg-101-env/lib/python3.12/site-packages (from chromadb) (13.8.1)\n",
      "Requirement already satisfied: packaging>=19.1 in /Users/nickhuang/Desktop/langgraph-101/lg-101-env/lib/python3.12/site-packages (from build>=1.0.3->chromadb) (24.1)\n",
      "Requirement already satisfied: pyproject_hooks in /Users/nickhuang/Desktop/langgraph-101/lg-101-env/lib/python3.12/site-packages (from build>=1.0.3->chromadb) (1.1.0)\n",
      "Requirement already satisfied: starlette<0.39.0,>=0.37.2 in /Users/nickhuang/Desktop/langgraph-101/lg-101-env/lib/python3.12/site-packages (from fastapi>=0.95.2->chromadb) (0.38.6)\n",
      "Requirement already satisfied: anyio in /Users/nickhuang/Desktop/langgraph-101/lg-101-env/lib/python3.12/site-packages (from httpx>=0.27.0->chromadb) (4.5.0)\n",
      "Requirement already satisfied: certifi in /Users/nickhuang/Desktop/langgraph-101/lg-101-env/lib/python3.12/site-packages (from httpx>=0.27.0->chromadb) (2024.8.30)\n",
      "Requirement already satisfied: httpcore==1.* in /Users/nickhuang/Desktop/langgraph-101/lg-101-env/lib/python3.12/site-packages (from httpx>=0.27.0->chromadb) (1.0.5)\n",
      "Requirement already satisfied: idna in /Users/nickhuang/Desktop/langgraph-101/lg-101-env/lib/python3.12/site-packages (from httpx>=0.27.0->chromadb) (3.10)\n",
      "Requirement already satisfied: sniffio in /Users/nickhuang/Desktop/langgraph-101/lg-101-env/lib/python3.12/site-packages (from httpx>=0.27.0->chromadb) (1.3.1)\n",
      "Requirement already satisfied: h11<0.15,>=0.13 in /Users/nickhuang/Desktop/langgraph-101/lg-101-env/lib/python3.12/site-packages (from httpcore==1.*->httpx>=0.27.0->chromadb) (0.14.0)\n",
      "Requirement already satisfied: six>=1.9.0 in /Users/nickhuang/Desktop/langgraph-101/lg-101-env/lib/python3.12/site-packages (from kubernetes>=28.1.0->chromadb) (1.16.0)\n",
      "Requirement already satisfied: python-dateutil>=2.5.3 in /Users/nickhuang/Desktop/langgraph-101/lg-101-env/lib/python3.12/site-packages (from kubernetes>=28.1.0->chromadb) (2.9.0.post0)\n",
      "Requirement already satisfied: google-auth>=1.0.1 in /Users/nickhuang/Desktop/langgraph-101/lg-101-env/lib/python3.12/site-packages (from kubernetes>=28.1.0->chromadb) (2.35.0)\n",
      "Requirement already satisfied: websocket-client!=0.40.0,!=0.41.*,!=0.42.*,>=0.32.0 in /Users/nickhuang/Desktop/langgraph-101/lg-101-env/lib/python3.12/site-packages (from kubernetes>=28.1.0->chromadb) (1.8.0)\n",
      "Requirement already satisfied: requests in /Users/nickhuang/Desktop/langgraph-101/lg-101-env/lib/python3.12/site-packages (from kubernetes>=28.1.0->chromadb) (2.32.3)\n",
      "Requirement already satisfied: requests-oauthlib in /Users/nickhuang/Desktop/langgraph-101/lg-101-env/lib/python3.12/site-packages (from kubernetes>=28.1.0->chromadb) (2.0.0)\n",
      "Requirement already satisfied: oauthlib>=3.2.2 in /Users/nickhuang/Desktop/langgraph-101/lg-101-env/lib/python3.12/site-packages (from kubernetes>=28.1.0->chromadb) (3.2.2)\n",
      "Requirement already satisfied: urllib3>=1.24.2 in /Users/nickhuang/Desktop/langgraph-101/lg-101-env/lib/python3.12/site-packages (from kubernetes>=28.1.0->chromadb) (2.2.3)\n",
      "Requirement already satisfied: durationpy>=0.7 in /Users/nickhuang/Desktop/langgraph-101/lg-101-env/lib/python3.12/site-packages (from kubernetes>=28.1.0->chromadb) (0.7)\n",
      "Requirement already satisfied: coloredlogs in /Users/nickhuang/Desktop/langgraph-101/lg-101-env/lib/python3.12/site-packages (from onnxruntime>=1.14.1->chromadb) (15.0.1)\n",
      "Requirement already satisfied: flatbuffers in /Users/nickhuang/Desktop/langgraph-101/lg-101-env/lib/python3.12/site-packages (from onnxruntime>=1.14.1->chromadb) (24.3.25)\n",
      "Requirement already satisfied: protobuf in /Users/nickhuang/Desktop/langgraph-101/lg-101-env/lib/python3.12/site-packages (from onnxruntime>=1.14.1->chromadb) (4.25.5)\n",
      "Requirement already satisfied: sympy in /Users/nickhuang/Desktop/langgraph-101/lg-101-env/lib/python3.12/site-packages (from onnxruntime>=1.14.1->chromadb) (1.13.3)\n",
      "Requirement already satisfied: deprecated>=1.2.6 in /Users/nickhuang/Desktop/langgraph-101/lg-101-env/lib/python3.12/site-packages (from opentelemetry-api>=1.2.0->chromadb) (1.2.14)\n",
      "Requirement already satisfied: importlib-metadata<=8.4.0,>=6.0 in /Users/nickhuang/Desktop/langgraph-101/lg-101-env/lib/python3.12/site-packages (from opentelemetry-api>=1.2.0->chromadb) (8.4.0)\n",
      "Requirement already satisfied: googleapis-common-protos~=1.52 in /Users/nickhuang/Desktop/langgraph-101/lg-101-env/lib/python3.12/site-packages (from opentelemetry-exporter-otlp-proto-grpc>=1.2.0->chromadb) (1.65.0)\n",
      "Requirement already satisfied: opentelemetry-exporter-otlp-proto-common==1.27.0 in /Users/nickhuang/Desktop/langgraph-101/lg-101-env/lib/python3.12/site-packages (from opentelemetry-exporter-otlp-proto-grpc>=1.2.0->chromadb) (1.27.0)\n",
      "Requirement already satisfied: opentelemetry-proto==1.27.0 in /Users/nickhuang/Desktop/langgraph-101/lg-101-env/lib/python3.12/site-packages (from opentelemetry-exporter-otlp-proto-grpc>=1.2.0->chromadb) (1.27.0)\n",
      "Requirement already satisfied: opentelemetry-instrumentation-asgi==0.48b0 in /Users/nickhuang/Desktop/langgraph-101/lg-101-env/lib/python3.12/site-packages (from opentelemetry-instrumentation-fastapi>=0.41b0->chromadb) (0.48b0)\n",
      "Requirement already satisfied: opentelemetry-instrumentation==0.48b0 in /Users/nickhuang/Desktop/langgraph-101/lg-101-env/lib/python3.12/site-packages (from opentelemetry-instrumentation-fastapi>=0.41b0->chromadb) (0.48b0)\n",
      "Requirement already satisfied: opentelemetry-semantic-conventions==0.48b0 in /Users/nickhuang/Desktop/langgraph-101/lg-101-env/lib/python3.12/site-packages (from opentelemetry-instrumentation-fastapi>=0.41b0->chromadb) (0.48b0)\n",
      "Requirement already satisfied: opentelemetry-util-http==0.48b0 in /Users/nickhuang/Desktop/langgraph-101/lg-101-env/lib/python3.12/site-packages (from opentelemetry-instrumentation-fastapi>=0.41b0->chromadb) (0.48b0)\n",
      "Requirement already satisfied: setuptools>=16.0 in /Users/nickhuang/Desktop/langgraph-101/lg-101-env/lib/python3.12/site-packages (from opentelemetry-instrumentation==0.48b0->opentelemetry-instrumentation-fastapi>=0.41b0->chromadb) (75.1.0)\n",
      "Requirement already satisfied: wrapt<2.0.0,>=1.0.0 in /Users/nickhuang/Desktop/langgraph-101/lg-101-env/lib/python3.12/site-packages (from opentelemetry-instrumentation==0.48b0->opentelemetry-instrumentation-fastapi>=0.41b0->chromadb) (1.16.0)\n",
      "Requirement already satisfied: asgiref~=3.0 in /Users/nickhuang/Desktop/langgraph-101/lg-101-env/lib/python3.12/site-packages (from opentelemetry-instrumentation-asgi==0.48b0->opentelemetry-instrumentation-fastapi>=0.41b0->chromadb) (3.8.1)\n",
      "Requirement already satisfied: monotonic>=1.5 in /Users/nickhuang/Desktop/langgraph-101/lg-101-env/lib/python3.12/site-packages (from posthog>=2.4.0->chromadb) (1.6)\n",
      "Requirement already satisfied: backoff>=1.10.0 in /Users/nickhuang/Desktop/langgraph-101/lg-101-env/lib/python3.12/site-packages (from posthog>=2.4.0->chromadb) (2.2.1)\n",
      "Requirement already satisfied: annotated-types>=0.6.0 in /Users/nickhuang/Desktop/langgraph-101/lg-101-env/lib/python3.12/site-packages (from pydantic>=1.9->chromadb) (0.7.0)\n",
      "Requirement already satisfied: pydantic-core==2.23.4 in /Users/nickhuang/Desktop/langgraph-101/lg-101-env/lib/python3.12/site-packages (from pydantic>=1.9->chromadb) (2.23.4)\n",
      "Requirement already satisfied: markdown-it-py>=2.2.0 in /Users/nickhuang/Desktop/langgraph-101/lg-101-env/lib/python3.12/site-packages (from rich>=10.11.0->chromadb) (3.0.0)\n",
      "Requirement already satisfied: pygments<3.0.0,>=2.13.0 in /Users/nickhuang/Desktop/langgraph-101/lg-101-env/lib/python3.12/site-packages (from rich>=10.11.0->chromadb) (2.18.0)\n",
      "Requirement already satisfied: huggingface-hub<1.0,>=0.16.4 in /Users/nickhuang/Desktop/langgraph-101/lg-101-env/lib/python3.12/site-packages (from tokenizers>=0.13.2->chromadb) (0.25.1)\n",
      "Requirement already satisfied: click>=8.0.0 in /Users/nickhuang/Desktop/langgraph-101/lg-101-env/lib/python3.12/site-packages (from typer>=0.9.0->chromadb) (8.1.7)\n",
      "Requirement already satisfied: shellingham>=1.3.0 in /Users/nickhuang/Desktop/langgraph-101/lg-101-env/lib/python3.12/site-packages (from typer>=0.9.0->chromadb) (1.5.4)\n",
      "Requirement already satisfied: httptools>=0.5.0 in /Users/nickhuang/Desktop/langgraph-101/lg-101-env/lib/python3.12/site-packages (from uvicorn[standard]>=0.18.3->chromadb) (0.6.1)\n",
      "Requirement already satisfied: python-dotenv>=0.13 in /Users/nickhuang/Desktop/langgraph-101/lg-101-env/lib/python3.12/site-packages (from uvicorn[standard]>=0.18.3->chromadb) (1.0.1)\n",
      "Requirement already satisfied: uvloop!=0.15.0,!=0.15.1,>=0.14.0 in /Users/nickhuang/Desktop/langgraph-101/lg-101-env/lib/python3.12/site-packages (from uvicorn[standard]>=0.18.3->chromadb) (0.20.0)\n",
      "Requirement already satisfied: watchfiles>=0.13 in /Users/nickhuang/Desktop/langgraph-101/lg-101-env/lib/python3.12/site-packages (from uvicorn[standard]>=0.18.3->chromadb) (0.24.0)\n",
      "Requirement already satisfied: websockets>=10.4 in /Users/nickhuang/Desktop/langgraph-101/lg-101-env/lib/python3.12/site-packages (from uvicorn[standard]>=0.18.3->chromadb) (13.1)\n",
      "Requirement already satisfied: cachetools<6.0,>=2.0.0 in /Users/nickhuang/Desktop/langgraph-101/lg-101-env/lib/python3.12/site-packages (from google-auth>=1.0.1->kubernetes>=28.1.0->chromadb) (5.5.0)\n",
      "Requirement already satisfied: pyasn1-modules>=0.2.1 in /Users/nickhuang/Desktop/langgraph-101/lg-101-env/lib/python3.12/site-packages (from google-auth>=1.0.1->kubernetes>=28.1.0->chromadb) (0.4.1)\n",
      "Requirement already satisfied: rsa<5,>=3.1.4 in /Users/nickhuang/Desktop/langgraph-101/lg-101-env/lib/python3.12/site-packages (from google-auth>=1.0.1->kubernetes>=28.1.0->chromadb) (4.9)\n",
      "Requirement already satisfied: filelock in /Users/nickhuang/Desktop/langgraph-101/lg-101-env/lib/python3.12/site-packages (from huggingface-hub<1.0,>=0.16.4->tokenizers>=0.13.2->chromadb) (3.16.1)\n",
      "Requirement already satisfied: fsspec>=2023.5.0 in /Users/nickhuang/Desktop/langgraph-101/lg-101-env/lib/python3.12/site-packages (from huggingface-hub<1.0,>=0.16.4->tokenizers>=0.13.2->chromadb) (2024.9.0)\n",
      "Requirement already satisfied: zipp>=0.5 in /Users/nickhuang/Desktop/langgraph-101/lg-101-env/lib/python3.12/site-packages (from importlib-metadata<=8.4.0,>=6.0->opentelemetry-api>=1.2.0->chromadb) (3.20.2)\n",
      "Requirement already satisfied: mdurl~=0.1 in /Users/nickhuang/Desktop/langgraph-101/lg-101-env/lib/python3.12/site-packages (from markdown-it-py>=2.2.0->rich>=10.11.0->chromadb) (0.1.2)\n",
      "Requirement already satisfied: charset-normalizer<4,>=2 in /Users/nickhuang/Desktop/langgraph-101/lg-101-env/lib/python3.12/site-packages (from requests->kubernetes>=28.1.0->chromadb) (3.3.2)\n",
      "Requirement already satisfied: humanfriendly>=9.1 in /Users/nickhuang/Desktop/langgraph-101/lg-101-env/lib/python3.12/site-packages (from coloredlogs->onnxruntime>=1.14.1->chromadb) (10.0)\n",
      "Requirement already satisfied: mpmath<1.4,>=1.1.0 in /Users/nickhuang/Desktop/langgraph-101/lg-101-env/lib/python3.12/site-packages (from sympy->onnxruntime>=1.14.1->chromadb) (1.3.0)\n",
      "Requirement already satisfied: pyasn1<0.7.0,>=0.4.6 in /Users/nickhuang/Desktop/langgraph-101/lg-101-env/lib/python3.12/site-packages (from pyasn1-modules>=0.2.1->google-auth>=1.0.1->kubernetes>=28.1.0->chromadb) (0.6.1)\n",
      "\n",
      "\u001b[1m[\u001b[0m\u001b[34;49mnotice\u001b[0m\u001b[1;39;49m]\u001b[0m\u001b[39;49m A new release of pip is available: \u001b[0m\u001b[31;49m24.2\u001b[0m\u001b[39;49m -> \u001b[0m\u001b[32;49m25.0.1\u001b[0m\n",
      "\u001b[1m[\u001b[0m\u001b[34;49mnotice\u001b[0m\u001b[1;39;49m]\u001b[0m\u001b[39;49m To update, run: \u001b[0m\u001b[32;49mpip install --upgrade pip\u001b[0m\n",
      "Note: you may need to restart the kernel to use updated packages.\n"
     ]
    }
   ],
   "source": [
    "required_packages = [\n",
    "    \"langgraph\", \n",
    "    \"langgraph-sdk\", \n",
    "    \"langgraph-checkpoint-sqlite\", \n",
    "    \"langsmith\", \n",
    "    \"langchain-community\", \n",
    "    \"langchain-core\", \n",
    "    \"langchain-openai\", \n",
    "    \"notebook\", \n",
    "    \"python-dotenv\", \n",
    "    \"chromadb\"\n",
    "]\n",
    "\n",
    "# Install each package\n",
    "for package in required_packages:\n",
    "    %pip install {package}"
   ]
  },
  {
   "cell_type": "markdown",
   "metadata": {},
   "source": [
    "You can set your environment variables locally in this notebook."
   ]
  },
  {
   "cell_type": "code",
   "execution_count": null,
   "metadata": {},
   "outputs": [],
   "source": [
    "import os\n",
    "\n",
    "# Set environment variables\n",
    "os.environ[\"OPENAI_API_KEY\"] = \"\"\n",
    "os.environ[\"LANGCHAIN_API_KEY\"] = \"\"\n",
    "os.environ[\"LANGCHAIN_TRACING_V2\"] = \"true\"\n",
    "os.environ[\"LANGCHAIN_PROJECT\"] = \"langgraph-101\""
   ]
  },
  {
   "cell_type": "markdown",
   "metadata": {},
   "source": [
    "Alternatively, load environment variables from a .env file"
   ]
  },
  {
   "cell_type": "code",
   "execution_count": 2,
   "metadata": {},
   "outputs": [
    {
     "data": {
      "text/plain": [
       "True"
      ]
     },
     "execution_count": 2,
     "metadata": {},
     "output_type": "execute_result"
    }
   ],
   "source": [
    "from dotenv import load_dotenv\n",
    "load_dotenv(dotenv_path=\"../.env\", override=True)"
   ]
  },
  {
   "cell_type": "markdown",
   "metadata": {},
   "source": [
    "Set your LLM in accordance to your model provider"
   ]
  },
  {
   "cell_type": "code",
   "execution_count": 3,
   "metadata": {},
   "outputs": [],
   "source": [
    "# Set up LLM\n",
    "from langchain_openai import ChatOpenAI\n",
    "llm = ChatOpenAI(model_name=\"gpt-4o\", temperature=0)\n",
    "\n",
    "# Azure OpenAI Alternative\n",
    "# from models import AZURE_OPENAI_GPT_4O\n",
    "# llm = AZURE_OPENAI_GPT_4O"
   ]
  },
  {
   "cell_type": "markdown",
   "metadata": {},
   "source": [
    "Our graph is getting pretty big and complex! Let's copy over what we've done through the first three modules"
   ]
  },
  {
   "cell_type": "code",
   "execution_count": 4,
   "metadata": {},
   "outputs": [
    {
     "name": "stderr",
     "output_type": "stream",
     "text": [
      "USER_AGENT environment variable not set, consider setting it to identify your requests.\n"
     ]
    },
    {
     "data": {
      "image/png": "[encoded data removed]",
      "text/plain": [
       "<IPython.core.display.Image object>"
      ]
     },
     "metadata": {},
     "output_type": "display_data"
    }
   ],
   "source": [
    "from utils import get_vector_db_retriever, RAG_PROMPT\n",
    "from langchain.schema import Document\n",
    "from typing import List\n",
    "from typing_extensions import TypedDict, Annotated\n",
    "from langchain_core.messages import HumanMessage, SystemMessage, AIMessage\n",
    "from pydantic import BaseModel, Field\n",
    "from langgraph.constants import Send\n",
    "from collections import Counter\n",
    "from langgraph.graph import StateGraph\n",
    "from langgraph.graph import START, END\n",
    "from IPython.display import Image, display\n",
    "\n",
    "# Fetch retriever\n",
    "retriever = get_vector_db_retriever()\n",
    "\n",
    "# Define our GraphState, InputState, and OutputState\n",
    "def custom_documents_reducer(existing, update):\n",
    "    # If we passed in a dictionary that asks for \"overwrite\", then we return the updated documents only\n",
    "    if isinstance(update, dict) and update[\"type\"] == \"overwrite\":\n",
    "        return update[\"documents\"]\n",
    "    # Otherwise, we simple add the lists\n",
    "    return existing + update\n",
    "\n",
    "class GraphState(TypedDict):\n",
    "    question: str\n",
    "    rewritten_queries: List[str]\n",
    "    generation: str\n",
    "    documents: Annotated[List[Document], custom_documents_reducer]   # We use Annotated to add our custom reducer\n",
    "    attempted_generations: int\n",
    "\n",
    "class InputState(TypedDict):\n",
    "    question: str\n",
    "\n",
    "class OutputState(TypedDict):\n",
    "    generation: str\n",
    "    documents: List[Document]\n",
    "\n",
    "# Define Nodes and Conditional Edges\n",
    "def generate_response(state: GraphState):\n",
    "    print(\"---GENERATE RESPONSE---\")\n",
    "    question = state[\"question\"]\n",
    "    documents = state[\"documents\"]\n",
    "    attempted_generations = state.get(\"attempted_generations\", 0)   # By default we set attempted_generations to 0 if it doesn't exist yet\n",
    "    formatted_docs = \"\\n\\n\".join(doc.page_content for doc in documents)\n",
    "    rag_prompt_formatted = RAG_PROMPT.format(context=formatted_docs, question=question)\n",
    "    generation = llm.invoke([HumanMessage(content=rag_prompt_formatted)])\n",
    "    return {\n",
    "        \"generation\": generation,\n",
    "        \"attempted_generations\": attempted_generations + 1   # In our state update, we increment attempted_generations\n",
    "    }\n",
    "\n",
    "class GradeDocuments(BaseModel):\n",
    "    \"\"\"Binary score for relevance check on retrieved documents.\"\"\"\n",
    "    binary_score: str = Field(\n",
    "        description=\"Documents are relevant to the question, 'yes' or 'no'\"\n",
    "    )\n",
    "grade_documents_llm = llm.with_structured_output(GradeDocuments)\n",
    "grade_documents_system_prompt = \"\"\"You are a grader assessing relevance of a retrieved document to a user question. \\n \n",
    "    If the document contains keyword(s) or semantic meaning related to the user question, grade it as relevant. \\n\n",
    "    It does not need to be a stringent test. The goal is to filter out erroneous retrievals. \\n\n",
    "    Give a binary score 'yes' or 'no' score to indicate whether the document is relevant to the question.\"\"\"\n",
    "grade_documents_prompt = \"Here is the retrieved document: \\n\\n {document} \\n\\n Here is the user question: \\n\\n {question}\"\n",
    "def grade_documents(state):\n",
    "    print(\"---GRADE DOCUMENTS---\")\n",
    "    question = state[\"question\"]\n",
    "    documents = state[\"documents\"]\n",
    "    doc_counter = Counter(doc.page_content for doc in documents)\n",
    "    most_common_contents = doc_counter.most_common(5)\n",
    "    top_documents = []\n",
    "    for content, _ in most_common_contents:\n",
    "        for d in documents:\n",
    "            if d.page_content == content:\n",
    "                top_documents.append(d)\n",
    "                break\n",
    "    filtered_docs = []\n",
    "    for d in top_documents:\n",
    "        grade_documents_prompt_formatted = grade_documents_prompt.format(document=d.page_content, question=question)\n",
    "        score = grade_documents_llm.invoke(\n",
    "            [SystemMessage(content=grade_documents_system_prompt)] + [HumanMessage(content=grade_documents_prompt_formatted)]\n",
    "        )\n",
    "        grade = score.binary_score\n",
    "        if grade == \"yes\":\n",
    "            print(\"---GRADE: DOCUMENT RELEVANT---\")\n",
    "            filtered_docs.append(d)\n",
    "        else:\n",
    "            print(\"---GRADE: DOCUMENT NOT RELEVANT---\")\n",
    "            continue\n",
    "    return {\"documents\": {\"type\": \"overwrite\", \"documents\": filtered_docs}}\n",
    "\n",
    "def decide_to_generate(state):\n",
    "    state[\"question\"]\n",
    "    filtered_documents = state[\"documents\"]\n",
    "\n",
    "    if not filtered_documents:\n",
    "        print(\"---DECISION: ALL DOCUMENTS ARE NOT RELEVANT TO QUESTION, END---\")\n",
    "        return \"none relevant\"\n",
    "    else:\n",
    "        print(\"---DECISION: GENERATE---\")\n",
    "        return \"some relevant\" \n",
    "\n",
    "class GradeHallucinations(BaseModel):\n",
    "    \"\"\"Binary score for hallucination present in generation answer.\"\"\"\n",
    "    binary_score: str = Field(\n",
    "        description=\"Answer is grounded in the facts, 'yes' or 'no'\"\n",
    "    )\n",
    "\n",
    "grade_hallucinations_llm = llm.with_structured_output(GradeHallucinations)\n",
    "grade_hallucinations_system_prompt = \"\"\"You are a grader assessing whether an LLM generation is grounded in / supported by a set of retrieved facts. \\n \n",
    "     Give a binary score 'yes' or 'no'. 'Yes' means that the answer is grounded in / supported by the set of facts.\"\"\"\n",
    "grade_hallucinations_prompt = \"Set of facts: \\n\\n {documents} \\n\\n LLM generation: {generation}\"\n",
    "ATTEMPTED_GENERATION_MAX = 3\n",
    "\n",
    "def grade_hallucinations(state):\n",
    "    print(\"---CHECK HALLUCINATIONS---\")\n",
    "    documents = state[\"documents\"]\n",
    "    generation = state[\"generation\"]\n",
    "    attempted_generations = state[\"attempted_generations\"]\n",
    "    formatted_docs = \"\\n\\n\".join(doc.page_content for doc in documents)\n",
    "    grade_hallucinations_prompt_formatted = grade_hallucinations_prompt.format(\n",
    "        documents=formatted_docs,\n",
    "        generation=generation\n",
    "    )\n",
    "    score = grade_hallucinations_llm.invoke(\n",
    "        [SystemMessage(content=grade_hallucinations_system_prompt)] + [HumanMessage(content=grade_hallucinations_prompt_formatted)]\n",
    "    )\n",
    "    grade = score.binary_score\n",
    "    if grade == \"yes\":\n",
    "        print(\"---DECISION: GENERATION IS GROUNDED IN DOCUMENTS---\")\n",
    "        return \"supported\"\n",
    "    elif attempted_generations >= ATTEMPTED_GENERATION_MAX:    # New condition!\n",
    "        print(\"---DECISION: TOO MANY ATTEMPTS, GIVE UP---\")\n",
    "        raise RuntimeError(\"Too many attempted generations with hallucinations, giving up.\")\n",
    "    else:\n",
    "        print(\"---DECISION: GENERATION IS NOT GROUNDED IN DOCUMENTS, RE-TRY---\")\n",
    "        return \"not supported\"\n",
    "\n",
    "class RewrittenQueries(BaseModel):\n",
    "    \"\"\"Rewritten queries based on the user's original question.\"\"\"\n",
    "    rewritten_queries: List[str] = Field(\n",
    "        description=\"A list of rewritten versions of the user's query. Each rewritten version is rewritten differently, rephrased and potentially uses synonyms.\"\n",
    "    )\n",
    "\n",
    "rewritten_query_llm = llm.with_structured_output(RewrittenQueries)\n",
    "rewritten_query_system_prompt = \"\"\"You are an analyst in charge of taking a user's question as input, and reframing and rewriting it in different ways.\\n\n",
    "Your goal is to change the phrasing of the question, while making sure that the intent and meaning of the question is the same.\\n\n",
    "Return a list of rewritten_queries. The number will be specified by the user.\"\"\"\n",
    "rewritten_query_prompt = \"Here is the user's question: \\n\\n {question}. Return {num_rewrites} queries.\"\n",
    "\n",
    "class SampleAnswer(BaseModel):\n",
    "    \"\"\"Sample answer for an input question.\"\"\"\n",
    "    sample_answer: str = Field(\n",
    "        description=\"A concise example answer for a question. This shouldn't exceed three sentences in length.\"\n",
    "    )\n",
    "\n",
    "def generate_rewritten_queries(state):\n",
    "    print(\"---GENERATING REWRITTEN VERSIONS OF THE USER'S QUERY---\")\n",
    "    question = state[\"question\"]\n",
    "    num_rewrites = 3\n",
    "    rewritten_query_prompt_formatted = rewritten_query_prompt.format(question=question, num_rewrites=num_rewrites)\n",
    "    response = rewritten_query_llm.invoke(\n",
    "        [SystemMessage(content=rewritten_query_system_prompt)] + [HumanMessage(content=rewritten_query_prompt_formatted)]\n",
    "    )\n",
    "    rewritten_queries = response.rewritten_queries\n",
    "    return {\"rewritten_queries\": rewritten_queries}\n",
    "\n",
    "def continue_to_retrieval_nodes(state: GraphState):\n",
    "    edges_to_create = []\n",
    "    edges_to_create.append(Send(\"retrieve_documents\", {\"question\": state[\"question\"]}))\n",
    "    for rewritten_query in state[\"rewritten_queries\"]:\n",
    "        edges_to_create.append(Send(\"retrieve_documents\", {\"question\": rewritten_query}))\n",
    "    return edges_to_create\n",
    "\n",
    "sample_answer_llm = llm.with_structured_output(SampleAnswer)\n",
    "sample_answer_system_prompt = \"\"\"You are a novice in charge of taking a user's question as input, and generating a sample answer for it.\\n\n",
    "This sample answer should contain words that would likely be in a real answer, but is not grounded in any factual documents, the way a real answer would be.\"\"\"\n",
    "sample_answer_prompt = \"Here is the user's question: \\n\\n {question}.\"\n",
    "\n",
    "def retrieve_documents(state):\n",
    "    print(\"---RETRIEVE DOCUMENTS---\")\n",
    "    question = state[\"question\"]\n",
    "    sample_answer_prompt_formatted = sample_answer_prompt.format(question=question)\n",
    "    response = sample_answer_llm.invoke(\n",
    "        [SystemMessage(content=sample_answer_system_prompt)] + [HumanMessage(content=sample_answer_prompt_formatted)]\n",
    "    )\n",
    "    sample_answer = response.sample_answer\n",
    "    documents = retriever.invoke(f\"{question}: {sample_answer}\")    # Now we use our question and sample answer\n",
    "    return {\"documents\": documents}\n",
    "\n",
    "\n",
    "\n",
    "# Define our graph\n",
    "graph_builder = StateGraph(GraphState, input=InputState, output=OutputState)\n",
    "graph_builder.add_node(\"generate_rewritten_queries\", generate_rewritten_queries)\n",
    "graph_builder.add_node(\"retrieve_documents\", retrieve_documents)\n",
    "graph_builder.add_node(\"generate_response\", generate_response)\n",
    "graph_builder.add_node(\"grade_documents\", grade_documents)\n",
    "\n",
    "graph_builder.add_edge(START, \"generate_rewritten_queries\")\n",
    "graph_builder.add_conditional_edges(\n",
    "    \"generate_rewritten_queries\",\n",
    "    continue_to_retrieval_nodes,\n",
    "    [\"retrieve_documents\"]\n",
    ")\n",
    "graph_builder.add_edge(\"retrieve_documents\", \"grade_documents\")\n",
    "graph_builder.add_conditional_edges(\n",
    "    \"grade_documents\",\n",
    "    decide_to_generate,\n",
    "    {\n",
    "        \"some relevant\": \"generate_response\",\n",
    "        \"none relevant\": END\n",
    "    })\n",
    "graph_builder.add_conditional_edges(\n",
    "    \"generate_response\",\n",
    "    grade_hallucinations,\n",
    "    {\n",
    "        \"supported\": END,\n",
    "        \"not supported\": \"generate_response\"\n",
    "    })\n",
    "\n",
    "graph = graph_builder.compile()\n",
    "display(Image(graph.get_graph().draw_mermaid_png()))"
   ]
  },
  {
   "cell_type": "markdown",
   "metadata": {},
   "source": [
    "## Memory"
   ]
  },
  {
   "cell_type": "markdown",
   "metadata": {},
   "source": [
    "In every example so far, [state has been transient](https://github.com/langchain-ai/langgraph/discussions/352#discussioncomment-9291220) to a single graph execution. If we invoke our graph for a second time, we are starting with a fresh state. This limits our ability to have multi-turn conversations with interruptions. \n",
    "\n",
    "We can use [persistence](https://langchain-ai.github.io/langgraph/how-tos/persistence/) to address this! \n",
    " \n",
    "LangGraph can use a checkpointer to automatically save the graph state after each step. This built-in persistence layer gives us memory, allowing LangGraph to pick up from the last state update. "
   ]
  },
  {
   "cell_type": "markdown",
   "metadata": {},
   "source": [
    "### Adjusting our State for multi-turn conversations"
   ]
  },
  {
   "cell_type": "markdown",
   "metadata": {},
   "source": [
    "Before we set up memory in our application, let's edit our State and Nodes so that instead of acting a single \"question\", we instead act on a list of \"questions and answers\".\n",
    "\n",
    "We'll call our list \"messages\". These existing messages will all be used for our retrieval step. And at the end of our flow when our LLM responds, we will add the latest question and answer to our \"messages\" history. "
   ]
  },
  {
   "cell_type": "code",
   "execution_count": 5,
   "metadata": {},
   "outputs": [],
   "source": [
    "from langchain_core.messages import AnyMessage, get_buffer_string\n",
    "import operator\n",
    "\n",
    "class GraphState(TypedDict):\n",
    "    question: str\n",
    "    messages: Annotated[List[AnyMessage], operator.add]     # We now track a list of messages\n",
    "    generation: str\n",
    "    rewritten_queries: List[str]\n",
    "    documents: Annotated[List[Document], custom_documents_reducer]\n",
    "    attempted_generations: int\n",
    "\n",
    "class InputState(TypedDict):\n",
    "    question: str\n",
    "\n",
    "class OutputState(TypedDict):\n",
    "    messages: Annotated[List[AnyMessage], operator.add]     # We output messages now in our OutputState\n",
    "    documents: List[Document]"
   ]
  },
  {
   "cell_type": "markdown",
   "metadata": {},
   "source": [
    "Now let's edit our existing Nodes to use `messages` instead of `question` when generating sample answers, grading document relevance, and generating a response."
   ]
  },
  {
   "cell_type": "code",
   "execution_count": 6,
   "metadata": {},
   "outputs": [],
   "source": [
    "sample_answer_system_prompt = \"\"\"You are a novice in charge of taking a conversation and a user's latest question as input, and generating a sample answer for the latest question.\\n\n",
    "This sample answer should contain words that would likely be in a real answer, but is not grounded in any factual documents, the way a real answer would be.\"\"\"\n",
    "sample_answer_prompt = \"This is the conversation so far {conversation} \\n\\n. Here is the user's latest question: \\n\\n {question}.\"\n",
    "def retrieve_documents(state):\n",
    "    print(\"---RETRIEVE DOCUMENTS---\")\n",
    "    question = state[\"question\"]\n",
    "    messages = state.get(\"messages\", [])\n",
    "    conversation = get_buffer_string(messages)\n",
    "    print(conversation)\n",
    "\n",
    "    sample_answer_prompt_formatted = sample_answer_prompt.format(question=question, conversation=conversation)  # We use the entire chat history from messages to generate sample answers\n",
    "    response = sample_answer_llm.invoke(\n",
    "        [SystemMessage(content=sample_answer_system_prompt)] + [HumanMessage(content=sample_answer_prompt_formatted)]\n",
    "    )\n",
    "    sample_answer = response.sample_answer\n",
    "    documents = retriever.invoke(f\"{question}: {sample_answer}\")    # Now we use our question and sample answer\n",
    "    return {\"documents\": documents}"
   ]
  },
  {
   "cell_type": "code",
   "execution_count": 7,
   "metadata": {},
   "outputs": [],
   "source": [
    "grade_documents_system_prompt = \"\"\"You are a grader assessing relevance of a retrieved document to a conversation between a user and an AI assistant, and user's latest question. \\n \n",
    "    If the document contains keyword(s) or semantic meaning related to the user question, definitely grade it as relevant. \\n\n",
    "    It does not need to be a stringent test. The goal is to filter out erroneous retrievals that are not relevant at all. \\n\n",
    "    Give a binary score 'yes' or 'no' score to indicate whether the document is relevant to the question.\"\"\"\n",
    "grade_documents_prompt = \"Here is the retrieved document: \\n\\n {document} \\n\\n Here is the conversation so far: \\n\\n {conversation} \\n\\n Here is the user question: \\n\\n {question}\"\n",
    "def grade_documents(state):\n",
    "    print(\"---CHECK DOCUMENT RELEVANCE TO QUESTION---\")\n",
    "    question = state[\"question\"]\n",
    "    documents = state[\"documents\"]\n",
    "    conversation = get_buffer_string(state[\"messages\"])\n",
    "\n",
    "    # -- New logic to deduplicate documents our queries --\n",
    "    doc_counter = Counter(doc.page_content for doc in documents)\n",
    "    most_common_contents = doc_counter.most_common(5)\n",
    "    top_documents = []\n",
    "    for content, _ in most_common_contents:\n",
    "        for d in documents:\n",
    "            if d.page_content == content:\n",
    "                top_documents.append(d)\n",
    "                break\n",
    "\n",
    "    # Score each one of our five most common documents\n",
    "    filtered_docs = []\n",
    "    for d in top_documents:\n",
    "        grade_documents_prompt_formatted = grade_documents_prompt.format(document=d.page_content, question=question, conversation=conversation)\n",
    "        score = grade_documents_llm.invoke(\n",
    "            [SystemMessage(content=grade_documents_system_prompt)] + [HumanMessage(content=grade_documents_prompt_formatted)]\n",
    "        )\n",
    "        grade = score.binary_score\n",
    "        if grade == \"yes\":\n",
    "            print(\"---GRADE: DOCUMENT RELEVANT---\")\n",
    "            filtered_docs.append(d)\n",
    "        else:\n",
    "            print(\"---GRADE: DOCUMENT NOT RELEVANT---\")\n",
    "            continue\n",
    "    return {\"documents\": {\"type\": \"overwrite\", \"documents\": filtered_docs}, \"question\": question, \"messages\": [HumanMessage(content=question)]}   # We add the question to Messages here"
   ]
  },
  {
   "cell_type": "code",
   "execution_count": 8,
   "metadata": {},
   "outputs": [],
   "source": [
    "from utils import RAG_PROMPT_WITH_CHAT_HISTORY\n",
    "\n",
    "def generate_response(state: GraphState):\n",
    "    print(\"---GENERATE RESPONSE---\")\n",
    "    documents = state[\"documents\"]\n",
    "    conversation = get_buffer_string(state[\"messages\"])\n",
    "    attempted_generations = state.get(\"attempted_generations\", 0)   # By default we set attempted_generations to 0 if it doesn't exist yet\n",
    "    formatted_docs = \"\\n\\n\".join(doc.page_content for doc in documents)\n",
    "    \n",
    "    # RAG generation\n",
    "    rag_prompt_formatted = RAG_PROMPT_WITH_CHAT_HISTORY.format(context=formatted_docs, conversation=conversation)\n",
    "    generation = llm.invoke([HumanMessage(content=rag_prompt_formatted)])\n",
    "    return {\n",
    "        \"generation\": generation,\n",
    "        \"attempted_generations\": attempted_generations + 1   # In our state update, we increment attempted_generations\n",
    "    }"
   ]
  },
  {
   "cell_type": "markdown",
   "metadata": {},
   "source": [
    "Awesome, we'll add one more node in our graph which configures memory ahead of our next invocation"
   ]
  },
  {
   "cell_type": "code",
   "execution_count": 9,
   "metadata": {},
   "outputs": [],
   "source": [
    "def configure_memory(state):\n",
    "    generation = state[\"generation\"]\n",
    "    return {\n",
    "        \"messages\": [generation],   # Add generation to our messages_list\n",
    "        \"attempted_generations\": 0,   # Reset this value to 0\n",
    "        \"documents\": {\"type\": \"overwrite\", \"documents\": []}    # Reset documents to empty\n",
    "    }"
   ]
  },
  {
   "cell_type": "markdown",
   "metadata": {},
   "source": [
    "### Local Memory"
   ]
  },
  {
   "cell_type": "markdown",
   "metadata": {},
   "source": [
    "Cool, now let's define our graph and add some local memory!\n",
    "\n",
    "One of the easiest to work with is `MemorySaver`, an in-memory key-value store for Graph state.\n",
    "\n",
    "All we need to do is compile the graph with a checkpointer, and our graph has memory!"
   ]
  },
  {
   "cell_type": "code",
   "execution_count": 10,
   "metadata": {},
   "outputs": [
    {
     "data": {
      "image/png": "[encoded data removed]",
      "text/plain": [
       "<IPython.core.display.Image object>"
      ]
     },
     "metadata": {},
     "output_type": "display_data"
    }
   ],
   "source": [
    "# Define our graph\n",
    "graph_builder = StateGraph(GraphState, input=InputState, output=OutputState)\n",
    "graph_builder.add_node(\"generate_rewritten_queries\", generate_rewritten_queries)\n",
    "graph_builder.add_node(\"retrieve_documents\", retrieve_documents)\n",
    "graph_builder.add_node(\"generate_response\", generate_response)\n",
    "graph_builder.add_node(\"grade_documents\", grade_documents)\n",
    "graph_builder.add_node(\"configure_memory\", configure_memory)    # New node for configuring memory\n",
    "\n",
    "graph_builder.add_edge(START, \"generate_rewritten_queries\")\n",
    "graph_builder.add_conditional_edges(\n",
    "    \"generate_rewritten_queries\",\n",
    "    continue_to_retrieval_nodes,\n",
    "    [\"retrieve_documents\"]\n",
    ")\n",
    "graph_builder.add_edge(\"retrieve_documents\", \"grade_documents\")\n",
    "graph_builder.add_conditional_edges(\n",
    "    \"grade_documents\",\n",
    "    decide_to_generate,\n",
    "    {\n",
    "        \"some relevant\": \"generate_response\",\n",
    "        \"none relevant\": END\n",
    "    })\n",
    "graph_builder.add_conditional_edges(\n",
    "    \"generate_response\",\n",
    "    grade_hallucinations,\n",
    "    {\n",
    "        \"supported\": \"configure_memory\",\n",
    "        \"not supported\": \"generate_response\"\n",
    "    })\n",
    "graph_builder.add_edge(\"configure_memory\", END)\n",
    "\n",
    "from langgraph.checkpoint.memory import MemorySaver\n",
    "memory = MemorySaver()\n",
    "\n",
    "graph = graph_builder.compile(checkpointer=memory)\n",
    "display(Image(graph.get_graph().draw_mermaid_png()))"
   ]
  },
  {
   "cell_type": "markdown",
   "metadata": {},
   "source": [
    "### Threads"
   ]
  },
  {
   "cell_type": "markdown",
   "metadata": {},
   "source": [
    "When we use memory, we need to specify a `thread_id`.\n",
    "\n",
    "This `thread_id` will store our collection of graph states.\n",
    "\n",
    "* The checkpointer write the state at every step of the graph\n",
    "* These checkpoints are saved in a thread \n",
    "* We can access that thread in the future using the `thread_id`\n"
   ]
  },
  {
   "cell_type": "code",
   "execution_count": 11,
   "metadata": {},
   "outputs": [],
   "source": [
    "import uuid\n",
    "thread_id = str(uuid.uuid4())"
   ]
  },
  {
   "cell_type": "code",
   "execution_count": 12,
   "metadata": {},
   "outputs": [
    {
     "name": "stdout",
     "output_type": "stream",
     "text": [
      "---GENERATING REWRITTEN VERSIONS OF THE USER'S QUERY---\n",
      "---RETRIEVE DOCUMENTS---\n",
      "\n",
      "---RETRIEVE DOCUMENTS---\n",
      "\n",
      "---RETRIEVE DOCUMENTS---\n",
      "\n",
      "---RETRIEVE DOCUMENTS---\n",
      "\n",
      "---CHECK DOCUMENT RELEVANCE TO QUESTION---\n",
      "---GRADE: DOCUMENT RELEVANT---\n",
      "---GRADE: DOCUMENT RELEVANT---\n",
      "---GRADE: DOCUMENT RELEVANT---\n",
      "---GRADE: DOCUMENT RELEVANT---\n",
      "---GRADE: DOCUMENT RELEVANT---\n",
      "---DECISION: GENERATE---\n",
      "---GENERATE RESPONSE---\n",
      "---CHECK HALLUCINATIONS---\n",
      "---DECISION: GENERATION IS GROUNDED IN DOCUMENTS---\n",
      "================================\u001b[1m Human Message \u001b[0m=================================\n",
      "\n",
      "Can I use LangGraph for customer support? I want to create an agent application.\n",
      "==================================\u001b[1m Ai Message \u001b[0m==================================\n",
      "\n",
      "Yes, you can use LangGraph to create a customer support agent application. LangGraph provides the necessary infrastructure and features, such as interrupts, checkpointers, and human-in-the-loop patterns, to build a reliable customer support bot. It also supports parallel processing and custom agent architectures, which can enhance the performance of your application.\n"
     ]
    }
   ],
   "source": [
    "config = {\"configurable\": {\"thread_id\": thread_id}}\n",
    "question = \"Can I use LangGraph for customer support? I want to create an agent application.\"\n",
    "response = graph.invoke({\"question\": question}, config)\n",
    "for m in response[\"messages\"]:\n",
    "    m.pretty_print()"
   ]
  },
  {
   "cell_type": "markdown",
   "metadata": {},
   "source": [
    "Let's ask a follow-up with the same thread_id!"
   ]
  },
  {
   "cell_type": "code",
   "execution_count": null,
   "metadata": {},
   "outputs": [],
   "source": [
    "config = {\"configurable\": {\"thread_id\": thread_id}}\n",
    "question = \"What models can I use for this?\"\n",
    "response = graph.invoke({\"question\": question}, config)\n",
    "for m in response[\"messages\"]:\n",
    "    m.pretty_print()"
   ]
  },
  {
   "cell_type": "markdown",
   "metadata": {},
   "source": [
    "__Let's take a look in LangSmith__"
   ]
  },
  {
   "cell_type": "markdown",
   "metadata": {},
   "source": [
    "### External Memory"
   ]
  },
  {
   "cell_type": "markdown",
   "metadata": {},
   "source": [
    "In the previous example, we compiled our graph with local memory - but realistically, you'll want to hook this up to a database. Here, we'll show how to use [Sqlite as a checkpointer](https://langchain-ai.github.io/langgraph/concepts/low_level/#checkpointer), but other checkpointers, such as [Postgres](https://langchain-ai.github.io/langgraph/how-tos/persistence_postgres/) are available!\n",
    "\n",
    "Create a file from your notebooks folder that sits in a directory /state_db/, called example.db"
   ]
  },
  {
   "cell_type": "code",
   "execution_count": 18,
   "metadata": {},
   "outputs": [],
   "source": [
    "import sqlite3\n",
    "from langgraph.checkpoint.sqlite import SqliteSaver\n",
    "\n",
    "db_path = \"state_db/example.db\"\n",
    "conn = sqlite3.connect(db_path, check_same_thread=False)\n",
    "memory = SqliteSaver(conn)\n",
    "graph = graph_builder.compile(checkpointer=memory)"
   ]
  },
  {
   "cell_type": "markdown",
   "metadata": {},
   "source": [
    "Now let's invoke our graph"
   ]
  },
  {
   "cell_type": "code",
   "execution_count": 19,
   "metadata": {},
   "outputs": [],
   "source": [
    "thread_id_2 = str(uuid.uuid4())"
   ]
  },
  {
   "cell_type": "code",
   "execution_count": null,
   "metadata": {},
   "outputs": [],
   "source": [
    "config = {\"configurable\": {\"thread_id\": thread_id_2}}\n",
    "question = \"Can I use LangGraph for customer support? I want to create an agent application.\"\n",
    "graph.invoke({\"question\": question}, config)"
   ]
  },
  {
   "cell_type": "markdown",
   "metadata": {},
   "source": [
    "Let's confirm that our state is saved locally still"
   ]
  },
  {
   "cell_type": "code",
   "execution_count": null,
   "metadata": {},
   "outputs": [],
   "source": [
    "config = {\"configurable\": {\"thread_id\": thread_id_2}}\n",
    "graph_state = graph.get_state(config)\n",
    "graph_state"
   ]
  },
  {
   "cell_type": "markdown",
   "metadata": {},
   "source": [
    "Using database like Sqlite means state is persisted! \n",
    "\n",
    "For example, we can re-start the notebook kernel and see that we can still load from Sqlite DB on disk.\n"
   ]
  },
  {
   "cell_type": "markdown",
   "metadata": {},
   "source": [
    "## Breakpoints and Human-in-the-loop"
   ]
  },
  {
   "cell_type": "markdown",
   "metadata": {},
   "source": [
    "Now, let's talk about the motivations for `human-in-the-loop`:\n",
    "\n",
    "(1) `Approval` - We can interrupt our agent, surface state to a user, and allow the user to accept an action\n",
    "\n",
    "(2) `Editing` - You can modify the state \n",
    "\n",
    "LangGraph offers several ways to get or update agent state to support various `human-in-the-loop` workflows. "
   ]
  },
  {
   "cell_type": "markdown",
   "metadata": {},
   "source": [
    "![breakpoints.jpg](https://cdn.prod.website-files.com/65b8cd72835ceeacd4449a53/66dbae7985b747dfed67775d_breakpoints1.png)"
   ]
  },
  {
   "cell_type": "markdown",
   "metadata": {},
   "source": [
    "Let's assume that we are concerned about the quality of our retrieved documents, even after grading. All we need to do is simply compile the graph with `interrupt_after=[\"grade_documents\"]`.\n",
    "\n",
    "This means that the execution will be interrupted after the node `grade_documents` executes. Now, we can inspect the documents before generating a response."
   ]
  },
  {
   "cell_type": "code",
   "execution_count": 22,
   "metadata": {},
   "outputs": [],
   "source": [
    "graph = graph_builder.compile(checkpointer=memory, interrupt_after=[\"grade_documents\"])"
   ]
  },
  {
   "cell_type": "code",
   "execution_count": 23,
   "metadata": {},
   "outputs": [],
   "source": [
    "thread_id_3 = str(uuid.uuid4())"
   ]
  },
  {
   "cell_type": "code",
   "execution_count": null,
   "metadata": {},
   "outputs": [],
   "source": [
    "config = {\"configurable\": {\"thread_id\": thread_id_3}}\n",
    "question = \"Can I use LangGraph for building a customer support bot?\"\n",
    "graph.invoke({\"question\": question}, config)"
   ]
  },
  {
   "cell_type": "markdown",
   "metadata": {},
   "source": [
    "We can get the state and look at the next node to call.\n",
    "\n",
    "This is a nice way to see that the graph has been interrupted."
   ]
  },
  {
   "cell_type": "code",
   "execution_count": null,
   "metadata": {},
   "outputs": [],
   "source": [
    "state = graph.get_state(config)\n",
    "state.next"
   ]
  },
  {
   "cell_type": "markdown",
   "metadata": {},
   "source": [
    "Now, we'll introduce a nice trick. When we invoke the graph with `None`, it will just continue from the last state checkpoint!\n",
    "\n",
    "For clarity, LangGraph will re-emit the current state. And then it will proceed to execute the following steps in the graph, which start with the `generate_response` node."
   ]
  },
  {
   "cell_type": "code",
   "execution_count": null,
   "metadata": {},
   "outputs": [],
   "source": [
    "response = graph.invoke(None, config)\n",
    "for m in response[\"messages\"]:\n",
    "    m.pretty_print()"
   ]
  },
  {
   "cell_type": "markdown",
   "metadata": {},
   "source": [
    "Now, lets bring these together with a specific user approval step that accepts user input.\n",
    "\n",
    "This is our human-in-the-loop!"
   ]
  },
  {
   "cell_type": "code",
   "execution_count": null,
   "metadata": {},
   "outputs": [],
   "source": [
    "thread_id_4 = str(uuid.uuid4())\n",
    "config = {\"configurable\": {\"thread_id\": thread_id_4}}\n",
    "question = \"Can I use LangGraph for building a customer support bot?\"\n",
    "graph.invoke({\"question\": question}, config)"
   ]
  },
  {
   "cell_type": "markdown",
   "metadata": {},
   "source": [
    "Now, let's take a look at our documents"
   ]
  },
  {
   "cell_type": "code",
   "execution_count": null,
   "metadata": {},
   "outputs": [],
   "source": [
    "state = graph.get_state(config)\n",
    "print(state.values[\"documents\"])"
   ]
  },
  {
   "cell_type": "markdown",
   "metadata": {},
   "source": [
    "Once reviewed, we can continue or cancel execution!"
   ]
  },
  {
   "cell_type": "code",
   "execution_count": null,
   "metadata": {},
   "outputs": [],
   "source": [
    "# Get user feedback\n",
    "user_approval = input(\"Do these documents look good to you? (yes/no): \")\n",
    "\n",
    "# Check approval\n",
    "if user_approval.lower() == \"yes\":\n",
    "    # If approved, continue the graph execution\n",
    "    graph.invoke(None, config)\n",
    "else:\n",
    "    print(\"Operation cancelled by user.\")"
   ]
  },
  {
   "cell_type": "markdown",
   "metadata": {},
   "source": [
    "Note that you can also specify `interrupt_before` to pause execution before a certain node executes."
   ]
  },
  {
   "cell_type": "markdown",
   "metadata": {},
   "source": [
    "### Dynamic Breakpoints"
   ]
  },
  {
   "cell_type": "markdown",
   "metadata": {},
   "source": [
    "Breakpoints are set by the developer on a specific node during graph compilation. \n",
    "\n",
    "But, sometimes it is helpful to allow the graph **dynamically interrupt** itself!\n",
    "\n",
    "This is an internal breakpoint, and [can be achieved using `NodeInterrupt`](https://langchain-ai.github.io/langgraph/how-tos/human_in_the_loop/dynamic_breakpoints/#run-the-graph-with-dynamic-interrupt).\n",
    "\n",
    "This has a few specific benefits: \n",
    "\n",
    "(1) you can do it conditionally (from inside a node based on developer-defined logic).\n",
    "\n",
    "(2) you can communicate to the user why its interrupted (by passing whatever you want to the `NodeInterrupt`).\n",
    "\n",
    "Let's add a `NodeInterrupt` to our `grade_documents` node instead of always interrupting after it! Specifically, let's only interrupt if no relevant documents can be found, instead of directly ending execution."
   ]
  },
  {
   "cell_type": "code",
   "execution_count": 41,
   "metadata": {},
   "outputs": [],
   "source": [
    "from langgraph.errors import NodeInterrupt\n",
    "def grade_documents(state):\n",
    "    print(\"---CHECK DOCUMENT RELEVANCE TO QUESTION---\")\n",
    "    question = state[\"question\"]\n",
    "    documents = state[\"documents\"]\n",
    "    conversation = get_buffer_string(state[\"messages\"])\n",
    "\n",
    "    # -- New logic to deduplicate documents our queries --\n",
    "    doc_counter = Counter(doc.page_content for doc in documents)\n",
    "    most_common_contents = doc_counter.most_common(5)\n",
    "    top_documents = []\n",
    "    for content, _ in most_common_contents:\n",
    "        for d in documents:\n",
    "            if d.page_content == content:\n",
    "                top_documents.append(d)\n",
    "                break\n",
    "\n",
    "    # Score each one of our five most common documents\n",
    "    filtered_docs = []\n",
    "    for d in top_documents:\n",
    "        grade_documents_prompt_formatted = grade_documents_prompt.format(document=d.page_content, question=question, conversation=conversation)\n",
    "        score = grade_documents_llm.invoke(\n",
    "            [SystemMessage(content=grade_documents_system_prompt)] + [HumanMessage(content=grade_documents_prompt_formatted)]\n",
    "        )\n",
    "        grade = score.binary_score\n",
    "        if grade == \"yes\":\n",
    "            print(\"---GRADE: DOCUMENT RELEVANT---\")\n",
    "            filtered_docs.append(d)\n",
    "        else:\n",
    "            print(\"---GRADE: DOCUMENT NOT RELEVANT---\")\n",
    "            continue\n",
    "\n",
    "    # Note: Added interrupt here!\n",
    "    if len(filtered_docs) == 0:\n",
    "        raise NodeInterrupt(f\"There are no relevant documents!: {filtered_docs}\")\n",
    "    \n",
    "    return {\"documents\": {\"type\": \"overwrite\", \"documents\": filtered_docs}, \"question\": question, \"messages\": [HumanMessage(content=question)]}"
   ]
  },
  {
   "cell_type": "markdown",
   "metadata": {},
   "source": [
    "Let's try it out!"
   ]
  },
  {
   "cell_type": "code",
   "execution_count": null,
   "metadata": {},
   "outputs": [],
   "source": [
    "# Define our graph\n",
    "graph_builder = StateGraph(GraphState, input=InputState, output=OutputState)\n",
    "graph_builder.add_node(\"generate_rewritten_queries\", generate_rewritten_queries)\n",
    "graph_builder.add_node(\"retrieve_documents\", retrieve_documents)\n",
    "graph_builder.add_node(\"generate_response\", generate_response)\n",
    "graph_builder.add_node(\"grade_documents\", grade_documents)\n",
    "graph_builder.add_node(\"configure_memory\", configure_memory)\n",
    "\n",
    "graph_builder.add_edge(START, \"generate_rewritten_queries\")\n",
    "graph_builder.add_conditional_edges(\n",
    "    \"generate_rewritten_queries\",\n",
    "    continue_to_retrieval_nodes,\n",
    "    [\"retrieve_documents\"]\n",
    ")\n",
    "graph_builder.add_edge(\"retrieve_documents\", \"grade_documents\")\n",
    "graph_builder.add_conditional_edges(\n",
    "    \"grade_documents\",\n",
    "    decide_to_generate,\n",
    "    {\n",
    "        \"some relevant\": \"generate_response\",\n",
    "        \"none relevant\": END\n",
    "    })\n",
    "graph_builder.add_conditional_edges(\n",
    "    \"generate_response\",\n",
    "    grade_hallucinations,\n",
    "    {\n",
    "        \"supported\": \"configure_memory\",\n",
    "        \"not supported\": \"generate_response\"\n",
    "    })\n",
    "graph_builder.add_edge(\"configure_memory\", END)\n",
    "\n",
    "memory = MemorySaver()\n",
    "\n",
    "graph = graph_builder.compile(checkpointer=memory)\n",
    "display(Image(graph.get_graph().draw_mermaid_png()))"
   ]
  },
  {
   "cell_type": "code",
   "execution_count": null,
   "metadata": {},
   "outputs": [],
   "source": [
    "thread_id_5 = str(uuid.uuid4())\n",
    "config = {\"configurable\": {\"thread_id\": thread_id_5}}\n",
    "question = \"Who is Man City's coach?\"\n",
    "graph.invoke({\"question\": question}, config)"
   ]
  },
  {
   "cell_type": "code",
   "execution_count": null,
   "metadata": {},
   "outputs": [],
   "source": [
    "state = graph.get_state(config)\n",
    "print(state.next)"
   ]
  },
  {
   "cell_type": "code",
   "execution_count": null,
   "metadata": {},
   "outputs": [],
   "source": [
    "graph.invoke(None, config)"
   ]
  },
  {
   "cell_type": "markdown",
   "metadata": {},
   "source": [
    "### Editing State"
   ]
  },
  {
   "cell_type": "markdown",
   "metadata": {},
   "source": [
    "We're stuck here! As we are running the same node, we can't progress. To complete this toy example, we can edit the state here with `update_state`, and then continue. Let's add a document about Man City's coach.\n",
    "\n",
    "Note: These update use the same reducers that you defined in your State class."
   ]
  },
  {
   "cell_type": "code",
   "execution_count": null,
   "metadata": {},
   "outputs": [],
   "source": [
    "graph.update_state(\n",
    "    config,\n",
    "    {\"documents\": {\"type\": \"overwrite\", \"documents\": [Document(page_content=\"Man City's coach is Pep Guardiola!\")]}},\n",
    "    as_node=\"grade_documents\"\n",
    ")"
   ]
  },
  {
   "cell_type": "code",
   "execution_count": null,
   "metadata": {},
   "outputs": [],
   "source": [
    "graph.invoke(None, config)"
   ]
  },
  {
   "cell_type": "markdown",
   "metadata": {},
   "source": [
    "## [Optional] Streaming"
   ]
  },
  {
   "cell_type": "markdown",
   "metadata": {},
   "source": [
    "LangGraph is built with [first class support for streaming](https://langchain-ai.github.io/langgraph/concepts/low_level/#streaming)."
   ]
  },
  {
   "cell_type": "markdown",
   "metadata": {},
   "source": [
    "### Streaming State"
   ]
  },
  {
   "cell_type": "markdown",
   "metadata": {},
   "source": [
    "Let's talk about ways to [stream our graph state](https://langchain-ai.github.io/langgraph/concepts/low_level/#streaming).\n",
    "\n",
    "`.stream` and `.astream` are sync and async methods for streaming back results. \n",
    " \n",
    "LangGraph supports a few [different streaming modes](https://langchain-ai.github.io/langgraph/how-tos/stream-values/) for [graph state](https://langchain-ai.github.io/langgraph/how-tos/stream-values/):\n",
    " \n",
    "* `values`: This streams the full state of the graph after each node is called.\n",
    "* `updates`: This streams updates to the state of the graph after each node is called.\n",
    "\n",
    "![values_vs_updates.png](https://cdn.prod.website-files.com/65b8cd72835ceeacd4449a53/66dbaf892d24625a201744e5_streaming1.png)\n",
    "\n",
    "Let's look at `stream_mode=\"updates\"`.\n",
    "\n",
    "Because we stream with `updates`, we only see updates to the state after node in the graph is run.\n",
    "\n",
    "Each `chunk` is a dict with `node_name` as the key and the updated state as the value.\n",
    "\n",
    "Let's try both of these streaming modes"
   ]
  },
  {
   "cell_type": "code",
   "execution_count": null,
   "metadata": {},
   "outputs": [],
   "source": [
    "question = \"Can I use LangGraph for customer support? I want to create an agent application.\"\n",
    "for chunk in graph.stream({\"question\": question}, stream_mode=\"updates\"):\n",
    "    print(chunk)"
   ]
  },
  {
   "cell_type": "markdown",
   "metadata": {},
   "source": [
    "Now, let's stream the full state every time with `values`"
   ]
  },
  {
   "cell_type": "code",
   "execution_count": null,
   "metadata": {},
   "outputs": [],
   "source": [
    "question = \"Can I use LangGraph for customer support? I want to create an agent application.\"\n",
    "for chunk in graph.stream({\"question\": question}, stream_mode=\"values\"):\n",
    "    print(chunk.keys())"
   ]
  },
  {
   "cell_type": "markdown",
   "metadata": {},
   "source": [
    "### Streaming Events"
   ]
  },
  {
   "cell_type": "markdown",
   "metadata": {},
   "source": [
    "We often want to stream more than graph state.\n",
    "\n",
    "In particular, with chat model calls it is common to stream the tokens as they are generated.\n",
    "\n",
    "We can do this [using the `.astream_events` method](https://langchain-ai.github.io/langgraph/how-tos/streaming-from-final-node/#stream-outputs-from-the-final-node), which streams back events as they happen inside nodes!\n",
    "\n",
    "Each event is a dict with a few keys:\n",
    " \n",
    "* `event`: This is the type of event that is being emitted. \n",
    "* `name`: This is the name of event.\n",
    "* `data`: This is the data associated with the event.\n",
    "* `metadata`: Contains`langgraph_node`, the node emitting the event.\n",
    "\n",
    "Let's have a look."
   ]
  },
  {
   "cell_type": "code",
   "execution_count": null,
   "metadata": {},
   "outputs": [],
   "source": [
    "question = \"Can I use LangGraph for customer support? I want to create an agent application.\"\n",
    "async for event in graph.astream_events({\"question\": question}, version=\"v2\"):\n",
    "    print(f\"Node: {event['metadata'].get('langgraph_node','')}. Type: {event['event']}. Name: {event['name']}\")"
   ]
  },
  {
   "cell_type": "markdown",
   "metadata": {},
   "source": [
    "The central point is that tokens from chat models within your graph have the `on_chat_model_stream` type.\n",
    "\n",
    "We can use `event['metadata']['langgraph_node']` to select the node to stream from.\n",
    "\n",
    "And we can use `event['data']` to get the actual data for each event, which in this case is an `AIMessageChunk`. "
   ]
  },
  {
   "cell_type": "code",
   "execution_count": null,
   "metadata": {},
   "outputs": [],
   "source": [
    "node_to_stream = 'generate_response'\n",
    "question = \"Can I use LangGraph for customer support? I want to create an agent application.\"\n",
    "async for event in graph.astream_events({\"question\": question}, version=\"v2\"):\n",
    "    # Get chat model tokens from a particular node \n",
    "    if event[\"event\"] == \"on_chat_model_stream\" and event['metadata'].get('langgraph_node','') == node_to_stream:\n",
    "        print(event[\"data\"])"
   ]
  },
  {
   "cell_type": "markdown",
   "metadata": {},
   "source": [
    "We can see the response for this particular node stream back one token at at time!"
   ]
  }
 ],
 "metadata": {
  "kernelspec": {
   "display_name": "lg-101-env",
   "language": "python",
   "name": "python3"
  },
  "language_info": {
   "codemirror_mode": {
    "name": "ipython",
    "version": 3
   },
   "file_extension": ".py",
   "mimetype": "text/x-python",
   "name": "python",
   "nbconvert_exporter": "python",
   "pygments_lexer": "ipython3",
   "version": "3.12.8"
  }
 },
 "nbformat": 4,
 "nbformat_minor": 2
}

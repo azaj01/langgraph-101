{
 "cells": [
  {
   "cell_type": "markdown",
   "metadata": {},
   "source": [
    "# LangGraph 101: Building Multi-Agent"
   ]
  },
  {
   "cell_type": "markdown",
   "metadata": {},
   "source": [
    "In this notebook, we're going to walk through setting up a **multi-agent workflow** in LangGraph. We will start from a simple ReAct agent and add additional steps into the workflow, simulating a realistic customer support example, showcasing human-in-the-loop, long term memory, and the LangGraph pre-built library. \n",
    "\n",
    "The agent utilizes the [Chinook database](https://www.sqlitetutorial.net/sqlite-sample-database/), and is able to handle customer inqueries related to invoice and music. \n",
    "\n",
    "![Arch](../images/architecture.png) \n",
    "\n",
    "\n",
    "\n",
    "For a deeper dive into LangGraph primitives and learning our framework, check out our [LangChain Academy](https://academy.langchain.com/courses/intro-to-langgraph)!\n"
   ]
  },
  {
   "cell_type": "markdown",
   "metadata": {},
   "source": [
    "## Pre-work: Setup"
   ]
  },
  {
   "cell_type": "markdown",
   "metadata": {},
   "source": [
    "#### Loading environment variables"
   ]
  },
  {
   "cell_type": "markdown",
   "metadata": {},
   "source": [
    "To start, let's load our environment variables from our .env file. Make sure all of the keys necessary in .env.example are included!\n",
    "We use OpenAI in this example, but feel free to swap ChatOpenAI with other model providers that you prefer. "
   ]
  },
  {
   "cell_type": "code",
   "execution_count": 54,
   "metadata": {},
   "outputs": [],
   "source": [
    "from dotenv import load_dotenv\n",
    "from langchain_openai import ChatOpenAI\n",
    "\n",
    "load_dotenv(dotenv_path=\"../.env\", override=True)\n",
    "model = ChatOpenAI(model=\"o3-mini\")\n",
    "\n",
    "# Note: If you are using another `ChatModel`, you can define it in `models.py` and import it here\n",
    "# from models import AZURE_OPENAI_GPT_4O\n",
    "# llm = AZURE_OPENAI_GPT_4O"
   ]
  },
  {
   "cell_type": "markdown",
   "metadata": {},
   "source": [
    "#### Loading sample customer data\n",
    "\n",
    "The agent utilizes the [Chinook database](https://www.sqlitetutorial.net/sqlite-sample-database/), which contains sample information on customer information, purchase history, and music catalog. "
   ]
  },
  {
   "cell_type": "code",
   "execution_count": 55,
   "metadata": {},
   "outputs": [],
   "source": [
    "import sqlite3\n",
    "import requests\n",
    "from langchain_community.utilities.sql_database import SQLDatabase\n",
    "from sqlalchemy import create_engine\n",
    "from sqlalchemy.pool import StaticPool\n",
    "\n",
    "def get_engine_for_chinook_db():\n",
    "    \"\"\"Pull sql file, populate in-memory database, and create engine.\"\"\"\n",
    "    url = \"https://raw.githubusercontent.com/lerocha/chinook-database/master/ChinookDatabase/DataSources/Chinook_Sqlite.sql\"\n",
    "    response = requests.get(url)\n",
    "    sql_script = response.text\n",
    "\n",
    "    connection = sqlite3.connect(\":memory:\", check_same_thread=False)\n",
    "    connection.executescript(sql_script)\n",
    "    return create_engine(\n",
    "        \"sqlite://\",\n",
    "        creator=lambda: connection,\n",
    "        poolclass=StaticPool,\n",
    "        connect_args={\"check_same_thread\": False},\n",
    "    )\n",
    "\n",
    "engine = get_engine_for_chinook_db()\n",
    "db = SQLDatabase(engine)"
   ]
  },
  {
   "cell_type": "markdown",
   "metadata": {},
   "source": [
    "#### Setting up short-term and long-term memory "
   ]
  },
  {
   "cell_type": "markdown",
   "metadata": {},
   "source": [
    "We will also initialize a checkpointer for **short-term memory**, maintaining context within a single thread. \n",
    "\n",
    "**Long term memory** lets you store and recall information between conversations. Today, we will utilize our long term memory store to store user preferences for personalization. \n",
    "\n"
   ]
  },
  {
   "cell_type": "code",
   "execution_count": 56,
   "metadata": {},
   "outputs": [],
   "source": [
    "from langgraph.checkpoint.memory import MemorySaver\n",
    "from langgraph.store.memory import InMemoryStore\n",
    "\n",
    "# Initializing long term memory store \n",
    "in_memory_store = InMemoryStore()\n",
    "\n",
    "# Initializing checkpoint for thread-level memory \n",
    "checkpointer = MemorySaver()"
   ]
  },
  {
   "cell_type": "markdown",
   "metadata": {},
   "source": [
    "## Part 1: Building ReAct Sub-Agents"
   ]
  },
  {
   "cell_type": "markdown",
   "metadata": {},
   "source": [
    "### 1.1 Building a ReAct Agent from Scratch"
   ]
  },
  {
   "cell_type": "markdown",
   "metadata": {},
   "source": [
    "Now that we are set up, we are ready to build out our **first subagent**. This is a simple ReAct agent that fetches information related to music store catalog, utilizing a set of tools to generate its response. \n",
    "\n",
    "![react_1](../images/music_subagent.png)"
   ]
  },
  {
   "cell_type": "markdown",
   "metadata": {},
   "source": [
    "#### State"
   ]
  },
  {
   "cell_type": "markdown",
   "metadata": {},
   "source": [
    "How does information flow through the steps?  \n",
    "\n",
    "State is the first LangGraph concept we'll cover. **State can be thought of as the memory of the agent - its a shared data structure that’s passed on between the nodes of your graph**, representing the current snapshot of your application. \n",
    "\n",
    "For this our customer support agent our state will track the following elements: \n",
    "1. The customer ID\n",
    "2. Conversation history\n",
    "3. Memory from long term memory store\n",
    "4. Remaining steps, which tracks # steps until it hits recursion limit"
   ]
  },
  {
   "cell_type": "code",
   "execution_count": 57,
   "metadata": {},
   "outputs": [],
   "source": [
    "from typing_extensions import TypedDict\n",
    "from typing import Annotated, List\n",
    "from langgraph.graph.message import AnyMessage, add_messages\n",
    "from langgraph.managed.is_last_step import RemainingSteps\n",
    "\n",
    "class State(TypedDict):\n",
    "    customer_id: str\n",
    "    messages: Annotated[list[AnyMessage], add_messages]\n",
    "    loaded_memory: str\n",
    "    remaining_steps: RemainingSteps "
   ]
  },
  {
   "cell_type": "markdown",
   "metadata": {},
   "source": [
    "#### Tools\n",
    "Let's define a list of **tools** our agent will have access to. Tools are functionts that can act as extension of the LLM's capabilities. In our case, we will create several tools that interacts with the Chinook database regarding invoices. \n",
    "\n",
    "We can create tools using the @tool decorator to create a tool"
   ]
  },
  {
   "cell_type": "code",
   "execution_count": 58,
   "metadata": {},
   "outputs": [],
   "source": [
    "from langchain_core.tools import tool\n",
    "import ast\n",
    "\n",
    "@tool\n",
    "def get_albums_by_artist(artist: str):\n",
    "    \"\"\"Get albums by an artist.\"\"\"\n",
    "    return db.run(\n",
    "        f\"\"\"\n",
    "        SELECT Album.Title, Artist.Name \n",
    "        FROM Album \n",
    "        JOIN Artist ON Album.ArtistId = Artist.ArtistId \n",
    "        WHERE Artist.Name LIKE '%{artist}%';\n",
    "        \"\"\",\n",
    "        include_columns=True\n",
    "    )\n",
    "\n",
    "@tool\n",
    "def get_tracks_by_artist(artist: str):\n",
    "    \"\"\"Get songs by an artist (or similar artists).\"\"\"\n",
    "    return db.run(\n",
    "        f\"\"\"\n",
    "        SELECT Track.Name as SongName, Artist.Name as ArtistName \n",
    "        FROM Album \n",
    "        LEFT JOIN Artist ON Album.ArtistId = Artist.ArtistId \n",
    "        LEFT JOIN Track ON Track.AlbumId = Album.AlbumId \n",
    "        WHERE Artist.Name LIKE '%{artist}%';\n",
    "        \"\"\",\n",
    "        include_columns=True\n",
    "    )\n",
    "\n",
    "@tool\n",
    "def get_songs_by_genre(genre: str):\n",
    "    \"\"\"\n",
    "    Fetch songs from the database that match a specific genre.\n",
    "    \n",
    "    Args:\n",
    "        genre (str): The genre of the songs to fetch.\n",
    "    \n",
    "    Returns:\n",
    "        list[dict]: A list of songs that match the specified genre.\n",
    "    \"\"\"\n",
    "    genre_id_query = f\"SELECT GenreId FROM Genre WHERE Name LIKE '%{genre}%'\"\n",
    "    genre_ids = db.run(genre_id_query)\n",
    "    if not genre_ids:\n",
    "        return f\"No songs found for the genre: {genre}\"\n",
    "    genre_ids = ast.literal_eval(genre_ids)\n",
    "    genre_id_list = \", \".join(str(gid[0]) for gid in genre_ids)\n",
    "\n",
    "    songs_query = f\"\"\"\n",
    "        SELECT Track.Name as SongName, Artist.Name as ArtistName\n",
    "        FROM Track\n",
    "        LEFT JOIN Album ON Track.AlbumId = Album.AlbumId\n",
    "        LEFT JOIN Artist ON Album.ArtistId = Artist.ArtistId\n",
    "        WHERE Track.GenreId IN ({genre_id_list})\n",
    "        GROUP BY Artist.Name\n",
    "        LIMIT 8;\n",
    "    \"\"\"\n",
    "    songs = db.run(songs_query, include_columns=True)\n",
    "    if not songs:\n",
    "        return f\"No songs found for the genre: {genre}\"\n",
    "    formatted_songs = ast.literal_eval(songs)\n",
    "    return [\n",
    "        {\"Song\": song[\"SongName\"], \"Artist\": song[\"ArtistName\"]}\n",
    "        for song in formatted_songs\n",
    "    ]\n",
    "\n",
    "@tool\n",
    "def check_for_songs(song_title):\n",
    "    \"\"\"Check if a song exists by its name.\"\"\"\n",
    "    return db.run(\n",
    "        f\"\"\"\n",
    "        SELECT * FROM Track WHERE Name LIKE '%{song_title}%';\n",
    "        \"\"\",\n",
    "        include_columns=True\n",
    "    )\n",
    "\n",
    "music_tools = [get_albums_by_artist, get_tracks_by_artist, get_songs_by_genre, check_for_songs]\n",
    "llm_with_music_tools = model.bind_tools(music_tools)"
   ]
  },
  {
   "cell_type": "markdown",
   "metadata": {},
   "source": [
    "#### Nodes"
   ]
  },
  {
   "cell_type": "markdown",
   "metadata": {},
   "source": [
    "Now that we have a list of tools, we are ready to build nodes that interact with them. \n",
    "\n",
    "Nodes are just python (or JS/TS!) functions. Nodes take in your graph's State as input, execute some logic, and return a new State. \n",
    "\n",
    "Here, we're just going to set up 2 nodes for our ReAct agent:\n",
    "1. **music_assistant**: Reasoning node that decides which function to invoke \n",
    "2. **music_tools**: Node that contains all the available tools and executes the function\n",
    "\n",
    "LangGraph has a pre-built ToolNode that we can utilize to create a node for our tools. "
   ]
  },
  {
   "cell_type": "code",
   "execution_count": 59,
   "metadata": {},
   "outputs": [],
   "source": [
    "from langgraph.prebuilt import ToolNode\n",
    "# Node\n",
    "music_tool_node = ToolNode(music_tools)"
   ]
  },
  {
   "cell_type": "code",
   "execution_count": 60,
   "metadata": {},
   "outputs": [],
   "source": [
    "from langchain_core.messages import ToolMessage, SystemMessage, HumanMessage\n",
    "from langchain_core.runnables import RunnableConfig\n",
    "\n",
    "# Music assistant prompt\n",
    "def generate_music_assistant_prompt(memory: str = \"None\") -> str:\n",
    "    return f\"\"\"\n",
    "    You are a member of the assistant team, your role specifically is to focused on helping customers discover and learn about music in our digital catalog. \n",
    "    If you are unable to find playlists, songs, or albums associated with an artist, it is okay. \n",
    "    Just inform the customer that the catalog does not have any playlists, songs, or albums associated with that artist.\n",
    "    You also have context on any saved user preferences, helping you to tailor your response. \n",
    "    \n",
    "    CORE RESPONSIBILITIES:\n",
    "    - Search and provide accurate information about songs, albums, artists, and playlists\n",
    "    - Offer relevant recommendations based on customer interests\n",
    "    - Handle music-related queries with attention to detail\n",
    "    - Help customers discover new music they might enjoy\n",
    "    - You are routed only when there are questions related to music catalog; ignore other questions. \n",
    "    \n",
    "    SEARCH GUIDELINES:\n",
    "    1. Always perform thorough searches before concluding something is unavailable\n",
    "    2. If exact matches aren't found, try:\n",
    "       - Checking for alternative spellings\n",
    "       - Looking for similar artist names\n",
    "       - Searching by partial matches\n",
    "       - Checking different versions/remixes\n",
    "    3. When providing song lists:\n",
    "       - Include the artist name with each song\n",
    "       - Mention the album when relevant\n",
    "       - Note if it's part of any playlists\n",
    "       - Indicate if there are multiple versions\n",
    "    \n",
    "    Additional context is provided below: \n",
    "\n",
    "    Prior saved user preferences: {memory}\n",
    "    \n",
    "    Message history is also attached.  \n",
    "    \"\"\"\n",
    "\n",
    "# Node \n",
    "def music_assistant(state: State, config: RunnableConfig): \n",
    "\n",
    "    # Fetching long term memory. \n",
    "    memory = \"None\" \n",
    "    if \"loaded_memory\" in state: \n",
    "        memory = state[\"loaded_memory\"]\n",
    "\n",
    "    # Intructions for our agent  \n",
    "    music_assistant_prompt = generate_music_assistant_prompt(memory)\n",
    "\n",
    "    # Invoke the model\n",
    "    response = llm_with_music_tools.invoke([SystemMessage(music_assistant_prompt)] + state[\"messages\"])\n",
    "    \n",
    "    # Update the state\n",
    "    return {\"messages\": [response]}"
   ]
  },
  {
   "cell_type": "markdown",
   "metadata": {},
   "source": [
    "#### Edges"
   ]
  },
  {
   "cell_type": "markdown",
   "metadata": {},
   "source": [
    "Now, we need to define a control flow that connects between our defined nodes, and that's where the concept of edges come in.\n",
    "\n",
    "**Edges are connections between nodes. They define the flow of the graph.**\n",
    "* **Normal edges** are deterministic and always go from one node to its defined target\n",
    "* **Conditional edges** are used to dynamically route between nodes, implemented as functions that return the next node to visit based upon some logic. \n",
    "\n",
    "In this case, we want a **conditional edge** from our subagent that determines whether to: \n",
    "- Invoke tools, or,\n",
    "- Route to the end if user query has been finished "
   ]
  },
  {
   "cell_type": "code",
   "execution_count": 61,
   "metadata": {},
   "outputs": [],
   "source": [
    "# Conditional edge that determines whether to continue or not\n",
    "def should_continue(state: State, config: RunnableConfig):\n",
    "    messages = state[\"messages\"]\n",
    "    last_message = messages[-1]\n",
    "    \n",
    "    # If there is no function call, then we finish\n",
    "    if not last_message.tool_calls:\n",
    "        return \"end\"\n",
    "    # Otherwise if there is, we continue\n",
    "    else:\n",
    "        return \"continue\""
   ]
  },
  {
   "cell_type": "markdown",
   "metadata": {},
   "source": [
    "#### Compile Graph!\n",
    "\n",
    "Now that we've defined our State and Nodes, let's put it all together and construct our react agent!"
   ]
  },
  {
   "cell_type": "code",
   "execution_count": 62,
   "metadata": {},
   "outputs": [],
   "source": [
    "from langgraph.graph import StateGraph, START, END\n",
    "from IPython.display import Image, display\n",
    "\n",
    "music_workflow = StateGraph(State)\n",
    "\n",
    "# Add nodes \n",
    "music_workflow.add_node(\"music_assistant\", music_assistant)\n",
    "music_workflow.add_node(\"music_tool_node\", music_tool_node)\n",
    "\n",
    "\n",
    "# Add edges \n",
    "# First, we define the start node. The query will always route to the subagent node first. \n",
    "music_workflow.add_edge(START, \"music_assistant\")\n",
    "\n",
    "# We now add a conditional edge\n",
    "music_workflow.add_conditional_edges(\n",
    "    \"music_assistant\",\n",
    "    # Function representing our conditional edge\n",
    "    should_continue,\n",
    "    {\n",
    "        # If `tools`, then we call the tool node.\n",
    "        \"continue\": \"music_tool_node\",\n",
    "        # Otherwise we finish.\n",
    "        \"end\": END,\n",
    "    },\n",
    ")\n",
    "\n",
    "music_workflow.add_edge(\"music_tool_node\", \"music_assistant\")\n",
    "\n",
    "music_catalog_subagent = music_workflow.compile(name=\"music_catalog_subagent\", checkpointer=checkpointer, store = in_memory_store)"
   ]
  },
  {
   "cell_type": "code",
   "execution_count": 65,
   "metadata": {},
   "outputs": [
    {
     "data": {
      "image/png": "[encoded data removed]",
      "text/plain": [
       "<IPython.core.display.Image object>"
      ]
     },
     "metadata": {},
     "output_type": "display_data"
    }
   ],
   "source": [
    "from utils import visualize_graph\n",
    "visualize_graph(music_catalog_subagent)"
   ]
  },
  {
   "cell_type": "markdown",
   "metadata": {},
   "source": [
    "#### Testing"
   ]
  },
  {
   "cell_type": "markdown",
   "metadata": {},
   "source": [
    "Let's see how it works!"
   ]
  },
  {
   "cell_type": "code",
   "execution_count": 66,
   "metadata": {
    "scrolled": true
   },
   "outputs": [
    {
     "name": "stdout",
     "output_type": "stream",
     "text": [
      "================================\u001b[1m Human Message \u001b[0m=================================\n",
      "\n",
      "I like the Rolling Stones. What songs do you recommend by them or by other artists that I might like?\n",
      "==================================\u001b[1m Ai Message \u001b[0m==================================\n",
      "Tool Calls:\n",
      "  get_tracks_by_artist (call_iTGXhIC2rvP2YgQ73xRrkARS)\n",
      " Call ID: call_iTGXhIC2rvP2YgQ73xRrkARS\n",
      "  Args:\n",
      "    artist: The Rolling Stones\n",
      "=================================\u001b[1m Tool Message \u001b[0m=================================\n",
      "Name: get_tracks_by_artist\n",
      "\n",
      "[{'SongName': 'Time Is On My Side', 'ArtistName': 'The Rolling Stones'}, {'SongName': 'Heart Of Stone', 'ArtistName': 'The Rolling Stones'}, {'SongName': 'Play With Fire', 'ArtistName': 'The Rolling Stones'}, {'SongName': 'Satisfaction', 'ArtistName': 'The Rolling Stones'}, {'SongName': 'As Tears Go By', 'ArtistName': 'The Rolling Stones'}, {'SongName': 'Get Off Of My Cloud', 'ArtistName': 'The Rolling Stones'}, {'SongName': \"Mother's Little Helper\", 'ArtistName': 'The Rolling Stones'}, {'SongName': '19th Nervous Breakdown', 'ArtistName': 'The Rolling Stones'}, {'SongName': 'Paint It Black', 'ArtistName': 'The Rolling Stones'}, {'SongName': 'Under My Thumb', 'ArtistName': 'The Rolling Stones'}, {'SongName': 'Ruby Tuesday', 'ArtistName': 'The Rolling Stones'}, {'SongName': \"Let's Spend The Night Together\", 'ArtistName': 'The Rolling Stones'}, {'SongName': 'Intro', 'ArtistName': 'The Rolling Stones'}, {'SongName': 'You Got Me Rocking', 'ArtistName': 'The Rolling Stones'}, {'SongName': 'Gimmie Shelters', 'ArtistName': 'The Rolling Stones'}, {'SongName': 'Flip The Switch', 'ArtistName': 'The Rolling Stones'}, {'SongName': 'Memory Motel', 'ArtistName': 'The Rolling Stones'}, {'SongName': 'Corinna', 'ArtistName': 'The Rolling Stones'}, {'SongName': 'Saint Of Me', 'ArtistName': 'The Rolling Stones'}, {'SongName': 'Wainting On A Friend', 'ArtistName': 'The Rolling Stones'}, {'SongName': 'Sister Morphine', 'ArtistName': 'The Rolling Stones'}, {'SongName': 'Live With Me', 'ArtistName': 'The Rolling Stones'}, {'SongName': 'Respectable', 'ArtistName': 'The Rolling Stones'}, {'SongName': 'Thief In The Night', 'ArtistName': 'The Rolling Stones'}, {'SongName': 'The Last Time', 'ArtistName': 'The Rolling Stones'}, {'SongName': 'Out Of Control', 'ArtistName': 'The Rolling Stones'}, {'SongName': 'Love Is Strong', 'ArtistName': 'The Rolling Stones'}, {'SongName': 'You Got Me Rocking', 'ArtistName': 'The Rolling Stones'}, {'SongName': 'Sparks Will Fly', 'ArtistName': 'The Rolling Stones'}, {'SongName': 'The Worst', 'ArtistName': 'The Rolling Stones'}, {'SongName': 'New Faces', 'ArtistName': 'The Rolling Stones'}, {'SongName': 'Moon Is Up', 'ArtistName': 'The Rolling Stones'}, {'SongName': 'Out Of Tears', 'ArtistName': 'The Rolling Stones'}, {'SongName': 'I Go Wild', 'ArtistName': 'The Rolling Stones'}, {'SongName': 'Brand New Car', 'ArtistName': 'The Rolling Stones'}, {'SongName': 'Sweethearts Together', 'ArtistName': 'The Rolling Stones'}, {'SongName': 'Suck On The Jugular', 'ArtistName': 'The Rolling Stones'}, {'SongName': 'Blinded By Rainbows', 'ArtistName': 'The Rolling Stones'}, {'SongName': 'Baby Break It Down', 'ArtistName': 'The Rolling Stones'}, {'SongName': 'Thru And Thru', 'ArtistName': 'The Rolling Stones'}, {'SongName': 'Mean Disposition', 'ArtistName': 'The Rolling Stones'}]\n",
      "==================================\u001b[1m Ai Message \u001b[0m==================================\n",
      "\n",
      "Based on your love for The Rolling Stones, here are a few classic tracks from them that you might really enjoy:\n",
      "\n",
      "• Time Is On My Side – The Rolling Stones  \n",
      "• Satisfaction – The Rolling Stones  \n",
      "• Paint It Black – The Rolling Stones  \n",
      "• Ruby Tuesday – The Rolling Stones  \n",
      "\n",
      "If you're interested in exploring similar vibes from other classic rock acts, many fans of the Stones also appreciate artists like The Beatles, The Who, or Led Zeppelin. While our digital catalog currently provides a rich selection from The Rolling Stones, I'd be happy to help you search for songs by any of those other artists if you'd like. Let me know what you’re in the mood for next!\n"
     ]
    }
   ],
   "source": [
    "import uuid\n",
    "thread_id = uuid.uuid4()\n",
    "\n",
    "question = \"I like the Rolling Stones. What songs do you recommend by them or by other artists that I might like?\"\n",
    "config = {\"configurable\": {\"thread_id\": thread_id}}\n",
    "\n",
    "result = music_catalog_subagent.invoke({\"messages\": [HumanMessage(content=question)]}, config=config)\n",
    "\n",
    "for message in result[\"messages\"]:\n",
    "   message.pretty_print()"
   ]
  },
  {
   "cell_type": "markdown",
   "metadata": {},
   "source": [
    "### 1.2. Building ReAct Agent using LangGraph Pre-built"
   ]
  },
  {
   "cell_type": "markdown",
   "metadata": {},
   "source": [
    "LangGraph offers pre-built libraries for common architectures, allowing us to quickly create architectures like ReAct or multi-agent architacture. A full list of pre-built libraries can be found here: https://langchain-ai.github.io/langgraph/prebuilt/#available-libraries \n",
    "\n",
    "In the last workflow, we have seen how we can build a ReAct agent from scratch. Now, we will show how we can leverage the LangGraph pre-built libraries to achieve similar results. \n",
    "\n",
    "![react_2](../images/invoice_subagent.png)\n",
    "\n",
    "Our **invoice info subagent** is responsible for all customer queries related to the invoices. "
   ]
  },
  {
   "cell_type": "markdown",
   "metadata": {},
   "source": [
    "#### Defining tools and prompt\n",
    "Similarly, let's first define a set of tools and our agent prompt below. "
   ]
  },
  {
   "cell_type": "code",
   "execution_count": 12,
   "metadata": {},
   "outputs": [],
   "source": [
    "from langchain_core.tools import tool\n",
    "\n",
    "@tool \n",
    "def get_invoices_by_customer_sorted_by_date(customer_id: str) -> list[dict]:\n",
    "    \"\"\"\n",
    "    Look up all invoices for a customer using their ID.\n",
    "    The invoices are sorted in descending order by invoice date, which helps when the customer wants to view their most recent/oldest invoice, or if \n",
    "    they want to view invoices within a specific date range.\n",
    "    \n",
    "    Args:\n",
    "        customer_id (str): customer_id, which serves as the identifier.\n",
    "    \n",
    "    Returns:\n",
    "        list[dict]: A list of invoices for the customer.\n",
    "    \"\"\"\n",
    "    return db.run(f\"SELECT * FROM Invoice WHERE CustomerId = {customer_id} ORDER BY InvoiceDate DESC;\")\n",
    "\n",
    "\n",
    "@tool \n",
    "def get_invoices_sorted_by_unit_price(customer_id: str) -> list[dict]:\n",
    "    \"\"\"\n",
    "    Use this tool when the customer wants to know the details of one of their invoices based on the unit price/cost of the invoice.\n",
    "    This tool looks up all invoices for a customer, and sorts the unit price from highest to lowest. In order to find the invoice associated with the customer, \n",
    "    we need to know the customer ID.\n",
    "    \n",
    "    Args:\n",
    "        customer_id (str): customer_id, which serves as the identifier.\n",
    "    \n",
    "    Returns:\n",
    "        list[dict]: A list of invoices sorted by unit price.\n",
    "    \"\"\"\n",
    "    query = f\"\"\"\n",
    "        SELECT Invoice.*, InvoiceLine.UnitPrice\n",
    "        FROM Invoice\n",
    "        JOIN InvoiceLine ON Invoice.InvoiceId = InvoiceLine.InvoiceId\n",
    "        WHERE Invoice.CustomerId = {customer_id}\n",
    "        ORDER BY InvoiceLine.UnitPrice DESC;\n",
    "    \"\"\"\n",
    "    return db.run(query)\n",
    "\n",
    "\n",
    "@tool\n",
    "def get_employee_by_invoice_and_customer(invoice_id: str, customer_id: str) -> dict:\n",
    "    \"\"\"\n",
    "    This tool will take in an invoice ID and a customer ID and return the employee information associated with the invoice.\n",
    "\n",
    "    Args:\n",
    "        invoice_id (int): The ID of the specific invoice.\n",
    "        customer_id (str): customer_id, which serves as the identifier.\n",
    "\n",
    "    Returns:\n",
    "        dict: Information about the employee associated with the invoice.\n",
    "    \"\"\"\n",
    "\n",
    "    query = f\"\"\"\n",
    "        SELECT Employee.FirstName, Employee.Title, Employee.Email\n",
    "        FROM Employee\n",
    "        JOIN Customer ON Customer.SupportRepId = Employee.EmployeeId\n",
    "        JOIN Invoice ON Invoice.CustomerId = Customer.CustomerId\n",
    "        WHERE Invoice.InvoiceId = ({invoice_id}) AND Invoice.CustomerId = ({customer_id});\n",
    "    \"\"\"\n",
    "    \n",
    "    employee_info = db.run(query, include_columns=True)\n",
    "    \n",
    "    if not employee_info:\n",
    "        return f\"No employee found for invoice ID {invoice_id} and customer identifier {customer_id}.\"\n",
    "    return employee_info\n",
    "\n",
    "invoice_tools = [get_invoices_by_customer_sorted_by_date, get_invoices_sorted_by_unit_price, get_employee_by_invoice_and_customer]"
   ]
  },
  {
   "cell_type": "code",
   "execution_count": 13,
   "metadata": {},
   "outputs": [],
   "source": [
    "invoice_subagent_prompt = \"\"\"\n",
    "    You are a subagent among a team of assistants. You are specialized for retrieving and processing invoice information. You are routed for invoice-related portion of the questions, so only respond to them.. \n",
    "\n",
    "    You have access to three tools. These tools enable you to retrieve and process invoice information from the database. Here are the tools:\n",
    "    - get_invoices_by_customer_sorted_by_date: This tool retrieves all invoices for a customer, sorted by invoice date.\n",
    "    - get_invoices_sorted_by_unit_price: This tool retrieves all invoices for a customer, sorted by unit price.\n",
    "    - get_employee_by_invoice_and_customer: This tool retrieves the employee information associated with an invoice and a customer.\n",
    "    \n",
    "    If you are unable to retrieve the invoice information, inform the customer you are unable to retrieve the information, and ask if they would like to search for something else.\n",
    "    \n",
    "    CORE RESPONSIBILITIES:\n",
    "    - Retrieve and process invoice information from the database\n",
    "    - Provide detailed information about invoices, including customer details, invoice dates, total amounts, employees associated with the invoice, etc. when the customer asks for it.\n",
    "    - Always maintain a professional, friendly, and patient demeanor\n",
    "    \n",
    "    You may have additional context that you should use to help answer the customer's query. It will be provided to you below:\n",
    "    \"\"\""
   ]
  },
  {
   "cell_type": "markdown",
   "metadata": {},
   "source": [
    "#### Using the pre-built library\n",
    "Now, let's put them together by using the pre-built ReAct agent library"
   ]
  },
  {
   "cell_type": "code",
   "execution_count": null,
   "metadata": {},
   "outputs": [],
   "source": [
    "from langgraph.prebuilt import create_react_agent\n",
    "\n",
    "# Define the subagent \n",
    "invoice_information_subagent = create_react_agent(model, tools=invoice_tools, name=\"invoice_information_subagent\",prompt=invoice_subagent_prompt, state_schema=State, checkpointer=checkpointer, store=in_memory_store)\n",
    "\n",
    "# Visualize the graph\n",
    "visualize_graph(invoice_information_subagent)"
   ]
  },
  {
   "cell_type": "markdown",
   "metadata": {},
   "source": [
    "#### Testing!\n",
    "Let's try our new agent out!"
   ]
  },
  {
   "cell_type": "code",
   "execution_count": null,
   "metadata": {
    "scrolled": true
   },
   "outputs": [],
   "source": [
    "thread_id = uuid.uuid4()\n",
    "question = \"My customer id is 1. What was my most recent invoice, and who was the employee that helped me with it?\"\n",
    "config = {\"configurable\": {\"thread_id\": thread_id}}\n",
    "\n",
    "result = invoice_information_subagent.invoke({\"messages\": [HumanMessage(content=question)]}, config=config)\n",
    "for message in result[\"messages\"]:\n",
    "    message.pretty_print()"
   ]
  },
  {
   "cell_type": "markdown",
   "metadata": {},
   "source": [
    "## Part 2: Building multi-agent architecture"
   ]
  },
  {
   "cell_type": "markdown",
   "metadata": {},
   "source": [
    "Now that we have two sub-agents that have different capabilities. How do we make sure customer tasks are appropriately routed between them? \n",
    "\n",
    "This is where the supervisor oversees the workflow, invoking appropriate subagents for relevant inquiries. \n",
    "\n",
    "\n",
    "A **multi-agent architecture** offers several key benefits:\n",
    "- Specialization & Modularity – Each sub-agent is optimized for a specific task, improving system accuracy \n",
    "- Flexibility – Agents can be quickly added, removed, or modified without affecting the entire system\n",
    "\n",
    "![supervisor](../images/supervisor.png)\n",
    "\n",
    "We will show how we can utilize the pre-built supervisor to quickly create the multi-agent architecture. "
   ]
  },
  {
   "cell_type": "markdown",
   "metadata": {},
   "source": [
    "First, we will create a set of instructions for our supervisor. "
   ]
  },
  {
   "cell_type": "code",
   "execution_count": 15,
   "metadata": {},
   "outputs": [],
   "source": [
    "supervisor_prompt = \"\"\"You are an expert customer support assistant for a digital music store. \n",
    "You are dedicated to providing exceptional service and ensuring customer queries are answered thoroughly. \n",
    "You have a team of subagents that you can use to help answer queries from customers. \n",
    "Your primary role is to serve as a supervisor/planner for this multi-agent team that helps answer queries from customers. \n",
    "\n",
    "Your team is composed of two subagents that you can use to help answer the customer's request:\n",
    "1. music_catalog_information_subagent: this subagent has access to user's saved music preferences. It can also retrieve information about the digital music store's music \n",
    "catalog (albums, tracks, songs, etc.) from the database. \n",
    "3. invoice_information_subagent: this subagent is able to retrieve information about a customer's past purchases or invoices \n",
    "from the database. \n",
    "\n",
    "Based on the existing steps that have been taken in the messages, your role is to generate the next subagent that needs to be called. \n",
    "This could be one step in an inquiry that needs multiple sub-agent calls. \"\"\""
   ]
  },
  {
   "cell_type": "code",
   "execution_count": null,
   "metadata": {},
   "outputs": [],
   "source": [
    "from langgraph_supervisor import create_supervisor\n",
    "\n",
    "# Create supervisor workflow\n",
    "supervisor_prebuilt_workflow = create_supervisor(\n",
    "    agents=[invoice_information_subagent, music_catalog_subagent],\n",
    "    output_mode=\"last_message\", # alternative is full_history\n",
    "    model=model,\n",
    "    prompt=(supervisor_prompt), \n",
    "    state_schema=State\n",
    ")\n",
    "\n",
    "supervisor_prebuilt = supervisor_prebuilt_workflow.compile(name=\"music_catalog_subagent\", checkpointer=checkpointer, store=in_memory_store)\n",
    "\n",
    "# Visualize the graph\n",
    "visualize_graph(supervisor_prebuilt)"
   ]
  },
  {
   "cell_type": "markdown",
   "metadata": {},
   "source": [
    "Let's test it out!"
   ]
  },
  {
   "cell_type": "code",
   "execution_count": null,
   "metadata": {
    "scrolled": true
   },
   "outputs": [],
   "source": [
    "thread_id = uuid.uuid4()\n",
    "question = \"My customer ID is 1. How much was my most recent purchase? What albums do you have by U2?\"\n",
    "config = {\"configurable\": {\"thread_id\": thread_id}}\n",
    "\n",
    "result = supervisor_prebuilt.invoke({\"messages\": [HumanMessage(content=question)]}, config=config)\n",
    "for message in result[\"messages\"]:\n",
    "    message.pretty_print()"
   ]
  },
  {
   "cell_type": "markdown",
   "metadata": {},
   "source": [
    "## Part 3: Adding customer verification through human-in-the-loop"
   ]
  },
  {
   "cell_type": "markdown",
   "metadata": {},
   "source": [
    "We currently invoke our graph with a customer ID as the customer identifier, but realistically, we may not always have access to the customer identity. To solve this, we want to **first verify the customer information** before executing their inquiry with our supervisor agent. \n",
    "\n",
    "In this step, we will be showing a simple implementation of such a node, using **human-in-the-loop** to prompt the customer to provide their account information. \n",
    "\n",
    "![customer-input](../images/human_input.png)"
   ]
  },
  {
   "cell_type": "markdown",
   "metadata": {},
   "source": [
    "In this step, we will write two nodes: \n",
    "- **verify_info** node that verifies account information \n",
    "- **human_input** node that prompts user to provide additional information \n",
    "\n",
    "ChatModels support attaching a structured data schema to adhere response to. This is useful in scenarios like extracting information or categorizing. "
   ]
  },
  {
   "cell_type": "code",
   "execution_count": 17,
   "metadata": {},
   "outputs": [],
   "source": [
    "from pydantic import BaseModel, Field\n",
    "\n",
    "class UserInput(BaseModel):\n",
    "    \"\"\"Schema for parsing user-provided account information.\"\"\"\n",
    "    identifier: str = Field(description = \"Identifier, which can be a customer ID, email, or phone number.\")\n",
    "\n",
    "\n",
    "structured_llm = model.with_structured_output(schema=UserInput)\n",
    "structured_system_prompt = \"\"\"You are a customer service representative responsible for extracting customer identifier.\\n \n",
    "Only extract the customer's account information from the message history. \n",
    "If they haven't provided the information yet, return an empty string for the file\"\"\""
   ]
  },
  {
   "cell_type": "code",
   "execution_count": 18,
   "metadata": {},
   "outputs": [],
   "source": [
    "from typing import Optional \n",
    "\n",
    "# Helper \n",
    "def get_customer_id_from_identifier(identifier: str) -> Optional[int]:\n",
    "    \"\"\"\n",
    "    Retrieve Customer ID using an identifier, which can be a customer ID, email, or phone number.\n",
    "    \n",
    "    Args:\n",
    "        identifier (str): The identifier can be customer ID, email, or phone.\n",
    "    \n",
    "    Returns:\n",
    "        Optional[int]: The CustomerId if found, otherwise None.\n",
    "    \"\"\"\n",
    "    if identifier.isdigit():\n",
    "        return int(identifier)\n",
    "    elif identifier[0] == \"+\":\n",
    "        query = f\"SELECT CustomerId FROM Customer WHERE Phone = '{identifier}';\"\n",
    "        result = db.run(query)\n",
    "        formatted_result = ast.literal_eval(result)\n",
    "        if formatted_result:\n",
    "            return formatted_result[0][0]\n",
    "    elif \"@\" in identifier:\n",
    "        query = f\"SELECT CustomerId FROM Customer WHERE Email = '{identifier}';\"\n",
    "        result = db.run(query)\n",
    "        formatted_result = ast.literal_eval(result)\n",
    "        if formatted_result:\n",
    "            return formatted_result[0][0]\n",
    "    return None "
   ]
  },
  {
   "cell_type": "code",
   "execution_count": 19,
   "metadata": {},
   "outputs": [],
   "source": [
    "# Node\n",
    "\n",
    "def verify_info(state: State, config: RunnableConfig):\n",
    "    \"\"\"Verify the customer's account by parsing their input and matching it with the database.\"\"\"\n",
    "\n",
    "    if state.get(\"customer_id\") is None: \n",
    "        system_instructions = \"\"\"You are a music store agent, where you are trying to verify the customer identity \n",
    "        as the first step of the customer support process. \n",
    "        Only after their account is verified, you would be able to support them on resolving the issue. \n",
    "        In order to verify their identity, one of their customer ID, email, or phone number needs to be provided.\n",
    "        If the customer has not provided their identifier, please ask them for it.\n",
    "        If they have provided the identifier but cannot be found, please ask them to revise it.\"\"\"\n",
    "\n",
    "        user_input = state[\"messages\"][-1] \n",
    "    \n",
    "        # Parse for customer ID\n",
    "        parsed_info = structured_llm.invoke([SystemMessage(content=structured_system_prompt)] + [user_input])\n",
    "    \n",
    "        # Extract details\n",
    "        identifier = parsed_info.identifier\n",
    "    \n",
    "        customer_id = \"\"\n",
    "        # Attempt to find the customer ID\n",
    "        if (identifier):\n",
    "            customer_id = get_customer_id_from_identifier(identifier)\n",
    "    \n",
    "        if customer_id != \"\":\n",
    "            intent_message = SystemMessage(\n",
    "                content= f\"Thank you for providing your information! I was able to verify your account with customer id {customer_id}.\"\n",
    "            )\n",
    "            return {\n",
    "                  \"customer_id\": customer_id,\n",
    "                  \"messages\" : [intent_message]\n",
    "                  }\n",
    "        else:\n",
    "          response = model.invoke([SystemMessage(content=system_instructions)]+state['messages'])\n",
    "          return {\"messages\": [response]}\n",
    "\n",
    "    else: \n",
    "        pass\n"
   ]
  },
  {
   "cell_type": "markdown",
   "metadata": {},
   "source": [
    "Now, let's create our human_input node. We will be prompting the user input through the Interrupt class. "
   ]
  },
  {
   "cell_type": "code",
   "execution_count": 20,
   "metadata": {},
   "outputs": [],
   "source": [
    "from langgraph.types import interrupt\n",
    "# Node\n",
    "def human_input(state: State, config: RunnableConfig):\n",
    "    \"\"\" No-op node that should be interrupted on \"\"\"\n",
    "    user_input = interrupt(\"Please provide input.\")\n",
    "    return {\"messages\": [user_input]}"
   ]
  },
  {
   "cell_type": "markdown",
   "metadata": {},
   "source": [
    "Let's put this together! "
   ]
  },
  {
   "cell_type": "code",
   "execution_count": 21,
   "metadata": {},
   "outputs": [],
   "source": [
    "# conditional_edge\n",
    "def should_interrupt(state: State, config: RunnableConfig):\n",
    "    if state.get(\"customer_id\") is not None:\n",
    "        return \"continue\"\n",
    "    else:\n",
    "        return \"interrupt\""
   ]
  },
  {
   "cell_type": "code",
   "execution_count": null,
   "metadata": {},
   "outputs": [],
   "source": [
    "# Add nodes \n",
    "multi_agent_verify = StateGraph(State)\n",
    "multi_agent_verify.add_node(\"verify_info\", verify_info)\n",
    "multi_agent_verify.add_node(\"human_input\", human_input)\n",
    "multi_agent_verify.add_node(\"supervisor\", supervisor_prebuilt)\n",
    "\n",
    "multi_agent_verify.add_edge(START, \"verify_info\")\n",
    "multi_agent_verify.add_conditional_edges(\n",
    "    \"verify_info\",\n",
    "    should_interrupt,\n",
    "    {\n",
    "        \"continue\": \"supervisor\",\n",
    "        \"interrupt\": \"human_input\",\n",
    "    },\n",
    ")\n",
    "multi_agent_verify.add_edge(\"human_input\", \"verify_info\")\n",
    "multi_agent_verify.add_edge(\"supervisor\", END)\n",
    "multi_agent_verify_graph = multi_agent_verify.compile(name=\"multi_agent_verify\", checkpointer=checkpointer, store=in_memory_store)\n",
    "\n",
    "visualize_graph(multi_agent_verify_graph)"
   ]
  },
  {
   "cell_type": "markdown",
   "metadata": {},
   "source": [
    "Let's test it out!"
   ]
  },
  {
   "cell_type": "code",
   "execution_count": null,
   "metadata": {},
   "outputs": [],
   "source": [
    "thread_id = uuid.uuid4()\n",
    "question = \"How much was my most recent purchase?\"\n",
    "config = {\"configurable\": {\"thread_id\": thread_id}}\n",
    "\n",
    "result = multi_agent_verify_graph.invoke({\"messages\": [HumanMessage(content=question)]}, config=config)\n",
    "for message in result[\"messages\"]:\n",
    "    message.pretty_print()"
   ]
  },
  {
   "cell_type": "code",
   "execution_count": null,
   "metadata": {
    "scrolled": true
   },
   "outputs": [],
   "source": [
    "from langgraph.types import Command\n",
    "\n",
    "# Resume from interrupt \n",
    "question = \"My phone number is +55 (12) 3923-5555.\"\n",
    "result = multi_agent_verify_graph.invoke(Command(resume=question), config=config)\n",
    "for message in result[\"messages\"]:\n",
    "    message.pretty_print()"
   ]
  },
  {
   "cell_type": "markdown",
   "metadata": {},
   "source": [
    "Now, if I ask a follow-up question in the same thread, our agent state stores our customer_id, not needing to verify again. "
   ]
  },
  {
   "cell_type": "code",
   "execution_count": null,
   "metadata": {
    "scrolled": true
   },
   "outputs": [],
   "source": [
    "question = \"What albums do you have by the Rolling Stones?\"\n",
    "result = multi_agent_verify_graph.invoke({\"messages\": [HumanMessage(content=question)]}, config=config)\n",
    "for message in result[\"messages\"]:\n",
    "    message.pretty_print()"
   ]
  },
  {
   "cell_type": "markdown",
   "metadata": {},
   "source": [
    "## Part 4: Adding Long-Term Memory"
   ]
  },
  {
   "cell_type": "markdown",
   "metadata": {},
   "source": [
    "Now that we have created an agent workflow that includes verification and execution, let's take it a step further. \n",
    "\n",
    "**Long term memory** lets you store and recall information between conversations. We have already initialized a long term memory store. \n",
    "\n",
    "\n",
    "![memory](../images/memory.png)\n",
    "\n",
    "In this step, we will add 2 nodes: \n",
    "- **load_memory** node that loads from the long term memory store\n",
    "- **create_memory** node that saves any music interests that the customer has shared about themselves "
   ]
  },
  {
   "cell_type": "code",
   "execution_count": 26,
   "metadata": {},
   "outputs": [],
   "source": [
    "from langgraph.store.base import BaseStore\n",
    "\n",
    "# helper function to structure memory \n",
    "def format_user_memory(user_data):\n",
    "    \"\"\"Formats music preferences from users, if available.\"\"\"\n",
    "    profile = user_data['memory']\n",
    "    result = \"\"\n",
    "    if hasattr(profile, 'music_preferences') and profile.music_preferences:\n",
    "        result += f\"Music Preferences: {', '.join(profile.music_preferences)}\"\n",
    "    return result.strip()\n",
    "\n",
    "# Node\n",
    "def load_memory(state: State, config: RunnableConfig, store: BaseStore):\n",
    "    \"\"\"Loads music preferences from users, if available.\"\"\"\n",
    "    \n",
    "    user_id = state[\"customer_id\"]\n",
    "    namespace = (\"memory_profile\", user_id)\n",
    "    existing_memory = store.get(namespace, \"user_memory\")\n",
    "    formatted_memory = \"\"\n",
    "    if existing_memory and existing_memory.value:\n",
    "        formatted_memory = format_user_memory(existing_memory.value)\n",
    "\n",
    "    return {\"loaded_memory\" : formatted_memory}"
   ]
  },
  {
   "cell_type": "code",
   "execution_count": 27,
   "metadata": {},
   "outputs": [],
   "source": [
    "# User profile structure for creating memory\n",
    "\n",
    "class UserProfile(BaseModel):\n",
    "    customer_id: str = Field(\n",
    "        description=\"The customer ID of the customer\"\n",
    "    )\n",
    "    music_preferences: List[str] = Field(\n",
    "        description=\"The music preferences of the customer\"\n",
    "    )"
   ]
  },
  {
   "cell_type": "code",
   "execution_count": 28,
   "metadata": {},
   "outputs": [],
   "source": [
    "create_memory_prompt = \"\"\"You are an expert analyst that is observing a conversation that has taken place between a customer and a customer support assistant. The customer support assistant works for a digital music store, and has utilized a multi-agent team to answer the customer's request. \n",
    "You are tasked with analyzing the conversation that has taken place between the customer and the customer support assistant, and updating the memory profile associated with the customer. The memory profile may be empty. If it's empty, you should create a new memory profile for the customer.\n",
    "\n",
    "You specifically care about saving any music interest the customer has shared about themselves, particularly their music preferences to their memory profile.\n",
    "\n",
    "To help you with this task, I have attached the conversation that has taken place between the customer and the customer support assistant below, as well as the existing memory profile associated with the customer that you should either update or create. \n",
    "\n",
    "The customer's memory profile should have the following fields:\n",
    "- customer_id: the customer ID of the customer\n",
    "- music_preferences: the music preferences of the customer\n",
    "\n",
    "These are the fields you should keep track of and update in the memory profile. If there has been no new information shared by the customer, you should not update the memory profile. It is completely okay if you do not have new information to update the memory profile with. In that case, just leave the values as they are.\n",
    "\n",
    "*IMPORTANT INFORMATION BELOW*\n",
    "\n",
    "The conversation between the customer and the customer support assistant that you should analyze is as follows:\n",
    "{conversation}\n",
    "\n",
    "The existing memory profile associated with the customer that you should either update or create based on the conversation is as follows:\n",
    "{memory_profile}\n",
    "\n",
    "Ensure your response is an object that has the following fields:\n",
    "- customer_id: the customer ID of the customer\n",
    "- music_preferences: the music preferences of the customer\n",
    "\n",
    "For each key in the object, if there is no new information, do not update the value, just keep the value that is already there. If there is new information, update the value. \n",
    "\n",
    "Take a deep breath and think carefully before responding.\n",
    "\"\"\"\n",
    "\n",
    "\n",
    "\n",
    "# Node\n",
    "def create_memory(state: State, config: RunnableConfig, store: BaseStore):\n",
    "    user_id = str(state[\"customer_id\"])\n",
    "    namespace = (\"memory_profile\", user_id)\n",
    "    existing_memory = store.get(namespace, \"user_memory\")\n",
    "    if existing_memory and existing_memory.value:\n",
    "        existing_memory_dict = existing_memory.value\n",
    "        formatted_memory = (\n",
    "            f\"Music Preferences: {', '.join(existing_memory_dict.get('music_preferences', []))}\"\n",
    "        )\n",
    "    else:\n",
    "        formatted_memory = \"\"\n",
    "    formatted_system_message = SystemMessage(content=create_memory_prompt.format(conversation=state[\"messages\"], memory_profile=formatted_memory))\n",
    "    updated_memory = model.with_structured_output(UserProfile).invoke([formatted_system_message])\n",
    "    key = \"user_memory\"\n",
    "    store.put(namespace, key, {\"memory\": updated_memory})"
   ]
  },
  {
   "cell_type": "code",
   "execution_count": 29,
   "metadata": {},
   "outputs": [],
   "source": [
    "multi_agent_final = StateGraph(State)\n",
    "multi_agent_final.add_node(\"verify_info\", verify_info)\n",
    "multi_agent_final.add_node(\"human_input\", human_input)\n",
    "multi_agent_final.add_node(\"load_memory\", load_memory)\n",
    "multi_agent_final.add_node(\"supervisor\", supervisor_prebuilt)\n",
    "multi_agent_final.add_node(\"create_memory\", create_memory)\n",
    "\n",
    "multi_agent_final.add_edge(START, \"verify_info\")\n",
    "multi_agent_final.add_conditional_edges(\n",
    "    \"verify_info\",\n",
    "    should_interrupt,\n",
    "    {\n",
    "        \"continue\": \"load_memory\",\n",
    "        \"interrupt\": \"human_input\",\n",
    "    },\n",
    ")\n",
    "multi_agent_final.add_edge(\"human_input\", \"verify_info\")\n",
    "multi_agent_final.add_edge(\"load_memory\", \"supervisor\")\n",
    "multi_agent_final.add_edge(\"supervisor\", \"create_memory\")\n",
    "multi_agent_final.add_edge(\"create_memory\", END)\n",
    "multi_agent_final_graph = multi_agent_final.compile(name=\"multi_agent_verify\", checkpointer=checkpointer, store=in_memory_store)"
   ]
  },
  {
   "cell_type": "code",
   "execution_count": null,
   "metadata": {},
   "outputs": [],
   "source": [
    "visualize_graph(multi_agent_final_graph)"
   ]
  },
  {
   "cell_type": "code",
   "execution_count": null,
   "metadata": {
    "scrolled": true
   },
   "outputs": [],
   "source": [
    "thread_id = uuid.uuid4()\n",
    "\n",
    "question = \"My phone number is +55 (12) 3923-5555. How much was my most recent purchase? What albums do you have by the Rolling Stones?\"\n",
    "config = {\"configurable\": {\"thread_id\": thread_id}}\n",
    "\n",
    "result = multi_agent_final_graph.invoke({\"messages\": [HumanMessage(content=question)]}, config=config)\n",
    "for message in result[\"messages\"]:\n",
    "    message.pretty_print()"
   ]
  },
  {
   "cell_type": "markdown",
   "metadata": {},
   "source": [
    "Let's take a look at the memory!"
   ]
  },
  {
   "cell_type": "code",
   "execution_count": null,
   "metadata": {
    "scrolled": true
   },
   "outputs": [],
   "source": [
    "user_id = \"1\"\n",
    "namespace = (\"memory_profile\", user_id)\n",
    "memory = in_memory_store.get(namespace, \"user_memory\").value\n",
    "\n",
    "saved_music_preferences = memory.get(\"memory\").music_preferences\n",
    "\n",
    "print(saved_music_preferences)"
   ]
  },
  {
   "cell_type": "markdown",
   "metadata": {},
   "source": [
    "##  (Optional) Build a Swarm Multi-Agent Graph\n",
    "\n",
    "### Swarm Architecture\n",
    "\n",
    "![swarm](../images/swarm.png) \n",
    "\n",
    "There is another popular framework for building multi-agent graphs called Swarm. At LangChain, we built a [lightweight library](https://github.com/langchain-ai/langgraph-swarm-py) to help make Swarm agents very easily! Swarm agents are designed for collaborative problem-solving where multiple specialized agents work together, without a central coordinator. This approach enables:\n",
    "\n",
    "- **Parallel Processing**: Multiple agents can work simultaneously on different aspects of a problem\n",
    "- **Emergent Intelligence**: Complex solutions emerge from simple agent interactions\n",
    "- **Scalability**: Easy to add or remove agents as needed\n",
    "- **Resilience**: The system continues functioning even if some agents fail\n",
    "\n",
    "### Swarm vs Supervisor\n",
    "\n",
    "![swarm_vs_supervisor](../images/supervisor_vs_swarm.png)\n",
    "\n",
    "Swarm architecture differs from supervisor-based approaches by emphasizing decentralized collaboration rather than hierarchical control. In a supervisor architecture, a central agent coordinates the workflow, delegates tasks, and makes decisions about which subagents to call. This creates a clear hierarchy where the supervisor has authority over specialized agents.\n",
    "\n",
    "The supervisor approach offers more control and predictability, while swarm architectures can be more adaptable and resilient to individual agent failures. Your choice between these approaches depends on whether your use case benefits more from centralized oversight or emergent collaboration.\n",
    "\n",
    "For more information there is a great video by Lance from our team at Langchain breaking down Supervisor vs Swarm: [Multi-agent swarms with LangGraph](https://www.youtube.com/watch?v=JeyDrn1dSUQ)\n",
    "\n",
    "Let's create swarm agents!\n"
   ]
  },
  {
   "cell_type": "code",
   "execution_count": null,
   "metadata": {},
   "outputs": [],
   "source": [
    "from langgraph_swarm import create_handoff_tool, create_swarm\n",
    "\n",
    "# Create our handoff tools between agents\n",
    "\n",
    "transfer_to_invoice_agent_handoff_tool = create_handoff_tool(\n",
    "    agent_name = \"invoice_information_agent_with_handoff\",\n",
    "    description = \"Transfer user to the invoice information agent that can help with invoice information\"\n",
    ")\n",
    "\n",
    "transfer_to_music_catalog_agent_handoff_tool = create_handoff_tool(\n",
    "    agent_name = \"music_catalog_agent_with_handoff\", \n",
    "    description = \"Transfer user to the music catalog agent that can help with music searches and music catalog information\"\n",
    ")\n",
    "\n",
    "# Recreate our agents with the handoff tools\n",
    "\n",
    "# First let's create our tools with handoff tools added to them\n",
    "invoice_tools_with_handoff = [transfer_to_music_catalog_agent_handoff_tool] + invoice_tools\n",
    "music_tools_with_handoff = [transfer_to_invoice_agent_handoff_tool] + music_tools\n",
    "\n",
    "invoice_information_agent_with_handoff = create_react_agent(\n",
    "    model,\n",
    "    invoice_tools_with_handoff,\n",
    "    prompt = invoice_subagent_prompt,\n",
    "    name = \"invoice_information_agent_with_handoff\"\n",
    ")\n",
    "\n",
    "# pull music catalog agent prompt from the previous custom react agent implementation\n",
    "\n",
    "\n",
    "music_catalog_agent_with_handoff = create_react_agent(\n",
    "    model,\n",
    "    music_tools_with_handoff,\n",
    "    prompt = generate_music_assistant_prompt(),\n",
    "    name = \"music_catalog_agent_with_handoff\"\n",
    ")\n",
    "\n",
    "\n",
    "swarm_workflow = create_swarm(\n",
    "    agents = [invoice_information_agent_with_handoff, music_catalog_agent_with_handoff],\n",
    "    default_active_agent = \"invoice_information_agent_with_handoff\",\n",
    ")\n",
    "\n",
    "# Compile with checkpointer/store\n",
    "swarm_agents = swarm_workflow.compile(\n",
    "    checkpointer = checkpointer,\n",
    "    store = in_memory_store\n",
    ")\n",
    "\n",
    "visualize_graph(swarm_agents)"
   ]
  },
  {
   "cell_type": "markdown",
   "metadata": {},
   "source": [
    "Now let's test it out!"
   ]
  },
  {
   "cell_type": "code",
   "execution_count": null,
   "metadata": {},
   "outputs": [],
   "source": [
    "# Create a new thread\n",
    "thread_id = uuid.uuid4()\n",
    "\n",
    "question = \"Do you have any albums by the Rolling Stones?\"\n",
    "config = {\"configurable\": {\"thread_id\": thread_id}}\n",
    "\n",
    "# Invoke the swarm agents. The default active agent will hand off to our music catalog agent instead of trying to solve the problem itself\n",
    "result = swarm_agents.invoke({\"messages\": [HumanMessage(content=question)]}, config=config)\n",
    "for message in result[\"messages\"]:\n",
    "    message.pretty_print()"
   ]
  },
  {
   "cell_type": "markdown",
   "metadata": {},
   "source": [
    "## Evaluations\n",
    "\n",
    "**Evaluations** are a quantitative way to measure performance of agents, which is important beacause LLMs don't always behave precitably — small changes in prompts, models, or inputs can significantly impact results. Evaluations provide a structured way to identify failures, compare changes across different versions of your applicaiton, and build more reliable AI applications.\n",
    "\n",
    "Evaluations are made up of three components:\n",
    "\n",
    "1. A **dataset test** inputs and expected outputs.\n",
    "2. An **application or target function** that defines what you are evaluating, taking in inputs and returning the application output\n",
    "3. **Evaluators** that score your target function's outputs.\n",
    "\n",
    "![Evaluation](../images/evals-conceptual.png) \n",
    "\n",
    "There are many ways you can evaluate an agent. Today, we will cover the three common types of agent evaluations:\n",
    "\n",
    "1. **Final Response**: Evaluate the agent's final response.\n",
    "2. **Single step**: Evaluate any agent step in isolation (e.g., whether it selects the appropriate tool).\n",
    "3. **Trajectory**: Evaluate whether the agent took the expected path (e.g., of tool calls) to arrive at the final answer."
   ]
  },
  {
   "cell_type": "markdown",
   "metadata": {},
   "source": [
    "### Evaluating The Final Response\n",
    "\n",
    "One way to evaluate an agent is to assess its overall performance on a task. This basically involves treating the agent as a black box and simply evaluating whether or not it gets the job done.\n",
    "- Input: User input \n",
    "- Output: The agent's final response.\n",
    "\n",
    "\n",
    "![final-response](../images/final-response.png) "
   ]
  },
  {
   "cell_type": "markdown",
   "metadata": {},
   "source": [
    "#### 1. Create a Dataset"
   ]
  },
  {
   "cell_type": "code",
   "execution_count": 40,
   "metadata": {},
   "outputs": [],
   "source": [
    "from langsmith import Client\n",
    "\n",
    "client = Client()\n",
    "\n",
    "# Create a dataset\n",
    "examples = [\n",
    "    {\n",
    "        \"question\": \"My name is Aaron Mitchell. My number associated with my account is +1 (204) 452-6452. I am trying to find the invoice number for my most recent song purchase. Could you help me with it?\",\n",
    "        \"response\": \"The Invoice ID of your most recent purchase was 342.\",\n",
    "    },\n",
    "    {\n",
    "        \"question\": \"I'd like a refund.\",\n",
    "        \"response\": \"I need additional information to help you with the refund. Could you please provide your customer identifier so that we can fetch your purchase history?\",\n",
    "    },\n",
    "    {\n",
    "        \"question\": \"Hi I'm Luis. My phone number associated with my account is +55 (12) 3923-5555. I forgot my customer ID. Could you provide me with the information?\",\n",
    "        \"response\": 'Hi Luis! Your customer ID is 1.',\n",
    "    },\n",
    "    {\n",
    "        \"question\": \"Who recorded Wish You Were Here again?\",\n",
    "        \"response\": \"Wish You Were Here is an album by Pink Floyd\",\n",
    "    },\n",
    "    { \n",
    "        \"question\": \"What albums do you have by Coldplay?\",\n",
    "        \"response\": \"There are no Coldplay albums available in our catalog at the moment.\",\n",
    "    },\n",
    "]\n",
    "\n",
    "dataset_name = \"LangGraph 101 Multi-Agent: Final Response\"\n",
    "\n",
    "if not client.has_dataset(dataset_name=dataset_name):\n",
    "    dataset = client.create_dataset(dataset_name=dataset_name)\n",
    "    client.create_examples(\n",
    "        inputs=[{\"question\": ex[\"question\"]} for ex in examples],\n",
    "        outputs=[{\"response\": ex[\"response\"]} for ex in examples],\n",
    "        dataset_id=dataset.id\n",
    "    )"
   ]
  },
  {
   "cell_type": "markdown",
   "metadata": {},
   "source": [
    "#### 2. Define Application Logic to be Evaluated "
   ]
  },
  {
   "cell_type": "markdown",
   "metadata": {},
   "source": [
    "Now, let's define how to run our graph. Note that here we must continue past the interrupt() by supplying a Command(resume=\"\") to the graph."
   ]
  },
  {
   "cell_type": "code",
   "execution_count": 41,
   "metadata": {},
   "outputs": [],
   "source": [
    "import uuid\n",
    "from langgraph.types import Command\n",
    "\n",
    "graph = multi_agent_final_graph\n",
    "\n",
    "async def run_graph(inputs: dict):\n",
    "    \"\"\"Run graph and track the final response.\"\"\"\n",
    "    # Creating configuration \n",
    "    thread_id = uuid.uuid4()\n",
    "    configuration = {\"thread_id\": thread_id, \"user_id\" : \"10\"}\n",
    "\n",
    "    # Invoke graph until interrupt \n",
    "    result = await graph.ainvoke({\"messages\": [\n",
    "        { \"role\": \"user\", \"content\": inputs['question']}]}, config = configuration)\n",
    "    # Proceed from human-in-the-loop \n",
    "    result = await graph.ainvoke(Command(resume=\"My customer ID is 10\"), config={\"thread_id\": thread_id, \"user_id\" : \"10\"})\n",
    "    \n",
    "    return {\"response\": result['messages'][-1].content}"
   ]
  },
  {
   "cell_type": "markdown",
   "metadata": {},
   "source": [
    "#### 3. Define the Evaluator"
   ]
  },
  {
   "cell_type": "markdown",
   "metadata": {},
   "source": [
    "We can use pre-built evaluators from the `openevals` library"
   ]
  },
  {
   "cell_type": "code",
   "execution_count": null,
   "metadata": {},
   "outputs": [],
   "source": [
    "from openevals.llm import create_llm_as_judge\n",
    "from openevals.prompts import CORRECTNESS_PROMPT\n",
    "\n",
    "# Using Open Eval pre-built \n",
    "correctness_evaluator = create_llm_as_judge(\n",
    "    prompt=CORRECTNESS_PROMPT,\n",
    "    feedback_key=\"correctness\",\n",
    "    judge=model,\n",
    ")\n",
    "print(CORRECTNESS_PROMPT)"
   ]
  },
  {
   "cell_type": "markdown",
   "metadata": {},
   "source": [
    "We can also define our own evaluator."
   ]
  },
  {
   "cell_type": "code",
   "execution_count": 43,
   "metadata": {},
   "outputs": [],
   "source": [
    "# Custom definition of LLM-as-judge instructions\n",
    "grader_instructions = \"\"\"You are a teacher grading a quiz.\n",
    "\n",
    "You will be given a QUESTION, the GROUND TRUTH (correct) RESPONSE, and the STUDENT RESPONSE.\n",
    "\n",
    "Here is the grade criteria to follow:\n",
    "(1) Grade the student responses based ONLY on their factual accuracy relative to the ground truth answer.\n",
    "(2) Ensure that the student response does not contain any conflicting statements.\n",
    "(3) It is OK if the student response contains more information than the ground truth response, as long as it is factually accurate relative to the ground truth response.\n",
    "\n",
    "Correctness:\n",
    "True means that the student's response meets all of the criteria.\n",
    "False means that the student's response does not meet all of the criteria.\n",
    "\n",
    "Explain your reasoning in a step-by-step manner to ensure your reasoning and conclusion are correct.\"\"\"\n",
    "\n",
    "# LLM-as-judge output schema\n",
    "class Grade(TypedDict):\n",
    "    \"\"\"Compare the expected and actual answers and grade the actual answer.\"\"\"\n",
    "    reasoning: Annotated[str, ..., \"Explain your reasoning for whether the actual response is correct or not.\"]\n",
    "    is_correct: Annotated[bool, ..., \"True if the student response is mostly or exactly correct, otherwise False.\"]\n",
    "\n",
    "# Judge LLM\n",
    "grader_llm = model.with_structured_output(Grade, method=\"json_schema\", strict=True)\n",
    "\n",
    "# Evaluator function\n",
    "async def final_answer_correct(inputs: dict, outputs: dict, reference_outputs: dict) -> bool:\n",
    "    \"\"\"Evaluate if the final response is equivalent to reference response.\"\"\"\n",
    "    # Note that we assume the outputs has a 'response' dictionary. We'll need to make sure\n",
    "    # that the target function we define includes this key.\n",
    "    user = f\"\"\"QUESTION: {inputs['question']}\n",
    "    GROUND TRUTH RESPONSE: {reference_outputs['response']}\n",
    "    STUDENT RESPONSE: {outputs['response']}\"\"\"\n",
    "\n",
    "    grade = await grader_llm.ainvoke([{\"role\": \"system\", \"content\": grader_instructions}, {\"role\": \"user\", \"content\": user}])\n",
    "    return grade[\"is_correct\"]"
   ]
  },
  {
   "cell_type": "markdown",
   "metadata": {},
   "source": [
    "#### 4. Run the Evaluation"
   ]
  },
  {
   "cell_type": "code",
   "execution_count": null,
   "metadata": {},
   "outputs": [],
   "source": [
    "# Evaluation job and results\n",
    "experiment_results = await client.aevaluate(\n",
    "    run_graph,\n",
    "    data=dataset_name,\n",
    "    evaluators=[final_answer_correct, correctness_evaluator],\n",
    "    experiment_prefix=\"agent-o3mini-e2e\",\n",
    "    num_repetitions=1,\n",
    "    max_concurrency=5,\n",
    ")"
   ]
  },
  {
   "cell_type": "markdown",
   "metadata": {},
   "source": [
    "### Evaluating a Single Step of the Agent"
   ]
  },
  {
   "cell_type": "markdown",
   "metadata": {},
   "source": [
    "Agents generally perform multiple actions. While it is useful to evaluate them end-to-end, it can also be useful to evaluate these individual actions, similar to the concept of unit testing in software development. This generally involves evaluating a single step of the agent - the LLM call where it decides what to do.\n",
    "\n",
    "- Input: Input to a single step \n",
    "- Output: Output of that step, which is usually the LLM response\n",
    "![single-step](../images/single-step.png) "
   ]
  },
  {
   "cell_type": "markdown",
   "metadata": {},
   "source": [
    "#### 1. Create a Dataset for this Single Step"
   ]
  },
  {
   "cell_type": "code",
   "execution_count": 94,
   "metadata": {},
   "outputs": [],
   "source": [
    "\n",
    "examples = [\n",
    "    {\n",
    "        \"messages\": \"My customer ID is 1. What's my most recent purchase? and What albums does the catalog have by U2?\", \n",
    "        \"route\": 'transfer_to_invoice_information_subagent'\n",
    "    },\n",
    "    {\n",
    "        \"messages\": \"What songs do you have by U2?\", \n",
    "        \"route\": 'transfer_to_music_catalog_subagent'\n",
    "    },\n",
    "    {\n",
    "        \"messages\": \"My name is Aaron Mitchell. My number associated with my account is +1 (204) 452-6452. I am trying to find the invoice number for my most recent song purchase. Could you help me with it?\", \n",
    "        \"route\": 'transfer_to_invoice_information_subagent'\n",
    "    },\n",
    "    {\n",
    "        \"messages\": \"Hi I'm Luis. My phone number associated with my account is +55 (12) 3923-5555. I forgot my customer ID. Could you provide me with the information?\", \n",
    "        \"route\": 'transfer_to_customer_information_subagent'\n",
    "    },\n",
    "    {\n",
    "        \"messages\": \"Who recorded Wish You Were Here again? What other albums by them do you have?\", \n",
    "        \"route\": 'transfer_to_music_catalog_subagent'\n",
    "    }\n",
    "]\n",
    "\n",
    "\n",
    "dataset_name = \"LangGraph 101 Multi-Agent: Single-Step\"\n",
    "if not client.has_dataset(dataset_name=dataset_name):\n",
    "    dataset = client.create_dataset(dataset_name=dataset_name)\n",
    "    client.create_examples(\n",
    "        inputs = [{\"messages\": ex[\"messages\"]} for ex in examples],\n",
    "        outputs = [{\"route\": ex[\"route\"]} for ex in examples],\n",
    "        dataset_id=dataset.id\n",
    "    )"
   ]
  },
  {
   "cell_type": "markdown",
   "metadata": {},
   "source": [
    "#### 2. Define the Application Logic to Evaluate "
   ]
  },
  {
   "cell_type": "markdown",
   "metadata": {},
   "source": [
    "We only need to evaluate the supervisor routing step, so let's add a breakpoint right after the supervisor step."
   ]
  },
  {
   "cell_type": "code",
   "execution_count": 95,
   "metadata": {},
   "outputs": [],
   "source": [
    "async def run_supervisor_routing(inputs: dict):\n",
    "    result = await supervisor_prebuilt.ainvoke(\n",
    "        {\"messages\": [HumanMessage(content=inputs['messages'])]},\n",
    "        interrupt_before=[\"music_catalog_subagent\", \"invoice_information_subagent\"],\n",
    "        config={\"thread_id\": uuid.uuid4(), \"user_id\" : \"10\"}\n",
    "    )\n",
    "    return {\"route\": result[\"messages\"][-1].name}"
   ]
  },
  {
   "cell_type": "markdown",
   "metadata": {},
   "source": [
    "#### 3. Define the Evaluator"
   ]
  },
  {
   "cell_type": "code",
   "execution_count": 96,
   "metadata": {},
   "outputs": [],
   "source": [
    "def correct(outputs: dict, reference_outputs: dict) -> bool:\n",
    "    \"\"\"Check if the agent chose the correct route.\"\"\"\n",
    "    return outputs['route'] == reference_outputs[\"route\"]"
   ]
  },
  {
   "cell_type": "markdown",
   "metadata": {},
   "source": [
    "#### 4. Run the Evaluation"
   ]
  },
  {
   "cell_type": "code",
   "execution_count": null,
   "metadata": {},
   "outputs": [],
   "source": [
    "experiment_results = await client.aevaluate(\n",
    "    run_supervisor_routing,\n",
    "    data=dataset_name,\n",
    "    evaluators=[correct],\n",
    "    experiment_prefix=\"agent-o3mini-singlestep\",\n",
    "    max_concurrency=5,\n",
    ")"
   ]
  },
  {
   "cell_type": "markdown",
   "metadata": {},
   "source": [
    "### Evaluating the Trajectory of the Agent"
   ]
  },
  {
   "cell_type": "markdown",
   "metadata": {},
   "source": [
    "Evaluating an agent's trajectory involves evaluating all the steps an agent took. The evaluator here is some function over the steps taken. Examples of evaluators include an exact match for each tool name in the sequence or the number of \"incorrect\" steps taken.\n",
    "\n",
    "- Input: User input to the overall agent \n",
    "- Output: A list of steps taken.\n",
    "![trajectory](../images/trajectory.png) "
   ]
  },
  {
   "cell_type": "markdown",
   "metadata": {},
   "source": [
    "#### 1. Create a Dataset"
   ]
  },
  {
   "cell_type": "code",
   "execution_count": 49,
   "metadata": {},
   "outputs": [],
   "source": [
    "# Create a dataset\n",
    "examples = [\n",
    "    {\n",
    "        \"question\": \"My customer ID is 1. What's my most recent purchase? and What albums does the catalog have by U2?\",\n",
    "        \"trajectory\": [\"verify_info\", \"load_memory\", \"supervisor\", \"create_memory\"],\n",
    "    },\n",
    "    {\n",
    "        \"question\": \"What songs do you have by U2?\",\n",
    "        \"trajectory\": [\"verify_info\", \"human_input\", \"human_input\", \"verify_info\", \"human_input\"],\n",
    "    },\n",
    "    {\n",
    "        \"question\": \"My name is Aaron Mitchell. My number associated with my account is +1 (204) 452-6452. I am trying to find the invoice number for my most recent song purchase. Could you help me with it?\",\n",
    "        \"trajectory\": [\"verify_info\", \"load_memory\", \"supervisor\", \"create_memory\"],\n",
    "    },\n",
    "    {\n",
    "        \"question\": \"Hi I'm Luis. My phone number associated with my account is +55 (12) 3923-5555. I forgot my customer ID. Could you provide me with the information? \",\n",
    "        \"trajectory\": [\"verify_info\", \"load_memory\", \"supervisor\", \"create_memory\"],\n",
    "    },\n",
    "    {\n",
    "        \"question\": \"Who recorded Wish You Were Here again? What other albums by them do you have?\",\n",
    "        \"trajectory\": [\"verify_info\", \"human_input\", \"human_input\", \"verify_info\", \"human_input\"],\n",
    "    },\n",
    "]\n",
    "\n",
    "dataset_name = \"LangGraph 101 Multi-Agent: Trajectory Eval\"\n",
    "\n",
    "if not client.has_dataset(dataset_name=dataset_name):\n",
    "    dataset = client.create_dataset(dataset_name=dataset_name)\n",
    "    client.create_examples(\n",
    "        inputs=[{\"question\": ex[\"question\"]} for ex in examples],\n",
    "        outputs=[{\"trajectory\": ex[\"trajectory\"]} for ex in examples],\n",
    "        dataset_id=dataset.id\n",
    "    )"
   ]
  },
  {
   "cell_type": "markdown",
   "metadata": {},
   "source": [
    "#### 2. Define the Application Logic to Evaluate "
   ]
  },
  {
   "cell_type": "code",
   "execution_count": 50,
   "metadata": {},
   "outputs": [],
   "source": [
    "graph = multi_agent_final_graph\n",
    "\n",
    "async def run_graph(inputs: dict) -> dict:\n",
    "    \"\"\"Run graph and track the trajectory it takes along with the final response.\"\"\"\n",
    "    trajectory = []\n",
    "    thread_id = uuid.uuid4()\n",
    "    configuration = {\"thread_id\": thread_id, \"user_id\" : \"10\"}\n",
    "\n",
    "    # Run until interrupt \n",
    "    async for chunk in graph.astream({\"messages\": [\n",
    "            {\n",
    "                \"role\": \"user\",\n",
    "                \"content\": inputs['question'],\n",
    "            }\n",
    "        ]}, config = configuration, stream_mode=\"debug\"):\n",
    "        if chunk['type'] == 'task':\n",
    "            trajectory.append(chunk['payload']['name'])\n",
    "\n",
    "    # Resume from interrupt\n",
    "    async for chunk in graph.astream(Command(resume=\"\"), config = configuration, stream_mode=\"debug\"):\n",
    "        if chunk['type'] == 'task':\n",
    "            trajectory.append(chunk['payload']['name'])\n",
    "    return {\"trajectory\": trajectory}"
   ]
  },
  {
   "cell_type": "markdown",
   "metadata": {},
   "source": [
    "#### 3. Define the Evaluator"
   ]
  },
  {
   "cell_type": "code",
   "execution_count": 51,
   "metadata": {},
   "outputs": [],
   "source": [
    "def evaluate_exact_match(outputs: dict, reference_outputs: dict):\n",
    "    \"\"\"Evaluate whether the trajectory exactly matches the expected output\"\"\"\n",
    "    return {\n",
    "        \"key\": \"exact_match\", \n",
    "        \"score\": outputs[\"trajectory\"] == reference_outputs[\"trajectory\"]\n",
    "    }\n",
    "\n",
    "def evaluate_extra_steps(outputs: dict, reference_outputs: dict) -> dict:\n",
    "    \"\"\"Evaluate the number of unmatched steps in the agent's output.\"\"\"\n",
    "    i = j = 0\n",
    "    unmatched_steps = 0\n",
    "\n",
    "    while i < len(reference_outputs['trajectory']) and j < len(outputs['trajectory']):\n",
    "        if reference_outputs['trajectory'][i] == outputs['trajectory'][j]:\n",
    "            i += 1  # Match found, move to the next step in reference trajectory\n",
    "        else:\n",
    "            unmatched_steps += 1  # Step is not part of the reference trajectory\n",
    "        j += 1  # Always move to the next step in outputs trajectory\n",
    "\n",
    "    # Count remaining unmatched steps in outputs beyond the comparison loop\n",
    "    unmatched_steps += len(outputs['trajectory']) - j\n",
    "\n",
    "    return {\n",
    "        \"key\": \"unmatched_steps\",\n",
    "        \"score\": unmatched_steps,\n",
    "    }"
   ]
  },
  {
   "cell_type": "markdown",
   "metadata": {},
   "source": [
    "#### 4. Run the Evaluation"
   ]
  },
  {
   "cell_type": "code",
   "execution_count": null,
   "metadata": {},
   "outputs": [],
   "source": [
    "experiment_results = await client.aevaluate(\n",
    "    run_graph,\n",
    "    data=dataset_name,\n",
    "    evaluators=[evaluate_extra_steps, evaluate_exact_match],\n",
    "    experiment_prefix=\"agent-o3mini-trajectory\",\n",
    "    num_repetitions=1,\n",
    "    max_concurrency=4,\n",
    ")"
   ]
  }
 ],
 "metadata": {
  "kernelspec": {
   "display_name": ".venv",
   "language": "python",
   "name": "python3"
  },
  "language_info": {
   "codemirror_mode": {
    "name": "ipython",
    "version": 3
   },
   "file_extension": ".py",
   "mimetype": "text/x-python",
   "name": "python",
   "nbconvert_exporter": "python",
   "pygments_lexer": "ipython3",
   "version": "3.13.3"
  }
 },
 "nbformat": 4,
 "nbformat_minor": 4
}
